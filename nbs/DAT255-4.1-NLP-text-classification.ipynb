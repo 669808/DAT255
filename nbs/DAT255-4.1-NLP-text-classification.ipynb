{
 "cells": [
  {
   "cell_type": "markdown",
   "metadata": {},
   "source": [
    "A.S. Lundervold, 29.02.2024"
   ]
  },
  {
   "cell_type": "markdown",
   "metadata": {},
   "source": [
    "***Under construction***"
   ]
  },
  {
   "cell_type": "markdown",
   "metadata": {},
   "source": [
    "# Introduction"
   ]
  },
  {
   "cell_type": "markdown",
   "metadata": {
    "vscode": {
     "languageId": "plaintext"
    }
   },
   "source": [
    "This notebook steps through an example of text classification using fastai's ULMFiT and DistilBERT models via Hugging Face's Transformers library.\n",
    "\n",
    "> Be sure to also work through [Chapter 10](https://github.com/fastai/fastbook/blob/master/10_nlp.ipynb) of the fastai textbook and [Lesson 4](https://course.fast.ai/Lessons/lesson4.html) of the fastai course."
   ]
  },
  {
   "cell_type": "markdown",
   "metadata": {},
   "source": [
    "# Setup"
   ]
  },
  {
   "cell_type": "code",
   "execution_count": 1,
   "metadata": {},
   "outputs": [],
   "source": [
    "%matplotlib inline\n",
    "from pathlib import Path\n",
    "import os, sys\n",
    "import numpy as np, pandas as pd, matplotlib.pyplot as plt\n",
    "\n",
    "from fastcore.all import *"
   ]
  },
  {
   "cell_type": "code",
   "execution_count": 2,
   "metadata": {},
   "outputs": [
    {
     "data": {
      "text/plain": [
       "Path('/home/alex/data/dat255')"
      ]
     },
     "execution_count": 2,
     "metadata": {},
     "output_type": "execute_result"
    }
   ],
   "source": [
    "DATA = Path.home() /'data'/'dat255'\n",
    "DATA"
   ]
  },
  {
   "cell_type": "markdown",
   "metadata": {},
   "source": [
    "# Load data"
   ]
  },
  {
   "cell_type": "markdown",
   "metadata": {},
   "source": [
    "We can find many datasets on the Hugging Face Hub:"
   ]
  },
  {
   "cell_type": "code",
   "execution_count": 3,
   "metadata": {},
   "outputs": [],
   "source": [
    "from huggingface_hub import HfApi"
   ]
  },
  {
   "cell_type": "code",
   "execution_count": 4,
   "metadata": {},
   "outputs": [],
   "source": [
    "api = HfApi()"
   ]
  },
  {
   "cell_type": "markdown",
   "metadata": {},
   "source": [
    "Here's a list of all the available datasets. There are a lot!"
   ]
  },
  {
   "cell_type": "code",
   "execution_count": 6,
   "metadata": {},
   "outputs": [
    {
     "data": {
      "text/plain": [
       "112863"
      ]
     },
     "execution_count": 6,
     "metadata": {},
     "output_type": "execute_result"
    }
   ],
   "source": [
    "len(list(api.list_datasets()))"
   ]
  },
  {
   "cell_type": "markdown",
   "metadata": {},
   "source": [
    "Here are the 20 most popular datasets:"
   ]
  },
  {
   "cell_type": "code",
   "execution_count": 6,
   "metadata": {},
   "outputs": [
    {
     "data": {
      "text/plain": [
       "[DatasetInfo(id='argilla/databricks-dolly-15k-curated-en', author='argilla', sha='4dcd1dedbe148307a833c931b21ca456a1fc4281', created_at=datetime.datetime(2023, 5, 30, 8, 54, 44, tzinfo=datetime.timezone.utc), last_modified=datetime.datetime(2023, 10, 2, 11, 32, 53, tzinfo=datetime.timezone.utc), private=False, gated=False, disabled=False, downloads=10271035, likes=30, paperswithcode_id=None, tags=['language:en', 'croissant', 'region:us'], card_data=None, siblings=None),\n",
       " DatasetInfo(id='hails/mmlu_no_train', author='hails', sha='7f9d4f237bd7496914f430fa600c73017331885f', created_at=datetime.datetime(2023, 10, 31, 17, 25, 54, tzinfo=datetime.timezone.utc), last_modified=datetime.datetime(2024, 1, 22, 20, 46, 30, tzinfo=datetime.timezone.utc), private=False, gated=False, disabled=False, downloads=6398747, likes=2, paperswithcode_id=None, tags=['task_categories:question-answering', 'language:en', 'license:mit', 'region:us'], card_data=None, siblings=None),\n",
       " DatasetInfo(id='cais/mmlu', author='cais', sha='7a00892cd331d78a88c8c869d0224a5cdd149848', created_at=datetime.datetime(2022, 3, 2, 23, 29, 22, tzinfo=datetime.timezone.utc), last_modified=datetime.datetime(2023, 10, 7, 10, 24, 5, tzinfo=datetime.timezone.utc), private=False, gated=False, disabled=False, downloads=5743463, likes=159, paperswithcode_id='mmlu', tags=['task_categories:question-answering', 'task_ids:multiple-choice-qa', 'annotations_creators:no-annotation', 'language_creators:expert-generated', 'multilinguality:monolingual', 'size_categories:10K<n<100K', 'source_datasets:original', 'language:en', 'license:mit', 'arxiv:2009.03300', 'arxiv:2005.00700', 'arxiv:2005.14165', 'arxiv:2008.02275', 'region:us'], card_data=None, siblings=None),\n",
       " DatasetInfo(id='etechgrid/Prompts_for_Voice_cloning_and_TTS', author='etechgrid', sha='de22d921fea56770002280d23fe286aeb6b7bd2a', created_at=datetime.datetime(2024, 1, 1, 15, 57, 4, tzinfo=datetime.timezone.utc), last_modified=datetime.datetime(2024, 2, 6, 10, 39, 28, tzinfo=datetime.timezone.utc), private=False, gated=False, disabled=False, downloads=3400677, likes=4, paperswithcode_id=None, tags=['license:mit', 'croissant', 'region:us'], card_data=None, siblings=None),\n",
       " DatasetInfo(id='lukaemon/mmlu', author='lukaemon', sha='3b5949d968d1fbc3facce39769ba00aa13404ffc', created_at=datetime.datetime(2023, 2, 2, 0, 42, 27, tzinfo=datetime.timezone.utc), last_modified=datetime.datetime(2023, 2, 2, 2, 38, 44, tzinfo=datetime.timezone.utc), private=False, gated=False, disabled=False, downloads=2148830, likes=44, paperswithcode_id=None, tags=['croissant', 'region:us'], card_data=None, siblings=None),\n",
       " DatasetInfo(id='wiki_dpr', author=None, sha='b24a417d802a583f8922946c1c75210290e93108', created_at=datetime.datetime(2022, 3, 2, 23, 29, 22, tzinfo=datetime.timezone.utc), last_modified=datetime.datetime(2024, 1, 30, 15, 16, 56, tzinfo=datetime.timezone.utc), private=False, gated=False, disabled=False, downloads=1814274, likes=22, paperswithcode_id=None, tags=['task_categories:fill-mask', 'task_categories:text-generation', 'task_ids:language-modeling', 'task_ids:masked-language-modeling', 'annotations_creators:no-annotation', 'language_creators:crowdsourced', 'multilinguality:multilingual', 'size_categories:10M<n<100M', 'source_datasets:original', 'language:en', 'license:cc-by-nc-4.0', 'text-search', 'croissant', 'arxiv:2004.04906', 'region:us'], card_data=None, siblings=None),\n",
       " DatasetInfo(id='wikitext', author=None, sha='b08601e04326c79dfdd32d625aee71d232d685c3', created_at=datetime.datetime(2022, 3, 2, 23, 29, 22, tzinfo=datetime.timezone.utc), last_modified=datetime.datetime(2024, 1, 4, 16, 49, 18, tzinfo=datetime.timezone.utc), private=False, gated=False, disabled=False, downloads=1165721, likes=250, paperswithcode_id='wikitext-2', tags=['task_categories:text-generation', 'task_categories:fill-mask', 'task_ids:language-modeling', 'task_ids:masked-language-modeling', 'annotations_creators:no-annotation', 'language_creators:crowdsourced', 'multilinguality:monolingual', 'size_categories:1M<n<10M', 'source_datasets:original', 'language:en', 'license:cc-by-sa-3.0', 'license:gfdl', 'croissant', 'arxiv:1609.07843', 'region:us'], card_data=None, siblings=None),\n",
       " DatasetInfo(id='glue', author=None, sha='bcdcba79d07bc864c1c254ccfcedcce55bcc9a8c', created_at=datetime.datetime(2022, 3, 2, 23, 29, 22, tzinfo=datetime.timezone.utc), last_modified=datetime.datetime(2024, 1, 30, 7, 41, 18, tzinfo=datetime.timezone.utc), private=False, gated=False, disabled=False, downloads=1063917, likes=285, paperswithcode_id='glue', tags=['task_categories:text-classification', 'task_ids:acceptability-classification', 'task_ids:natural-language-inference', 'task_ids:semantic-similarity-scoring', 'task_ids:sentiment-classification', 'task_ids:text-scoring', 'annotations_creators:other', 'language_creators:other', 'multilinguality:monolingual', 'size_categories:10K<n<100K', 'source_datasets:original', 'language:en', 'license:other', 'qa-nli', 'coreference-nli', 'paraphrase-identification', 'croissant', 'arxiv:1804.07461', 'region:us'], card_data=None, siblings=None),\n",
       " DatasetInfo(id='lavita/medical-qa-shared-task-v1-toy', author='lavita', sha='a1cbb5ce2b697b2377f49cad89ea6387a7efd3fa', created_at=datetime.datetime(2023, 7, 19, 23, 28, 51, tzinfo=datetime.timezone.utc), last_modified=datetime.datetime(2023, 7, 19, 23, 29, 6, tzinfo=datetime.timezone.utc), private=False, gated=False, disabled=False, downloads=575461, likes=5, paperswithcode_id=None, tags=['croissant', 'region:us'], card_data=None, siblings=None),\n",
       " DatasetInfo(id='etechgrid/prompts_for_TTM', author='etechgrid', sha='469da0aeda865737cf397cae8d3c3f201e9f4623', created_at=datetime.datetime(2024, 2, 12, 10, 36, 28, tzinfo=datetime.timezone.utc), last_modified=datetime.datetime(2024, 2, 12, 10, 37, 46, tzinfo=datetime.timezone.utc), private=False, gated=False, disabled=False, downloads=514166, likes=0, paperswithcode_id=None, tags=['croissant', 'region:us'], card_data=None, siblings=None),\n",
       " DatasetInfo(id='squad', author=None, sha='0a3a8b7b57e8578ec40b2d2bb4c75aca1a6d6ce1', created_at=datetime.datetime(2022, 3, 2, 23, 29, 22, tzinfo=datetime.timezone.utc), last_modified=datetime.datetime(2024, 1, 4, 16, 29, 19, tzinfo=datetime.timezone.utc), private=False, gated=False, disabled=False, downloads=408997, likes=184, paperswithcode_id='squad', tags=['task_categories:question-answering', 'task_ids:extractive-qa', 'annotations_creators:crowdsourced', 'language_creators:crowdsourced', 'language_creators:found', 'multilinguality:monolingual', 'size_categories:10K<n<100K', 'source_datasets:extended|wikipedia', 'language:en', 'license:cc-by-4.0', 'croissant', 'arxiv:1606.05250', 'region:us'], card_data=None, siblings=None),\n",
       " DatasetInfo(id='ceval/ceval-exam', author='ceval', sha='3923b519fd180e689d0961bf3a032ece929742f3', created_at=datetime.datetime(2023, 5, 16, 0, 47, 44, tzinfo=datetime.timezone.utc), last_modified=datetime.datetime(2023, 8, 31, 13, 4, 10, tzinfo=datetime.timezone.utc), private=False, gated=False, disabled=False, downloads=388029, likes=184, paperswithcode_id=None, tags=['task_categories:text-classification', 'task_categories:multiple-choice', 'task_categories:question-answering', 'size_categories:10K<n<100K', 'language:zh', 'license:cc-by-nc-sa-4.0', 'croissant', 'arxiv:2305.08322', 'region:us'], card_data=None, siblings=None),\n",
       " DatasetInfo(id='super_glue', author=None, sha='b051de3f07b5fd5ab80398a4836458db56234e24', created_at=datetime.datetime(2022, 3, 2, 23, 29, 22, tzinfo=datetime.timezone.utc), last_modified=datetime.datetime(2024, 1, 29, 13, 7, 56, tzinfo=datetime.timezone.utc), private=False, gated=False, disabled=False, downloads=373166, likes=129, paperswithcode_id='superglue', tags=['task_categories:text-classification', 'task_categories:token-classification', 'task_categories:question-answering', 'task_ids:natural-language-inference', 'task_ids:word-sense-disambiguation', 'task_ids:coreference-resolution', 'task_ids:extractive-qa', 'annotations_creators:expert-generated', 'language_creators:other', 'multilinguality:monolingual', 'size_categories:10K<n<100K', 'source_datasets:extended|other', 'language:en', 'license:other', 'superglue', 'NLU', 'natural language understanding', 'croissant', 'arxiv:1905.00537', 'region:us'], card_data=None, siblings=None),\n",
       " DatasetInfo(id='wikipedia', author=None, sha='4d013bdd32c475c8536aae00a56efc774f061649', created_at=datetime.datetime(2022, 3, 2, 23, 29, 22, tzinfo=datetime.timezone.utc), last_modified=datetime.datetime(2024, 1, 18, 11, 18, 16, tzinfo=datetime.timezone.utc), private=False, gated=False, disabled=False, downloads=338066, likes=403, paperswithcode_id=None, tags=['task_categories:text-generation', 'task_categories:fill-mask', 'task_ids:language-modeling', 'task_ids:masked-language-modeling', 'annotations_creators:no-annotation', 'language_creators:crowdsourced', 'multilinguality:multilingual', 'size_categories:n<1K', 'size_categories:1K<n<10K', 'size_categories:10K<n<100K', 'size_categories:100K<n<1M', 'size_categories:1M<n<10M', 'source_datasets:original', 'language:aa', 'language:ab', 'language:ace', 'language:af', 'language:ak', 'language:als', 'language:am', 'language:an', 'language:ang', 'language:ar', 'language:arc', 'language:arz', 'language:as', 'language:ast', 'language:atj', 'language:av', 'language:ay', 'language:az', 'language:azb', 'language:ba', 'language:bar', 'language:bcl', 'language:be', 'language:bg', 'language:bh', 'language:bi', 'language:bjn', 'language:bm', 'language:bn', 'language:bo', 'language:bpy', 'language:br', 'language:bs', 'language:bug', 'language:bxr', 'language:ca', 'language:cbk', 'language:cdo', 'language:ce', 'language:ceb', 'language:ch', 'language:cho', 'language:chr', 'language:chy', 'language:ckb', 'language:co', 'language:cr', 'language:crh', 'language:cs', 'language:csb', 'language:cu', 'language:cv', 'language:cy', 'language:da', 'language:de', 'language:din', 'language:diq', 'language:dsb', 'language:dty', 'language:dv', 'language:dz', 'language:ee', 'language:el', 'language:eml', 'language:en', 'language:eo', 'language:es', 'language:et', 'language:eu', 'language:ext', 'language:fa', 'language:ff', 'language:fi', 'language:fj', 'language:fo', 'language:fr', 'language:frp', 'language:frr', 'language:fur', 'language:fy', 'language:ga', 'language:gag', 'language:gan', 'language:gd', 'language:gl', 'language:glk', 'language:gn', 'language:gom', 'language:gor', 'language:got', 'language:gu', 'language:gv', 'language:ha', 'language:hak', 'language:haw', 'language:he', 'language:hi', 'language:hif', 'language:ho', 'language:hr', 'language:hsb', 'language:ht', 'language:hu', 'language:hy', 'language:ia', 'language:id', 'language:ie', 'language:ig', 'language:ii', 'language:ik', 'language:ilo', 'language:inh', 'language:io', 'language:is', 'language:it', 'language:iu', 'language:ja', 'language:jam', 'language:jbo', 'language:jv', 'language:ka', 'language:kaa', 'language:kab', 'language:kbd', 'language:kbp', 'language:kg', 'language:ki', 'language:kj', 'language:kk', 'language:kl', 'language:km', 'language:kn', 'language:ko', 'language:koi', 'language:krc', 'language:ks', 'language:ksh', 'language:ku', 'language:kv', 'language:kw', 'language:ky', 'language:la', 'language:lad', 'language:lb', 'language:lbe', 'language:lez', 'language:lfn', 'language:lg', 'language:li', 'language:lij', 'language:lmo', 'language:ln', 'language:lo', 'language:lrc', 'language:lt', 'language:ltg', 'language:lv', 'language:lzh', 'language:mai', 'language:mdf', 'language:mg', 'language:mh', 'language:mhr', 'language:mi', 'language:min', 'language:mk', 'language:ml', 'language:mn', 'language:mr', 'language:mrj', 'language:ms', 'language:mt', 'language:mus', 'language:mwl', 'language:my', 'language:myv', 'language:mzn', 'language:na', 'language:nah', 'language:nan', 'language:nap', 'language:nds', 'language:ne', 'language:new', 'language:ng', 'language:nl', 'language:nn', 'language:no', 'language:nov', 'language:nrf', 'language:nso', 'language:nv', 'language:ny', 'language:oc', 'language:olo', 'language:om', 'language:or', 'language:os', 'language:pa', 'language:pag', 'language:pam', 'language:pap', 'language:pcd', 'language:pdc', 'language:pfl', 'language:pi', 'language:pih', 'language:pl', 'language:pms', 'language:pnb', 'language:pnt', 'language:ps', 'language:pt', 'language:qu', 'language:rm', 'language:rmy', 'language:rn', 'language:ro', 'language:ru', 'language:rue', 'language:rup', 'language:rw', 'language:sa', 'language:sah', 'language:sat', 'language:sc', 'language:scn', 'language:sco', 'language:sd', 'language:se', 'language:sg', 'language:sgs', 'language:sh', 'language:si', 'language:sk', 'language:sl', 'language:sm', 'language:sn', 'language:so', 'language:sq', 'language:sr', 'language:srn', 'language:ss', 'language:st', 'language:stq', 'language:su', 'language:sv', 'language:sw', 'language:szl', 'language:ta', 'language:tcy', 'language:tdt', 'language:te', 'language:tg', 'language:th', 'language:ti', 'language:tk', 'language:tl', 'language:tn', 'language:to', 'language:tpi', 'language:tr', 'language:ts', 'language:tt', 'language:tum', 'language:tw', 'language:ty', 'language:tyv', 'language:udm', 'language:ug', 'language:uk', 'language:ur', 'language:uz', 'language:ve', 'language:vec', 'language:vep', 'language:vi', 'language:vls', 'language:vo', 'language:vro', 'language:wa', 'language:war', 'language:wo', 'language:wuu', 'language:xal', 'language:xh', 'language:xmf', 'language:yi', 'language:yo', 'language:yue', 'language:za', 'language:zea', 'language:zh', 'language:zu', 'license:cc-by-sa-3.0', 'license:gfdl', 'region:us'], card_data=None, siblings=None),\n",
       " DatasetInfo(id='imdb', author=None, sha='e6281661ce1c48d982bc483cf8a173c1bbeb5d31', created_at=datetime.datetime(2022, 3, 2, 23, 29, 22, tzinfo=datetime.timezone.utc), last_modified=datetime.datetime(2024, 1, 4, 12, 9, 45, tzinfo=datetime.timezone.utc), private=False, gated=False, disabled=False, downloads=301275, likes=163, paperswithcode_id='imdb-movie-reviews', tags=['task_categories:text-classification', 'task_ids:sentiment-classification', 'annotations_creators:expert-generated', 'language_creators:expert-generated', 'multilinguality:monolingual', 'size_categories:10K<n<100K', 'source_datasets:original', 'language:en', 'license:other', 'croissant', 'region:us'], card_data=None, siblings=None),\n",
       " DatasetInfo(id='truthful_qa', author=None, sha='741b8276f2d1982aa3d5b832d3ee81ed3b896490', created_at=datetime.datetime(2022, 6, 8, 13, 44, 6, tzinfo=datetime.timezone.utc), last_modified=datetime.datetime(2024, 1, 4, 16, 36, tzinfo=datetime.timezone.utc), private=False, gated=False, disabled=False, downloads=296079, likes=138, paperswithcode_id='truthfulqa', tags=['task_categories:multiple-choice', 'task_categories:text-generation', 'task_categories:question-answering', 'task_ids:multiple-choice-qa', 'task_ids:language-modeling', 'task_ids:open-domain-qa', 'annotations_creators:expert-generated', 'language_creators:expert-generated', 'multilinguality:monolingual', 'size_categories:n<1K', 'source_datasets:original', 'language:en', 'license:apache-2.0', 'croissant', 'arxiv:2109.07958', 'region:us'], card_data=None, siblings=None),\n",
       " DatasetInfo(id='ag_news', author=None, sha='68a83b6cd4730be5e0ecbdbee941eef8f13aa867', created_at=datetime.datetime(2022, 3, 2, 23, 29, 22, tzinfo=datetime.timezone.utc), last_modified=datetime.datetime(2024, 1, 18, 10, 52, 9, tzinfo=datetime.timezone.utc), private=False, gated=False, disabled=False, downloads=275107, likes=95, paperswithcode_id='ag-news', tags=['task_categories:text-classification', 'task_ids:topic-classification', 'annotations_creators:found', 'language_creators:found', 'multilinguality:monolingual', 'size_categories:100K<n<1M', 'source_datasets:original', 'language:en', 'license:unknown', 'croissant', 'region:us'], card_data=None, siblings=None),\n",
       " DatasetInfo(id='samsum', author=None, sha='f00baf5a7d4abfec6820415493bcb52c587788e6', created_at=datetime.datetime(2022, 3, 2, 23, 29, 22, tzinfo=datetime.timezone.utc), last_modified=datetime.datetime(2024, 1, 18, 11, 15, 13, tzinfo=datetime.timezone.utc), private=False, gated=False, disabled=False, downloads=270892, likes=230, paperswithcode_id='samsum-corpus', tags=['task_categories:summarization', 'annotations_creators:expert-generated', 'language_creators:expert-generated', 'multilinguality:monolingual', 'size_categories:10K<n<100K', 'source_datasets:original', 'language:en', 'license:cc-by-nc-nd-4.0', 'conversations-summarization', 'croissant', 'arxiv:1911.12237', 'region:us'], card_data=None, siblings=None),\n",
       " DatasetInfo(id='winogrande', author=None, sha='85ac5b5a3b7a930e22d590176e39460400d19e41', created_at=datetime.datetime(2022, 3, 2, 23, 29, 22, tzinfo=datetime.timezone.utc), last_modified=datetime.datetime(2024, 1, 18, 11, 18, 22, tzinfo=datetime.timezone.utc), private=False, gated=False, disabled=False, downloads=266460, likes=35, paperswithcode_id='winogrande', tags=['language:en', 'croissant', 'region:us'], card_data=None, siblings=None),\n",
       " DatasetInfo(id='cifar10', author=None, sha='0b2714987fa478483af9968de7c934580d0bb9a2', created_at=datetime.datetime(2022, 3, 2, 23, 29, 22, tzinfo=datetime.timezone.utc), last_modified=datetime.datetime(2024, 1, 4, 6, 53, 11, tzinfo=datetime.timezone.utc), private=False, gated=False, disabled=False, downloads=263408, likes=35, paperswithcode_id='cifar-10', tags=['task_categories:image-classification', 'annotations_creators:crowdsourced', 'language_creators:found', 'multilinguality:monolingual', 'size_categories:10K<n<100K', 'source_datasets:extended|other-80-Million-Tiny-Images', 'language:en', 'license:unknown', 'croissant', 'region:us'], card_data=None, siblings=None)]"
      ]
     },
     "execution_count": 6,
     "metadata": {},
     "output_type": "execute_result"
    }
   ],
   "source": [
    "list(api.list_datasets(sort=\"downloads\", direction=-1))[:20]"
   ]
  },
  {
   "cell_type": "markdown",
   "metadata": {},
   "source": [
    "In this notebook, we'll use the `emotion` dataset sourced from [CARER: Contextualized Affect Representations for Emotion Recognition](https://aclanthology.org/D18-1404) (Saravia et al., EMNLP 2018). This dataset contains 16,000 tweets, each labeled with one of 6 emotions: anger, fear, joy, love, sadness, and surprise."
   ]
  },
  {
   "cell_type": "code",
   "execution_count": 5,
   "metadata": {},
   "outputs": [
    {
     "name": "stderr",
     "output_type": "stream",
     "text": [
      "/home/alex/anaconda3/envs/fastai/lib/python3.11/site-packages/datasets/load.py:1454: FutureWarning: The repository for emotion contains custom code which must be executed to correctly load the dataset. You can inspect the repository content at https://hf.co/datasets/emotion\n",
      "You can avoid this message in future by passing the argument `trust_remote_code=True`.\n",
      "Passing `trust_remote_code=True` will be mandatory to load this dataset from the next major release of `datasets`.\n",
      "  warnings.warn(\n"
     ]
    }
   ],
   "source": [
    "from datasets import load_dataset\n",
    "emotion = load_dataset(\"emotion\", cache_dir=DATA)"
   ]
  },
  {
   "cell_type": "code",
   "execution_count": 9,
   "metadata": {},
   "outputs": [
    {
     "data": {
      "text/plain": [
       "DatasetDict({\n",
       "    train: Dataset({\n",
       "        features: ['text', 'label'],\n",
       "        num_rows: 16000\n",
       "    })\n",
       "    validation: Dataset({\n",
       "        features: ['text', 'label'],\n",
       "        num_rows: 2000\n",
       "    })\n",
       "    test: Dataset({\n",
       "        features: ['text', 'label'],\n",
       "        num_rows: 2000\n",
       "    })\n",
       "})"
      ]
     },
     "execution_count": 9,
     "metadata": {},
     "output_type": "execute_result"
    }
   ],
   "source": [
    "emotion"
   ]
  },
  {
   "cell_type": "markdown",
   "metadata": {},
   "source": [
    "Here are the first few tweets and their corresponding emotions:"
   ]
  },
  {
   "cell_type": "code",
   "execution_count": 10,
   "metadata": {},
   "outputs": [
    {
     "data": {
      "text/plain": [
       "{'text': ['i didnt feel humiliated',\n",
       "  'i can go from feeling so hopeless to so damned hopeful just from being around someone who cares and is awake',\n",
       "  'im grabbing a minute to post i feel greedy wrong',\n",
       "  'i am ever feeling nostalgic about the fireplace i will know that it is still on the property',\n",
       "  'i am feeling grouchy'],\n",
       " 'label': [0, 0, 3, 2, 3]}"
      ]
     },
     "execution_count": 10,
     "metadata": {},
     "output_type": "execute_result"
    }
   ],
   "source": [
    "emotion['train'][0:5]"
   ]
  },
  {
   "cell_type": "markdown",
   "metadata": {},
   "source": [
    "For convenience, we'll store the data in a Pandas DataFrame."
   ]
  },
  {
   "cell_type": "code",
   "execution_count": 11,
   "metadata": {},
   "outputs": [],
   "source": [
    "# For convenience, we'll store the data in a Pandas DataFrame, adding a \"usage\" column indicating train, validation, test\n",
    "df = pd.concat([pd.DataFrame(emotion['train']), pd.DataFrame(emotion['validation']), pd.DataFrame(emotion['test'])])\n",
    "\n",
    "# Add named labels\n",
    "idx_to_emotion = dict(enumerate(emotion['train'].features['label'].names))\n",
    "df['named_label'] = df['label'].map(idx_to_emotion)\n",
    "\n",
    "# Add \"usage\" column\n",
    "df['usage'] = np.array(['train']*len(emotion['train']) + ['valid']*len(emotion['validation']) + ['test']*len(emotion['test']))"
   ]
  },
  {
   "cell_type": "code",
   "execution_count": 12,
   "metadata": {},
   "outputs": [],
   "source": [
    "pd.set_option('display.max_colwidth', None)"
   ]
  },
  {
   "cell_type": "code",
   "execution_count": 13,
   "metadata": {},
   "outputs": [
    {
     "data": {
      "text/html": [
       "<div>\n",
       "<style scoped>\n",
       "    .dataframe tbody tr th:only-of-type {\n",
       "        vertical-align: middle;\n",
       "    }\n",
       "\n",
       "    .dataframe tbody tr th {\n",
       "        vertical-align: top;\n",
       "    }\n",
       "\n",
       "    .dataframe thead th {\n",
       "        text-align: right;\n",
       "    }\n",
       "</style>\n",
       "<table border=\"1\" class=\"dataframe\">\n",
       "  <thead>\n",
       "    <tr style=\"text-align: right;\">\n",
       "      <th></th>\n",
       "      <th>text</th>\n",
       "      <th>label</th>\n",
       "      <th>named_label</th>\n",
       "      <th>usage</th>\n",
       "    </tr>\n",
       "  </thead>\n",
       "  <tbody>\n",
       "    <tr>\n",
       "      <th>0</th>\n",
       "      <td>i didnt feel humiliated</td>\n",
       "      <td>0</td>\n",
       "      <td>sadness</td>\n",
       "      <td>train</td>\n",
       "    </tr>\n",
       "    <tr>\n",
       "      <th>1</th>\n",
       "      <td>i can go from feeling so hopeless to so damned hopeful just from being around someone who cares and is awake</td>\n",
       "      <td>0</td>\n",
       "      <td>sadness</td>\n",
       "      <td>train</td>\n",
       "    </tr>\n",
       "    <tr>\n",
       "      <th>2</th>\n",
       "      <td>im grabbing a minute to post i feel greedy wrong</td>\n",
       "      <td>3</td>\n",
       "      <td>anger</td>\n",
       "      <td>train</td>\n",
       "    </tr>\n",
       "    <tr>\n",
       "      <th>3</th>\n",
       "      <td>i am ever feeling nostalgic about the fireplace i will know that it is still on the property</td>\n",
       "      <td>2</td>\n",
       "      <td>love</td>\n",
       "      <td>train</td>\n",
       "    </tr>\n",
       "    <tr>\n",
       "      <th>4</th>\n",
       "      <td>i am feeling grouchy</td>\n",
       "      <td>3</td>\n",
       "      <td>anger</td>\n",
       "      <td>train</td>\n",
       "    </tr>\n",
       "  </tbody>\n",
       "</table>\n",
       "</div>"
      ],
      "text/plain": [
       "                                                                                                           text  \\\n",
       "0                                                                                       i didnt feel humiliated   \n",
       "1  i can go from feeling so hopeless to so damned hopeful just from being around someone who cares and is awake   \n",
       "2                                                              im grabbing a minute to post i feel greedy wrong   \n",
       "3                  i am ever feeling nostalgic about the fireplace i will know that it is still on the property   \n",
       "4                                                                                          i am feeling grouchy   \n",
       "\n",
       "   label named_label  usage  \n",
       "0      0     sadness  train  \n",
       "1      0     sadness  train  \n",
       "2      3       anger  train  \n",
       "3      2        love  train  \n",
       "4      3       anger  train  "
      ]
     },
     "execution_count": 13,
     "metadata": {},
     "output_type": "execute_result"
    }
   ],
   "source": [
    "df.head()"
   ]
  },
  {
   "cell_type": "code",
   "execution_count": 14,
   "metadata": {},
   "outputs": [
    {
     "data": {
      "text/plain": [
       "usage\n",
       "train    16000\n",
       "valid     2000\n",
       "test      2000\n",
       "Name: count, dtype: int64"
      ]
     },
     "execution_count": 14,
     "metadata": {},
     "output_type": "execute_result"
    }
   ],
   "source": [
    "df.usage.value_counts()"
   ]
  },
  {
   "cell_type": "markdown",
   "metadata": {},
   "source": [
    "The task is to classify each tweet into one of the six emotions.\n"
   ]
  },
  {
   "cell_type": "markdown",
   "metadata": {},
   "source": [
    "# Ulmfit using fastai"
   ]
  },
  {
   "cell_type": "markdown",
   "metadata": {},
   "source": [
    "Remember from fastai that the ULMFiT approach consists of three steps:\n",
    "\n",
    "0. **LM pretraining**: Train a language model on a large corpus of text.\n",
    "1. **LM fine-tuning**: Fine-tune the language model on the target dataset.\n",
    "2. **Classifier training**: Fine-tune a classifier built from the LM on the target dataset.\n",
    "\n",
    "In our case, we'll skip the LM pretraining and use a model that's been trained on text from Wikipedia (the [Wikitext-103 data set](https://developer.ibm.com/exchanges/data/all/wikitext-103/)). "
   ]
  },
  {
   "cell_type": "markdown",
   "metadata": {},
   "source": [
    "Here's an illustration of the approach taken from fastai: \n",
    "\n",
    "<img width=80% src=\"https://docs.fast.ai/images/ulmfit.png\"><br><small>Figure from https://docs.fast.ai/tutorial.text.html</small>"
   ]
  },
  {
   "cell_type": "code",
   "execution_count": 15,
   "metadata": {},
   "outputs": [],
   "source": [
    "from fastai.text.all import *"
   ]
  },
  {
   "cell_type": "markdown",
   "metadata": {},
   "source": [
    "For convenience when using fastai, we add indicator variables for the training, testing and validation sets. We also separate the training and validation dataframe from the one containing test data (which we'll use for the final evaluation)."
   ]
  },
  {
   "cell_type": "code",
   "execution_count": 16,
   "metadata": {},
   "outputs": [],
   "source": [
    "df.loc[:, 'is_test'] = df.usage=='test'"
   ]
  },
  {
   "cell_type": "code",
   "execution_count": 19,
   "metadata": {},
   "outputs": [],
   "source": [
    "df_train = df[(df.usage=='train') | (df.usage=='valid')].copy()\n",
    "df_test = df[df.usage=='test']"
   ]
  },
  {
   "cell_type": "code",
   "execution_count": 20,
   "metadata": {},
   "outputs": [],
   "source": [
    "df_train.loc[:, 'is_valid'] = df_train.usage=='valid'"
   ]
  },
  {
   "cell_type": "code",
   "execution_count": 21,
   "metadata": {},
   "outputs": [
    {
     "data": {
      "text/plain": [
       "is_test\n",
       "False    18000\n",
       "True      2000\n",
       "Name: count, dtype: int64"
      ]
     },
     "execution_count": 21,
     "metadata": {},
     "output_type": "execute_result"
    }
   ],
   "source": [
    "df.is_test.value_counts()"
   ]
  },
  {
   "cell_type": "code",
   "execution_count": 22,
   "metadata": {},
   "outputs": [
    {
     "data": {
      "text/plain": [
       "is_valid\n",
       "False    16000\n",
       "True      2000\n",
       "Name: count, dtype: int64"
      ]
     },
     "execution_count": 22,
     "metadata": {},
     "output_type": "execute_result"
    }
   ],
   "source": [
    "df_train.is_valid.value_counts()"
   ]
  },
  {
   "cell_type": "markdown",
   "metadata": {},
   "source": [
    "## Step 1: Fine-tune the language model"
   ]
  },
  {
   "cell_type": "code",
   "execution_count": 23,
   "metadata": {},
   "outputs": [
    {
     "data": {
      "text/html": [
       "\n",
       "<style>\n",
       "    /* Turns off some styling */\n",
       "    progress {\n",
       "        /* gets rid of default border in Firefox and Opera. */\n",
       "        border: none;\n",
       "        /* Needs to be in here for Safari polyfill so background images work as expected. */\n",
       "        background-size: auto;\n",
       "    }\n",
       "    progress:not([value]), progress:not([value])::-webkit-progress-bar {\n",
       "        background: repeating-linear-gradient(45deg, #7e7e7e, #7e7e7e 10px, #5c5c5c 10px, #5c5c5c 20px);\n",
       "    }\n",
       "    .progress-bar-interrupted, .progress-bar-interrupted::-webkit-progress-bar {\n",
       "        background: #F44336;\n",
       "    }\n",
       "</style>\n"
      ],
      "text/plain": [
       "<IPython.core.display.HTML object>"
      ]
     },
     "metadata": {},
     "output_type": "display_data"
    },
    {
     "data": {
      "text/html": [],
      "text/plain": [
       "<IPython.core.display.HTML object>"
      ]
     },
     "metadata": {},
     "output_type": "display_data"
    }
   ],
   "source": [
    "data_lm = TextDataLoaders.from_df(df_train, text_col='text', label_col=\"named_label\", is_lm=True, bs=64, valid_col=\"is_valid\")"
   ]
  },
  {
   "cell_type": "code",
   "execution_count": 24,
   "metadata": {},
   "outputs": [
    {
     "data": {
      "text/html": [
       "<table border=\"1\" class=\"dataframe\">\n",
       "  <thead>\n",
       "    <tr style=\"text-align: right;\">\n",
       "      <th></th>\n",
       "      <th>text</th>\n",
       "      <th>text_</th>\n",
       "    </tr>\n",
       "  </thead>\n",
       "  <tbody>\n",
       "    <tr>\n",
       "      <th>0</th>\n",
       "      <td>xxbos i hate being in an environment where i m constantly feeling rejected cast aside and forgotten e xxbos i xxunk at peter feeling somehow triumphant when it was only partially forced xxbos i ve been feeling very indecisive lately xxbos i am currently but i can t even do that right now without feeling indecisive and tied to school and writing and assignments xxbos i feel like we have so much</td>\n",
       "      <td>i hate being in an environment where i m constantly feeling rejected cast aside and forgotten e xxbos i xxunk at peter feeling somehow triumphant when it was only partially forced xxbos i ve been feeling very indecisive lately xxbos i am currently but i can t even do that right now without feeling indecisive and tied to school and writing and assignments xxbos i feel like we have so much to</td>\n",
       "    </tr>\n",
       "    <tr>\n",
       "      <th>1</th>\n",
       "      <td>extreme or the other xxbos i get the feeling that the few kids that i hated senior year are gon na be there xxbos i really feel so xxunk and frightened xxbos i feel like it is cool for now but we wonder when xxunk plans to release his long xxunk xxunk way rise to power album xxbos i may feel a bit gloomy xxbos i have a xxunk for also not</td>\n",
       "      <td>or the other xxbos i get the feeling that the few kids that i hated senior year are gon na be there xxbos i really feel so xxunk and frightened xxbos i feel like it is cool for now but we wonder when xxunk plans to release his long xxunk xxunk way rise to power album xxbos i may feel a bit gloomy xxbos i have a xxunk for also not feeling</td>\n",
       "    </tr>\n",
       "    <tr>\n",
       "      <th>2</th>\n",
       "      <td>love to give and i would love to give my loyal support to that person as well xxbos i ca nt help but wonder if the other mom i walked with felt the same way i was feeling as she watched her sweet girls with my xxunk xxbos i feel is anger with myself for trusting him in the first place and then letting him treat me like that xxbos i m</td>\n",
       "      <td>to give and i would love to give my loyal support to that person as well xxbos i ca nt help but wonder if the other mom i walked with felt the same way i was feeling as she watched her sweet girls with my xxunk xxbos i feel is anger with myself for trusting him in the first place and then letting him treat me like that xxbos i m floating</td>\n",
       "    </tr>\n",
       "  </tbody>\n",
       "</table>"
      ],
      "text/plain": [
       "<IPython.core.display.HTML object>"
      ]
     },
     "metadata": {},
     "output_type": "display_data"
    }
   ],
   "source": [
    "data_lm.show_batch(max_n=3)"
   ]
  },
  {
   "cell_type": "code",
   "execution_count": 25,
   "metadata": {},
   "outputs": [
    {
     "data": {
      "text/html": [
       "\n",
       "<style>\n",
       "    /* Turns off some styling */\n",
       "    progress {\n",
       "        /* gets rid of default border in Firefox and Opera. */\n",
       "        border: none;\n",
       "        /* Needs to be in here for Safari polyfill so background images work as expected. */\n",
       "        background-size: auto;\n",
       "    }\n",
       "    progress:not([value]), progress:not([value])::-webkit-progress-bar {\n",
       "        background: repeating-linear-gradient(45deg, #7e7e7e, #7e7e7e 10px, #5c5c5c 10px, #5c5c5c 20px);\n",
       "    }\n",
       "    .progress-bar-interrupted, .progress-bar-interrupted::-webkit-progress-bar {\n",
       "        background: #F44336;\n",
       "    }\n",
       "</style>\n"
      ],
      "text/plain": [
       "<IPython.core.display.HTML object>"
      ]
     },
     "metadata": {},
     "output_type": "display_data"
    },
    {
     "data": {
      "text/html": [
       "\n",
       "    <div>\n",
       "      <progress value='105070592' class='' max='105067061' style='width:300px; height:20px; vertical-align: middle;'></progress>\n",
       "      100.00% [105070592/105067061 00:21&lt;00:00]\n",
       "    </div>\n",
       "    "
      ],
      "text/plain": [
       "<IPython.core.display.HTML object>"
      ]
     },
     "metadata": {},
     "output_type": "display_data"
    }
   ],
   "source": [
    "learn = language_model_learner(data_lm, AWD_LSTM, pretrained=True,\n",
    "                               metrics=[accuracy, Perplexity()],\n",
    "                               model_dir='.').to_fp16()"
   ]
  },
  {
   "cell_type": "code",
   "execution_count": 26,
   "metadata": {},
   "outputs": [
    {
     "data": {
      "text/html": [
       "\n",
       "<style>\n",
       "    /* Turns off some styling */\n",
       "    progress {\n",
       "        /* gets rid of default border in Firefox and Opera. */\n",
       "        border: none;\n",
       "        /* Needs to be in here for Safari polyfill so background images work as expected. */\n",
       "        background-size: auto;\n",
       "    }\n",
       "    progress:not([value]), progress:not([value])::-webkit-progress-bar {\n",
       "        background: repeating-linear-gradient(45deg, #7e7e7e, #7e7e7e 10px, #5c5c5c 10px, #5c5c5c 20px);\n",
       "    }\n",
       "    .progress-bar-interrupted, .progress-bar-interrupted::-webkit-progress-bar {\n",
       "        background: #F44336;\n",
       "    }\n",
       "</style>\n"
      ],
      "text/plain": [
       "<IPython.core.display.HTML object>"
      ]
     },
     "metadata": {},
     "output_type": "display_data"
    },
    {
     "data": {
      "text/html": [],
      "text/plain": [
       "<IPython.core.display.HTML object>"
      ]
     },
     "metadata": {},
     "output_type": "display_data"
    },
    {
     "data": {
      "image/png": "[encoded data removed]",
      "text/plain": [
       "<Figure size 640x480 with 1 Axes>"
      ]
     },
     "metadata": {},
     "output_type": "display_data"
    }
   ],
   "source": [
    "lr = learn.lr_find(suggest_funcs=(minimum, steep, valley, slide))"
   ]
  },
  {
   "cell_type": "code",
   "execution_count": 27,
   "metadata": {},
   "outputs": [
    {
     "data": {
      "text/html": [
       "\n",
       "<style>\n",
       "    /* Turns off some styling */\n",
       "    progress {\n",
       "        /* gets rid of default border in Firefox and Opera. */\n",
       "        border: none;\n",
       "        /* Needs to be in here for Safari polyfill so background images work as expected. */\n",
       "        background-size: auto;\n",
       "    }\n",
       "    progress:not([value]), progress:not([value])::-webkit-progress-bar {\n",
       "        background: repeating-linear-gradient(45deg, #7e7e7e, #7e7e7e 10px, #5c5c5c 10px, #5c5c5c 20px);\n",
       "    }\n",
       "    .progress-bar-interrupted, .progress-bar-interrupted::-webkit-progress-bar {\n",
       "        background: #F44336;\n",
       "    }\n",
       "</style>\n"
      ],
      "text/plain": [
       "<IPython.core.display.HTML object>"
      ]
     },
     "metadata": {},
     "output_type": "display_data"
    },
    {
     "data": {
      "text/html": [
       "<table border=\"1\" class=\"dataframe\">\n",
       "  <thead>\n",
       "    <tr style=\"text-align: left;\">\n",
       "      <th>epoch</th>\n",
       "      <th>train_loss</th>\n",
       "      <th>valid_loss</th>\n",
       "      <th>accuracy</th>\n",
       "      <th>perplexity</th>\n",
       "      <th>time</th>\n",
       "    </tr>\n",
       "  </thead>\n",
       "  <tbody>\n",
       "    <tr>\n",
       "      <td>0</td>\n",
       "      <td>4.753478</td>\n",
       "      <td>4.103902</td>\n",
       "      <td>0.264466</td>\n",
       "      <td>60.576218</td>\n",
       "      <td>00:05</td>\n",
       "    </tr>\n",
       "  </tbody>\n",
       "</table>"
      ],
      "text/plain": [
       "<IPython.core.display.HTML object>"
      ]
     },
     "metadata": {},
     "output_type": "display_data"
    },
    {
     "data": {
      "text/html": [
       "\n",
       "<style>\n",
       "    /* Turns off some styling */\n",
       "    progress {\n",
       "        /* gets rid of default border in Firefox and Opera. */\n",
       "        border: none;\n",
       "        /* Needs to be in here for Safari polyfill so background images work as expected. */\n",
       "        background-size: auto;\n",
       "    }\n",
       "    progress:not([value]), progress:not([value])::-webkit-progress-bar {\n",
       "        background: repeating-linear-gradient(45deg, #7e7e7e, #7e7e7e 10px, #5c5c5c 10px, #5c5c5c 20px);\n",
       "    }\n",
       "    .progress-bar-interrupted, .progress-bar-interrupted::-webkit-progress-bar {\n",
       "        background: #F44336;\n",
       "    }\n",
       "</style>\n"
      ],
      "text/plain": [
       "<IPython.core.display.HTML object>"
      ]
     },
     "metadata": {},
     "output_type": "display_data"
    },
    {
     "data": {
      "text/html": [
       "<table border=\"1\" class=\"dataframe\">\n",
       "  <thead>\n",
       "    <tr style=\"text-align: left;\">\n",
       "      <th>epoch</th>\n",
       "      <th>train_loss</th>\n",
       "      <th>valid_loss</th>\n",
       "      <th>accuracy</th>\n",
       "      <th>perplexity</th>\n",
       "      <th>time</th>\n",
       "    </tr>\n",
       "  </thead>\n",
       "  <tbody>\n",
       "    <tr>\n",
       "      <td>0</td>\n",
       "      <td>4.181787</td>\n",
       "      <td>3.973020</td>\n",
       "      <td>0.283772</td>\n",
       "      <td>53.144764</td>\n",
       "      <td>00:06</td>\n",
       "    </tr>\n",
       "    <tr>\n",
       "      <td>1</td>\n",
       "      <td>4.067071</td>\n",
       "      <td>3.922883</td>\n",
       "      <td>0.290176</td>\n",
       "      <td>50.545937</td>\n",
       "      <td>00:06</td>\n",
       "    </tr>\n",
       "    <tr>\n",
       "      <td>2</td>\n",
       "      <td>3.938557</td>\n",
       "      <td>3.912054</td>\n",
       "      <td>0.292643</td>\n",
       "      <td>50.001541</td>\n",
       "      <td>00:06</td>\n",
       "    </tr>\n",
       "  </tbody>\n",
       "</table>"
      ],
      "text/plain": [
       "<IPython.core.display.HTML object>"
      ]
     },
     "metadata": {},
     "output_type": "display_data"
    }
   ],
   "source": [
    "learn.fine_tune(3, lr.slide)"
   ]
  },
  {
   "cell_type": "markdown",
   "metadata": {},
   "source": [
    "We save the encoder part of the model, which we'll use in the next step."
   ]
  },
  {
   "cell_type": "code",
   "execution_count": 28,
   "metadata": {},
   "outputs": [],
   "source": [
    "learn.save_encoder('emotions_finetuned_lm_encoder')"
   ]
  },
  {
   "cell_type": "markdown",
   "metadata": {},
   "source": [
    "### Test the language model"
   ]
  },
  {
   "cell_type": "markdown",
   "metadata": {},
   "source": [
    "It's fun to test the language model by having it guess the next given number of words on a starting text:"
   ]
  },
  {
   "cell_type": "code",
   "execution_count": 29,
   "metadata": {},
   "outputs": [],
   "source": [
    "from pprint import pprint as pp"
   ]
  },
  {
   "cell_type": "code",
   "execution_count": 30,
   "metadata": {},
   "outputs": [],
   "source": [
    "def make_text(seed_text, nb_words):\n",
    "    \"\"\"\n",
    "    Use the trained language model to produce text. \n",
    "    Input:\n",
    "        seed_text: some text to get the model started\n",
    "        nb_words: number of words to produce\n",
    "    \"\"\"\n",
    "    pred = learn.predict(seed_text, nb_words, temperature=0.75)\n",
    "    pp(pred)"
   ]
  },
  {
   "cell_type": "code",
   "execution_count": 31,
   "metadata": {},
   "outputs": [
    {
     "data": {
      "text/html": [
       "\n",
       "<style>\n",
       "    /* Turns off some styling */\n",
       "    progress {\n",
       "        /* gets rid of default border in Firefox and Opera. */\n",
       "        border: none;\n",
       "        /* Needs to be in here for Safari polyfill so background images work as expected. */\n",
       "        background-size: auto;\n",
       "    }\n",
       "    progress:not([value]), progress:not([value])::-webkit-progress-bar {\n",
       "        background: repeating-linear-gradient(45deg, #7e7e7e, #7e7e7e 10px, #5c5c5c 10px, #5c5c5c 20px);\n",
       "    }\n",
       "    .progress-bar-interrupted, .progress-bar-interrupted::-webkit-progress-bar {\n",
       "        background: #F44336;\n",
       "    }\n",
       "</style>\n"
      ],
      "text/plain": [
       "<IPython.core.display.HTML object>"
      ]
     },
     "metadata": {},
     "output_type": "display_data"
    },
    {
     "data": {
      "text/html": [],
      "text/plain": [
       "<IPython.core.display.HTML object>"
      ]
     },
     "metadata": {},
     "output_type": "display_data"
    },
    {
     "name": "stdout",
     "output_type": "stream",
     "text": [
      "('I xxunk not feeling too good as my life is a little bit more irritable i '\n",
      " 'feel so numb i m feeling a little bit irritated i feel really sorry for '\n",
      " 'myself i get back into the car looking at a car i feel')\n"
     ]
    }
   ],
   "source": [
    "make_text(\"I'm not feeling too good as my\", 40)"
   ]
  },
  {
   "cell_type": "markdown",
   "metadata": {},
   "source": [
    "This seems to produce text that resembles the input text, but it's not very coherent. This is because the model is not designed to generate text, but to predict the next word in a sequence of words."
   ]
  },
  {
   "cell_type": "markdown",
   "metadata": {},
   "source": [
    "However, this is not the task we're interested in. "
   ]
  },
  {
   "cell_type": "markdown",
   "metadata": {},
   "source": [
    "## Step 2: Train the classifier"
   ]
  },
  {
   "cell_type": "code",
   "execution_count": 40,
   "metadata": {},
   "outputs": [
    {
     "data": {
      "text/html": [
       "\n",
       "<style>\n",
       "    /* Turns off some styling */\n",
       "    progress {\n",
       "        /* gets rid of default border in Firefox and Opera. */\n",
       "        border: none;\n",
       "        /* Needs to be in here for Safari polyfill so background images work as expected. */\n",
       "        background-size: auto;\n",
       "    }\n",
       "    progress:not([value]), progress:not([value])::-webkit-progress-bar {\n",
       "        background: repeating-linear-gradient(45deg, #7e7e7e, #7e7e7e 10px, #5c5c5c 10px, #5c5c5c 20px);\n",
       "    }\n",
       "    .progress-bar-interrupted, .progress-bar-interrupted::-webkit-progress-bar {\n",
       "        background: #F44336;\n",
       "    }\n",
       "</style>\n"
      ],
      "text/plain": [
       "<IPython.core.display.HTML object>"
      ]
     },
     "metadata": {},
     "output_type": "display_data"
    },
    {
     "data": {
      "text/html": [],
      "text/plain": [
       "<IPython.core.display.HTML object>"
      ]
     },
     "metadata": {},
     "output_type": "display_data"
    }
   ],
   "source": [
    "db = DataBlock(blocks=(TextBlock.from_df(text_cols='text', vocab=data_lm.vocab), CategoryBlock), \n",
    "                  get_x = ColReader(cols='text'), \n",
    "                  get_y = ColReader(cols='named_label'),\n",
    "                  splitter = ColSplitter(col='is_test'))\n",
    "\n",
    "dls = db.dataloaders(df, bs=16)"
   ]
  },
  {
   "cell_type": "code",
   "execution_count": 41,
   "metadata": {},
   "outputs": [
    {
     "data": {
      "text/html": [
       "<table border=\"1\" class=\"dataframe\">\n",
       "  <thead>\n",
       "    <tr style=\"text-align: right;\">\n",
       "      <th></th>\n",
       "      <th>text</th>\n",
       "      <th>category</th>\n",
       "    </tr>\n",
       "  </thead>\n",
       "  <tbody>\n",
       "    <tr>\n",
       "      <th>0</th>\n",
       "      <td>xxbos i feel in my bones like nobody cares if i m here nobody cares if i m gone here i am again saying i m feeling so lonely people either say its ok to be alone or just go home it xxunk me and i do nt know why it does nt mean i do nt try i try and try but people just treat me like i m a xxunk</td>\n",
       "      <td>sadness</td>\n",
       "    </tr>\n",
       "    <tr>\n",
       "      <th>1</th>\n",
       "      <td>xxbos i might go out of existance i smile pick up my pen and fill the page with the things that you say the thoughts you obtain the moments you xxunk far away its cause you re going insane and suddenly i m left afraid because i m not feeling that way instead i m amazed why you got ta be that way</td>\n",
       "      <td>surprise</td>\n",
       "    </tr>\n",
       "    <tr>\n",
       "      <th>2</th>\n",
       "      <td>xxbos i m feeling a little bit more positive now as things were quite hard at first as my xxunk were eaten up quickly with xxunk and i did nt want to become a burden to my boyfriend but we ve come out the other end and i m feeling brighter and more inspired about things to come</td>\n",
       "      <td>joy</td>\n",
       "    </tr>\n",
       "    <tr>\n",
       "      <th>3</th>\n",
       "      <td>xxbos i m not too xxunk about any of those stops but that s kind of a good thing because i wo nt feel pressured to go see and do everything there is to do and i can just hopefully relax and focus on making it fun for the kids which by xxunk makes it fun for me</td>\n",
       "      <td>fear</td>\n",
       "    </tr>\n",
       "    <tr>\n",
       "      <th>4</th>\n",
       "      <td>xxbos i think for myself i feel everyone is greedy but in their own little ways whether that is going for the good or bad way that s another issue because usually you link both together but right now i m trying to separate both issue separately so we can see the sole topic more xxunk</td>\n",
       "      <td>anger</td>\n",
       "    </tr>\n",
       "    <tr>\n",
       "      <th>5</th>\n",
       "      <td>xxbos i still love my so and wish the best for him i can no longer tolerate the effect that xxunk has on our lives and the fact that is has turned my so into a bitter angry person who is not always particularly kind to the people around him when he is feeling stressed</td>\n",
       "      <td>sadness</td>\n",
       "    </tr>\n",
       "    <tr>\n",
       "      <th>6</th>\n",
       "      <td>xxbos i feel stupid and xxunk here we are now xxunk us a xxunk an xxunk a xxunk my xxunk yeah hey yay i m worse at what i do best and for this gift i feel blessed our little group has always been and always will until the end xxwrep 3 hello how low</td>\n",
       "      <td>sadness</td>\n",
       "    </tr>\n",
       "    <tr>\n",
       "      <th>7</th>\n",
       "      <td>xxbos i can achieve on my own it makes me embrace the pain of extreme effort and physical xxunk it xxunk to myself that i can succeed at things that i can be healthy and fit and have a body that i love and feel comfortable in and it just makes me feel special</td>\n",
       "      <td>joy</td>\n",
       "    </tr>\n",
       "    <tr>\n",
       "      <th>8</th>\n",
       "      <td>xxbos i ve been a huge fan of twitter since i joined in and as my xxunk with those that i follow has increased over time i ve found myself feeling like this is a go to source for me for any number of content options news xxunk xxunk marketing you get the picture</td>\n",
       "      <td>joy</td>\n",
       "    </tr>\n",
       "  </tbody>\n",
       "</table>"
      ],
      "text/plain": [
       "<IPython.core.display.HTML object>"
      ]
     },
     "metadata": {},
     "output_type": "display_data"
    }
   ],
   "source": [
    "dls.show_batch()"
   ]
  },
  {
   "cell_type": "code",
   "execution_count": 45,
   "metadata": {},
   "outputs": [],
   "source": [
    "learn_clf = text_classifier_learner(dls, AWD_LSTM, pretrained=True, \n",
    "                                    metrics=[accuracy, \n",
    "                                             F1Score(average='weighted')\n",
    "                                             ], \n",
    "                                    model_dir='.').to_fp16()"
   ]
  },
  {
   "cell_type": "code",
   "execution_count": 46,
   "metadata": {},
   "outputs": [],
   "source": [
    "learn_clf = learn_clf.load_encoder('emotions_finetuned_lm_encoder')"
   ]
  },
  {
   "cell_type": "code",
   "execution_count": 47,
   "metadata": {},
   "outputs": [
    {
     "data": {
      "text/html": [
       "\n",
       "<style>\n",
       "    /* Turns off some styling */\n",
       "    progress {\n",
       "        /* gets rid of default border in Firefox and Opera. */\n",
       "        border: none;\n",
       "        /* Needs to be in here for Safari polyfill so background images work as expected. */\n",
       "        background-size: auto;\n",
       "    }\n",
       "    progress:not([value]), progress:not([value])::-webkit-progress-bar {\n",
       "        background: repeating-linear-gradient(45deg, #7e7e7e, #7e7e7e 10px, #5c5c5c 10px, #5c5c5c 20px);\n",
       "    }\n",
       "    .progress-bar-interrupted, .progress-bar-interrupted::-webkit-progress-bar {\n",
       "        background: #F44336;\n",
       "    }\n",
       "</style>\n"
      ],
      "text/plain": [
       "<IPython.core.display.HTML object>"
      ]
     },
     "metadata": {},
     "output_type": "display_data"
    },
    {
     "data": {
      "text/html": [],
      "text/plain": [
       "<IPython.core.display.HTML object>"
      ]
     },
     "metadata": {},
     "output_type": "display_data"
    },
    {
     "data": {
      "image/png": "[encoded data removed]",
      "text/plain": [
       "<Figure size 640x480 with 1 Axes>"
      ]
     },
     "metadata": {},
     "output_type": "display_data"
    }
   ],
   "source": [
    "lr = learn_clf.lr_find(suggest_funcs=(minimum, steep, valley, slide))"
   ]
  },
  {
   "cell_type": "code",
   "execution_count": 48,
   "metadata": {},
   "outputs": [
    {
     "data": {
      "text/html": [
       "\n",
       "<style>\n",
       "    /* Turns off some styling */\n",
       "    progress {\n",
       "        /* gets rid of default border in Firefox and Opera. */\n",
       "        border: none;\n",
       "        /* Needs to be in here for Safari polyfill so background images work as expected. */\n",
       "        background-size: auto;\n",
       "    }\n",
       "    progress:not([value]), progress:not([value])::-webkit-progress-bar {\n",
       "        background: repeating-linear-gradient(45deg, #7e7e7e, #7e7e7e 10px, #5c5c5c 10px, #5c5c5c 20px);\n",
       "    }\n",
       "    .progress-bar-interrupted, .progress-bar-interrupted::-webkit-progress-bar {\n",
       "        background: #F44336;\n",
       "    }\n",
       "</style>\n"
      ],
      "text/plain": [
       "<IPython.core.display.HTML object>"
      ]
     },
     "metadata": {},
     "output_type": "display_data"
    },
    {
     "data": {
      "text/html": [
       "<table border=\"1\" class=\"dataframe\">\n",
       "  <thead>\n",
       "    <tr style=\"text-align: left;\">\n",
       "      <th>epoch</th>\n",
       "      <th>train_loss</th>\n",
       "      <th>valid_loss</th>\n",
       "      <th>accuracy</th>\n",
       "      <th>f1_score</th>\n",
       "      <th>time</th>\n",
       "    </tr>\n",
       "  </thead>\n",
       "  <tbody>\n",
       "    <tr>\n",
       "      <td>0</td>\n",
       "      <td>1.419794</td>\n",
       "      <td>1.336713</td>\n",
       "      <td>0.500000</td>\n",
       "      <td>0.419555</td>\n",
       "      <td>00:08</td>\n",
       "    </tr>\n",
       "  </tbody>\n",
       "</table>"
      ],
      "text/plain": [
       "<IPython.core.display.HTML object>"
      ]
     },
     "metadata": {},
     "output_type": "display_data"
    },
    {
     "data": {
      "text/html": [
       "\n",
       "<style>\n",
       "    /* Turns off some styling */\n",
       "    progress {\n",
       "        /* gets rid of default border in Firefox and Opera. */\n",
       "        border: none;\n",
       "        /* Needs to be in here for Safari polyfill so background images work as expected. */\n",
       "        background-size: auto;\n",
       "    }\n",
       "    progress:not([value]), progress:not([value])::-webkit-progress-bar {\n",
       "        background: repeating-linear-gradient(45deg, #7e7e7e, #7e7e7e 10px, #5c5c5c 10px, #5c5c5c 20px);\n",
       "    }\n",
       "    .progress-bar-interrupted, .progress-bar-interrupted::-webkit-progress-bar {\n",
       "        background: #F44336;\n",
       "    }\n",
       "</style>\n"
      ],
      "text/plain": [
       "<IPython.core.display.HTML object>"
      ]
     },
     "metadata": {},
     "output_type": "display_data"
    },
    {
     "data": {
      "text/html": [
       "<table border=\"1\" class=\"dataframe\">\n",
       "  <thead>\n",
       "    <tr style=\"text-align: left;\">\n",
       "      <th>epoch</th>\n",
       "      <th>train_loss</th>\n",
       "      <th>valid_loss</th>\n",
       "      <th>accuracy</th>\n",
       "      <th>f1_score</th>\n",
       "      <th>time</th>\n",
       "    </tr>\n",
       "  </thead>\n",
       "  <tbody>\n",
       "    <tr>\n",
       "      <td>0</td>\n",
       "      <td>0.561451</td>\n",
       "      <td>0.322998</td>\n",
       "      <td>0.890500</td>\n",
       "      <td>0.888780</td>\n",
       "      <td>00:14</td>\n",
       "    </tr>\n",
       "    <tr>\n",
       "      <td>1</td>\n",
       "      <td>0.302498</td>\n",
       "      <td>0.178587</td>\n",
       "      <td>0.924500</td>\n",
       "      <td>0.925532</td>\n",
       "      <td>00:14</td>\n",
       "    </tr>\n",
       "    <tr>\n",
       "      <td>2</td>\n",
       "      <td>0.253326</td>\n",
       "      <td>0.138707</td>\n",
       "      <td>0.921500</td>\n",
       "      <td>0.921280</td>\n",
       "      <td>00:15</td>\n",
       "    </tr>\n",
       "    <tr>\n",
       "      <td>3</td>\n",
       "      <td>0.193587</td>\n",
       "      <td>0.119233</td>\n",
       "      <td>0.935000</td>\n",
       "      <td>0.934992</td>\n",
       "      <td>00:15</td>\n",
       "    </tr>\n",
       "    <tr>\n",
       "      <td>4</td>\n",
       "      <td>0.170957</td>\n",
       "      <td>0.122935</td>\n",
       "      <td>0.932500</td>\n",
       "      <td>0.932520</td>\n",
       "      <td>00:14</td>\n",
       "    </tr>\n",
       "    <tr>\n",
       "      <td>5</td>\n",
       "      <td>0.143060</td>\n",
       "      <td>0.126579</td>\n",
       "      <td>0.931000</td>\n",
       "      <td>0.930693</td>\n",
       "      <td>00:14</td>\n",
       "    </tr>\n",
       "  </tbody>\n",
       "</table>"
      ],
      "text/plain": [
       "<IPython.core.display.HTML object>"
      ]
     },
     "metadata": {},
     "output_type": "display_data"
    }
   ],
   "source": [
    "learn_clf.fine_tune(6, base_lr=lr.valley)"
   ]
  },
  {
   "cell_type": "code",
   "execution_count": 49,
   "metadata": {},
   "outputs": [
    {
     "data": {
      "text/html": [
       "\n",
       "<style>\n",
       "    /* Turns off some styling */\n",
       "    progress {\n",
       "        /* gets rid of default border in Firefox and Opera. */\n",
       "        border: none;\n",
       "        /* Needs to be in here for Safari polyfill so background images work as expected. */\n",
       "        background-size: auto;\n",
       "    }\n",
       "    progress:not([value]), progress:not([value])::-webkit-progress-bar {\n",
       "        background: repeating-linear-gradient(45deg, #7e7e7e, #7e7e7e 10px, #5c5c5c 10px, #5c5c5c 20px);\n",
       "    }\n",
       "    .progress-bar-interrupted, .progress-bar-interrupted::-webkit-progress-bar {\n",
       "        background: #F44336;\n",
       "    }\n",
       "</style>\n"
      ],
      "text/plain": [
       "<IPython.core.display.HTML object>"
      ]
     },
     "metadata": {},
     "output_type": "display_data"
    },
    {
     "data": {
      "text/html": [],
      "text/plain": [
       "<IPython.core.display.HTML object>"
      ]
     },
     "metadata": {},
     "output_type": "display_data"
    },
    {
     "data": {
      "text/html": [
       "<table border=\"1\" class=\"dataframe\">\n",
       "  <thead>\n",
       "    <tr style=\"text-align: right;\">\n",
       "      <th></th>\n",
       "      <th>text</th>\n",
       "      <th>category</th>\n",
       "      <th>category_</th>\n",
       "    </tr>\n",
       "  </thead>\n",
       "  <tbody>\n",
       "    <tr>\n",
       "      <th>0</th>\n",
       "      <td>xxbos i feel i am appreciative i take care of the baby i try to keep the apt clean as much as possible and i try not to call him a million times to find out when hell be home it xxunk from day to day as he is sort of self xxunk so its hard to plan things around his schedule</td>\n",
       "      <td>joy</td>\n",
       "      <td>joy</td>\n",
       "    </tr>\n",
       "    <tr>\n",
       "      <th>1</th>\n",
       "      <td>xxbos i feel like i know who most of them are by now and am starting to develop my likes and xxunk though i have not been keen on the snap xxunk they have seemed pretty pointless the first one to go returned and the two xxunk made absolutely zero impact on me so they won t be missed</td>\n",
       "      <td>joy</td>\n",
       "      <td>joy</td>\n",
       "    </tr>\n",
       "    <tr>\n",
       "      <th>2</th>\n",
       "      <td>xxbos i started feeling a little funny but this was not anxiety but at the time i did nt know so i started to tell my brother man i do nt feel good and he said what s wrong i said i do nt know but u better drive so i pulled over and let him drive</td>\n",
       "      <td>surprise</td>\n",
       "      <td>surprise</td>\n",
       "    </tr>\n",
       "    <tr>\n",
       "      <th>3</th>\n",
       "      <td>xxbos i get scared i feel ignored i feel happy i get silly i choke on my own words i make wishes i have dreams and i still want to believe anything could happen in this world for an ordinary girl like you like me for an ordinary girl like you like me how are you</td>\n",
       "      <td>sadness</td>\n",
       "      <td>sadness</td>\n",
       "    </tr>\n",
       "    <tr>\n",
       "      <th>4</th>\n",
       "      <td>xxbos i am feeling a little more relaxed i am certainly not feeling refreshed thanks to drunk xxunk who decided letting off xxunk every half an hour all night would be super fun and the fact that it s impossible to sleep in the freezing cold with a complaining toddler but i have certainly xxunk</td>\n",
       "      <td>joy</td>\n",
       "      <td>joy</td>\n",
       "    </tr>\n",
       "    <tr>\n",
       "      <th>5</th>\n",
       "      <td>xxbos i would say no not yet and i would feel superior and in fact self xxunk even if i would not admit it back then because i remember looking at the point so i can see that the point did come up but i could did not face it to protect my ego</td>\n",
       "      <td>joy</td>\n",
       "      <td>joy</td>\n",
       "    </tr>\n",
       "    <tr>\n",
       "      <th>6</th>\n",
       "      <td>xxbos i actually was in a meeting last week where someone yelled at an older lady because her phone rang i felt terrible for her your boss treats you xxunk or in this case someone makes you feel you are not worth anything is only allowing those who offended to steal your joy</td>\n",
       "      <td>anger</td>\n",
       "      <td>anger</td>\n",
       "    </tr>\n",
       "    <tr>\n",
       "      <th>7</th>\n",
       "      <td>xxbos i haven t been able to do a lot of stuff most people managed to do in various points of their lives i feel that i have missed out a lot in life and i know that my current path is my only ticket to live a live that i want to</td>\n",
       "      <td>sadness</td>\n",
       "      <td>sadness</td>\n",
       "    </tr>\n",
       "    <tr>\n",
       "      <th>8</th>\n",
       "      <td>xxbos i come in contact on a regular basis and the sooner i can figure out how to be kind to them in all situations the sooner they will feel valued appreciated loved and the desire to learn how to pass that kindness on to others as i am learning to do</td>\n",
       "      <td>joy</td>\n",
       "      <td>joy</td>\n",
       "    </tr>\n",
       "  </tbody>\n",
       "</table>"
      ],
      "text/plain": [
       "<IPython.core.display.HTML object>"
      ]
     },
     "metadata": {},
     "output_type": "display_data"
    }
   ],
   "source": [
    "learn_clf.show_results()"
   ]
  },
  {
   "cell_type": "code",
   "execution_count": 50,
   "metadata": {},
   "outputs": [
    {
     "data": {
      "text/html": [
       "\n",
       "<style>\n",
       "    /* Turns off some styling */\n",
       "    progress {\n",
       "        /* gets rid of default border in Firefox and Opera. */\n",
       "        border: none;\n",
       "        /* Needs to be in here for Safari polyfill so background images work as expected. */\n",
       "        background-size: auto;\n",
       "    }\n",
       "    progress:not([value]), progress:not([value])::-webkit-progress-bar {\n",
       "        background: repeating-linear-gradient(45deg, #7e7e7e, #7e7e7e 10px, #5c5c5c 10px, #5c5c5c 20px);\n",
       "    }\n",
       "    .progress-bar-interrupted, .progress-bar-interrupted::-webkit-progress-bar {\n",
       "        background: #F44336;\n",
       "    }\n",
       "</style>\n"
      ],
      "text/plain": [
       "<IPython.core.display.HTML object>"
      ]
     },
     "metadata": {},
     "output_type": "display_data"
    },
    {
     "data": {
      "text/html": [],
      "text/plain": [
       "<IPython.core.display.HTML object>"
      ]
     },
     "metadata": {},
     "output_type": "display_data"
    }
   ],
   "source": [
    "interp = ClassificationInterpretation.from_learner(learn_clf)"
   ]
  },
  {
   "cell_type": "code",
   "execution_count": 51,
   "metadata": {},
   "outputs": [
    {
     "data": {
      "text/html": [
       "\n",
       "<style>\n",
       "    /* Turns off some styling */\n",
       "    progress {\n",
       "        /* gets rid of default border in Firefox and Opera. */\n",
       "        border: none;\n",
       "        /* Needs to be in here for Safari polyfill so background images work as expected. */\n",
       "        background-size: auto;\n",
       "    }\n",
       "    progress:not([value]), progress:not([value])::-webkit-progress-bar {\n",
       "        background: repeating-linear-gradient(45deg, #7e7e7e, #7e7e7e 10px, #5c5c5c 10px, #5c5c5c 20px);\n",
       "    }\n",
       "    .progress-bar-interrupted, .progress-bar-interrupted::-webkit-progress-bar {\n",
       "        background: #F44336;\n",
       "    }\n",
       "</style>\n"
      ],
      "text/plain": [
       "<IPython.core.display.HTML object>"
      ]
     },
     "metadata": {},
     "output_type": "display_data"
    },
    {
     "data": {
      "text/html": [],
      "text/plain": [
       "<IPython.core.display.HTML object>"
      ]
     },
     "metadata": {},
     "output_type": "display_data"
    },
    {
     "data": {
      "image/png": "[encoded data removed]",
      "text/plain": [
       "<Figure size 640x480 with 1 Axes>"
      ]
     },
     "metadata": {},
     "output_type": "display_data"
    }
   ],
   "source": [
    "interp.plot_confusion_matrix()"
   ]
  },
  {
   "cell_type": "code",
   "execution_count": null,
   "metadata": {},
   "outputs": [
    {
     "data": {
      "text/html": [
       "\n",
       "<style>\n",
       "    /* Turns off some styling */\n",
       "    progress {\n",
       "        /* gets rid of default border in Firefox and Opera. */\n",
       "        border: none;\n",
       "        /* Needs to be in here for Safari polyfill so background images work as expected. */\n",
       "        background-size: auto;\n",
       "    }\n",
       "    progress:not([value]), progress:not([value])::-webkit-progress-bar {\n",
       "        background: repeating-linear-gradient(45deg, #7e7e7e, #7e7e7e 10px, #5c5c5c 10px, #5c5c5c 20px);\n",
       "    }\n",
       "    .progress-bar-interrupted, .progress-bar-interrupted::-webkit-progress-bar {\n",
       "        background: #F44336;\n",
       "    }\n",
       "</style>\n"
      ],
      "text/plain": [
       "<IPython.core.display.HTML object>"
      ]
     },
     "metadata": {},
     "output_type": "display_data"
    },
    {
     "data": {
      "text/html": [],
      "text/plain": [
       "<IPython.core.display.HTML object>"
      ]
     },
     "metadata": {},
     "output_type": "display_data"
    },
    {
     "data": {
      "text/plain": [
       "[('joy', 'love', 32),\n",
       " ('love', 'joy', 25),\n",
       " ('surprise', 'fear', 14),\n",
       " ('anger', 'sadness', 9),\n",
       " ('fear', 'anger', 9),\n",
       " ('fear', 'surprise', 9),\n",
       " ('sadness', 'anger', 9),\n",
       " ('surprise', 'joy', 6),\n",
       " ('anger', 'fear', 5),\n",
       " ('fear', 'sadness', 5)]"
      ]
     },
     "metadata": {},
     "output_type": "display_data"
    }
   ],
   "source": [
    "interp.most_confused(min_val=5)"
   ]
  },
  {
   "cell_type": "code",
   "execution_count": null,
   "metadata": {},
   "outputs": [
    {
     "data": {
      "text/html": [
       "\n",
       "<style>\n",
       "    /* Turns off some styling */\n",
       "    progress {\n",
       "        /* gets rid of default border in Firefox and Opera. */\n",
       "        border: none;\n",
       "        /* Needs to be in here for Safari polyfill so background images work as expected. */\n",
       "        background-size: auto;\n",
       "    }\n",
       "    progress:not([value]), progress:not([value])::-webkit-progress-bar {\n",
       "        background: repeating-linear-gradient(45deg, #7e7e7e, #7e7e7e 10px, #5c5c5c 10px, #5c5c5c 20px);\n",
       "    }\n",
       "    .progress-bar-interrupted, .progress-bar-interrupted::-webkit-progress-bar {\n",
       "        background: #F44336;\n",
       "    }\n",
       "</style>\n"
      ],
      "text/plain": [
       "<IPython.core.display.HTML object>"
      ]
     },
     "metadata": {},
     "output_type": "display_data"
    },
    {
     "data": {
      "text/html": [],
      "text/plain": [
       "<IPython.core.display.HTML object>"
      ]
     },
     "metadata": {},
     "output_type": "display_data"
    },
    {
     "name": "stdout",
     "output_type": "stream",
     "text": [
      "              precision    recall  f1-score   support\n",
      "\n",
      "       anger       0.93      0.95      0.94       275\n",
      "        fear       0.90      0.90      0.90       224\n",
      "         joy       0.95      0.94      0.95       695\n",
      "        love       0.81      0.84      0.82       159\n",
      "     sadness       0.97      0.98      0.97       581\n",
      "    surprise       0.77      0.67      0.72        66\n",
      "\n",
      "    accuracy                           0.93      2000\n",
      "   macro avg       0.89      0.88      0.88      2000\n",
      "weighted avg       0.93      0.93      0.93      2000\n",
      "\n"
     ]
    }
   ],
   "source": [
    "interp.print_classification_report()"
   ]
  },
  {
   "cell_type": "code",
   "execution_count": 54,
   "metadata": {},
   "outputs": [
    {
     "data": {
      "text/html": [
       "\n",
       "<style>\n",
       "    /* Turns off some styling */\n",
       "    progress {\n",
       "        /* gets rid of default border in Firefox and Opera. */\n",
       "        border: none;\n",
       "        /* Needs to be in here for Safari polyfill so background images work as expected. */\n",
       "        background-size: auto;\n",
       "    }\n",
       "    progress:not([value]), progress:not([value])::-webkit-progress-bar {\n",
       "        background: repeating-linear-gradient(45deg, #7e7e7e, #7e7e7e 10px, #5c5c5c 10px, #5c5c5c 20px);\n",
       "    }\n",
       "    .progress-bar-interrupted, .progress-bar-interrupted::-webkit-progress-bar {\n",
       "        background: #F44336;\n",
       "    }\n",
       "</style>\n"
      ],
      "text/plain": [
       "<IPython.core.display.HTML object>"
      ]
     },
     "metadata": {},
     "output_type": "display_data"
    },
    {
     "data": {
      "text/html": [],
      "text/plain": [
       "<IPython.core.display.HTML object>"
      ]
     },
     "metadata": {},
     "output_type": "display_data"
    },
    {
     "data": {
      "text/html": [
       "<table border=\"1\" class=\"dataframe\">\n",
       "  <thead>\n",
       "    <tr style=\"text-align: right;\">\n",
       "      <th></th>\n",
       "      <th>input</th>\n",
       "      <th>target</th>\n",
       "      <th>predicted</th>\n",
       "      <th>probability</th>\n",
       "      <th>loss</th>\n",
       "    </tr>\n",
       "  </thead>\n",
       "  <tbody>\n",
       "    <tr>\n",
       "      <th>0</th>\n",
       "      <td>xxbos i ve been feeling from my adoring fans that would be xxunk whole like of you who are my friends here i felt brave and excited and xxunk forth with guitar in hand to a local open xxunk night</td>\n",
       "      <td>love</td>\n",
       "      <td>joy</td>\n",
       "      <td>0.9918103814125061</td>\n",
       "      <td>5.314470291137695</td>\n",
       "    </tr>\n",
       "    <tr>\n",
       "      <th>1</th>\n",
       "      <td>xxbos i feel like i am in xxunk kissing those sweet lips make me feel like i xxunk into a magical world of love</td>\n",
       "      <td>joy</td>\n",
       "      <td>love</td>\n",
       "      <td>0.9732023477554321</td>\n",
       "      <td>5.283614158630371</td>\n",
       "    </tr>\n",
       "    <tr>\n",
       "      <th>2</th>\n",
       "      <td>xxbos whenever i put myself in others shoes and try to make the person happy</td>\n",
       "      <td>anger</td>\n",
       "      <td>joy</td>\n",
       "      <td>0.9329832196235657</td>\n",
       "      <td>3.8125321865081787</td>\n",
       "    </tr>\n",
       "    <tr>\n",
       "      <th>3</th>\n",
       "      <td>xxbos i feel unprotected a class post count link href http xxunk in process</td>\n",
       "      <td>sadness</td>\n",
       "      <td>fear</td>\n",
       "      <td>0.9941408038139343</td>\n",
       "      <td>3.65704607963562</td>\n",
       "    </tr>\n",
       "    <tr>\n",
       "      <th>4</th>\n",
       "      <td>xxbos when we xxunk xxunk in our flat and got stuck in a chair</td>\n",
       "      <td>anger</td>\n",
       "      <td>fear</td>\n",
       "      <td>0.9636459946632385</td>\n",
       "      <td>3.6366405487060547</td>\n",
       "    </tr>\n",
       "  </tbody>\n",
       "</table>"
      ],
      "text/plain": [
       "<IPython.core.display.HTML object>"
      ]
     },
     "metadata": {},
     "output_type": "display_data"
    }
   ],
   "source": [
    "interp.plot_top_losses(5)"
   ]
  },
  {
   "cell_type": "markdown",
   "metadata": {},
   "source": [
    "# Using Transformers"
   ]
  },
  {
   "cell_type": "markdown",
   "metadata": {},
   "source": [
    "Now, let's construct a classifier based on a Transformers model. We'll use Tranformer library from Hugging Face and the DistilBERT model."
   ]
  },
  {
   "cell_type": "code",
   "execution_count": 6,
   "metadata": {},
   "outputs": [],
   "source": [
    "import torch"
   ]
  },
  {
   "cell_type": "code",
   "execution_count": 7,
   "metadata": {},
   "outputs": [
    {
     "name": "stderr",
     "output_type": "stream",
     "text": [
      "Some weights of DistilBertForSequenceClassification were not initialized from the model checkpoint at distilbert-base-uncased and are newly initialized: ['classifier.bias', 'classifier.weight', 'pre_classifier.bias', 'pre_classifier.weight']\n",
      "You should probably TRAIN this model on a down-stream task to be able to use it for predictions and inference.\n"
     ]
    }
   ],
   "source": [
    "from transformers import AutoTokenizer, AutoModelForSequenceClassification\n",
    "\n",
    "num_labels = 6\n",
    "model_ckpt = \"distilbert-base-uncased\"\n",
    "\n",
    "\n",
    "model = (AutoModelForSequenceClassification\n",
    "         .from_pretrained(model_ckpt, num_labels=num_labels)\n",
    "         .to(torch.device(\"cuda\")))\n",
    "\n",
    "tokenizer = AutoTokenizer.from_pretrained(model_ckpt)"
   ]
  },
  {
   "cell_type": "code",
   "execution_count": 8,
   "metadata": {},
   "outputs": [],
   "source": [
    "def tokenize(batch):\n",
    "    return tokenizer(batch[\"text\"], padding=True, truncation=True)"
   ]
  },
  {
   "cell_type": "code",
   "execution_count": 9,
   "metadata": {},
   "outputs": [
    {
     "data": {
      "application/vnd.jupyter.widget-view+json": {
       "model_id": "ad950ae3437e4e60b648e6e5ff873214",
       "version_major": 2,
       "version_minor": 0
      },
      "text/plain": [
       "Map:   0%|          | 0/2000 [00:00<?, ? examples/s]"
      ]
     },
     "metadata": {},
     "output_type": "display_data"
    }
   ],
   "source": [
    "emotion_tokenized = emotion.map(tokenize, batched=True)"
   ]
  },
  {
   "cell_type": "code",
   "execution_count": 10,
   "metadata": {},
   "outputs": [],
   "source": [
    "from sklearn.metrics import accuracy_score, f1_score\n",
    "\n",
    "def compute_metrics(pred):\n",
    "    labels = pred.label_ids\n",
    "    preds = pred.predictions.argmax(-1)\n",
    "    f1 = f1_score(labels, preds, average=\"weighted\")\n",
    "    acc = accuracy_score(labels, preds)\n",
    "    return {\"accuracy\": acc, \"f1\": f1}"
   ]
  },
  {
   "cell_type": "code",
   "execution_count": 11,
   "metadata": {},
   "outputs": [],
   "source": [
    "from transformers import Trainer, TrainingArguments\n",
    "\n",
    "batch_size = 64\n",
    "\n",
    "training_args = TrainingArguments(output_dir=\".\",\n",
    "                                  num_train_epochs=5,\n",
    "                                  learning_rate=2e-5,\n",
    "                                  per_device_train_batch_size=batch_size,\n",
    "                                  per_device_eval_batch_size=batch_size,\n",
    "                                  weight_decay=0.01,\n",
    "                                  evaluation_strategy=\"epoch\",\n",
    "                                  disable_tqdm=False,\n",
    "                                  log_level=\"error\")\n",
    "     "
   ]
  },
  {
   "cell_type": "code",
   "execution_count": 12,
   "metadata": {},
   "outputs": [
    {
     "data": {
      "application/vnd.jupyter.widget-view+json": {
       "model_id": "b03b369ec5a94bd9b9c847afb0f50a1e",
       "version_major": 2,
       "version_minor": 0
      },
      "text/plain": [
       "  0%|          | 0/1250 [00:00<?, ?it/s]"
      ]
     },
     "metadata": {},
     "output_type": "display_data"
    },
    {
     "data": {
      "application/vnd.jupyter.widget-view+json": {
       "model_id": "2a5edb3e00a34e648cc2df44dcfa5b40",
       "version_major": 2,
       "version_minor": 0
      },
      "text/plain": [
       "  0%|          | 0/32 [00:00<?, ?it/s]"
      ]
     },
     "metadata": {},
     "output_type": "display_data"
    },
    {
     "name": "stdout",
     "output_type": "stream",
     "text": [
      "{'eval_loss': 0.2639501392841339, 'eval_accuracy': 0.916, 'eval_f1': 0.9159859910905804, 'eval_runtime': 0.9856, 'eval_samples_per_second': 2029.279, 'eval_steps_per_second': 32.468, 'epoch': 1.0}\n",
      "{'loss': 0.5046, 'grad_norm': 8.523388862609863, 'learning_rate': 1.2e-05, 'epoch': 2.0}\n"
     ]
    },
    {
     "data": {
      "application/vnd.jupyter.widget-view+json": {
       "model_id": "70e0d1c5cfad434f8c3613a8b5f56891",
       "version_major": 2,
       "version_minor": 0
      },
      "text/plain": [
       "  0%|          | 0/32 [00:00<?, ?it/s]"
      ]
     },
     "metadata": {},
     "output_type": "display_data"
    },
    {
     "name": "stdout",
     "output_type": "stream",
     "text": [
      "{'eval_loss': 0.1599658578634262, 'eval_accuracy': 0.9375, 'eval_f1': 0.9379420956843323, 'eval_runtime': 0.9729, 'eval_samples_per_second': 2055.74, 'eval_steps_per_second': 32.892, 'epoch': 2.0}\n"
     ]
    },
    {
     "data": {
      "application/vnd.jupyter.widget-view+json": {
       "model_id": "b2b92a0999744ff4aaec4e944f69fba6",
       "version_major": 2,
       "version_minor": 0
      },
      "text/plain": [
       "  0%|          | 0/32 [00:00<?, ?it/s]"
      ]
     },
     "metadata": {},
     "output_type": "display_data"
    },
    {
     "name": "stdout",
     "output_type": "stream",
     "text": [
      "{'eval_loss': 0.15256832540035248, 'eval_accuracy': 0.932, 'eval_f1': 0.9328271003259544, 'eval_runtime': 0.9753, 'eval_samples_per_second': 2050.754, 'eval_steps_per_second': 32.812, 'epoch': 3.0}\n",
      "{'loss': 0.1178, 'grad_norm': 3.6431221961975098, 'learning_rate': 4.000000000000001e-06, 'epoch': 4.0}\n"
     ]
    },
    {
     "data": {
      "application/vnd.jupyter.widget-view+json": {
       "model_id": "fcb6d60b3c914c7ab84aeebbb56ec836",
       "version_major": 2,
       "version_minor": 0
      },
      "text/plain": [
       "  0%|          | 0/32 [00:00<?, ?it/s]"
      ]
     },
     "metadata": {},
     "output_type": "display_data"
    },
    {
     "name": "stdout",
     "output_type": "stream",
     "text": [
      "{'eval_loss': 0.1455267071723938, 'eval_accuracy': 0.937, 'eval_f1': 0.9370819675304846, 'eval_runtime': 0.9661, 'eval_samples_per_second': 2070.206, 'eval_steps_per_second': 33.123, 'epoch': 4.0}\n"
     ]
    },
    {
     "data": {
      "application/vnd.jupyter.widget-view+json": {
       "model_id": "5c438161c2b5451d92653a4f60260a4f",
       "version_major": 2,
       "version_minor": 0
      },
      "text/plain": [
       "  0%|          | 0/32 [00:00<?, ?it/s]"
      ]
     },
     "metadata": {},
     "output_type": "display_data"
    },
    {
     "name": "stdout",
     "output_type": "stream",
     "text": [
      "{'eval_loss': 0.14503353834152222, 'eval_accuracy': 0.9375, 'eval_f1': 0.9376384841152394, 'eval_runtime': 0.9878, 'eval_samples_per_second': 2024.694, 'eval_steps_per_second': 32.395, 'epoch': 5.0}\n",
      "{'train_runtime': 146.2285, 'train_samples_per_second': 547.089, 'train_steps_per_second': 8.548, 'train_loss': 0.26652463989257813, 'epoch': 5.0}\n"
     ]
    },
    {
     "data": {
      "text/plain": [
       "TrainOutput(global_step=1250, training_loss=0.26652463989257813, metrics={'train_runtime': 146.2285, 'train_samples_per_second': 547.089, 'train_steps_per_second': 8.548, 'train_loss': 0.26652463989257813, 'epoch': 5.0})"
      ]
     },
     "execution_count": 12,
     "metadata": {},
     "output_type": "execute_result"
    }
   ],
   "source": [
    "trainer = Trainer(model=model, args=training_args, \n",
    "                  compute_metrics=compute_metrics,\n",
    "                  train_dataset=emotion_tokenized[\"train\"],\n",
    "                  eval_dataset=emotion_tokenized[\"validation\"],\n",
    "                  tokenizer=tokenizer)\n",
    "\n",
    "trainer.train()"
   ]
  },
  {
   "cell_type": "code",
   "execution_count": 15,
   "metadata": {},
   "outputs": [
    {
     "data": {
      "application/vnd.jupyter.widget-view+json": {
       "model_id": "1ccfd39df3214e049edd66763a2e6ac8",
       "version_major": 2,
       "version_minor": 0
      },
      "text/plain": [
       "  0%|          | 0/32 [00:00<?, ?it/s]"
      ]
     },
     "metadata": {},
     "output_type": "display_data"
    }
   ],
   "source": [
    "test_preds = trainer.predict(emotion_tokenized[\"test\"])"
   ]
  },
  {
   "cell_type": "code",
   "execution_count": 16,
   "metadata": {},
   "outputs": [
    {
     "data": {
      "text/plain": [
       "{'test_loss': 0.15953868627548218,\n",
       " 'test_accuracy': 0.928,\n",
       " 'test_f1': 0.9279589564408679,\n",
       " 'test_runtime': 0.9265,\n",
       " 'test_samples_per_second': 2158.675,\n",
       " 'test_steps_per_second': 34.539}"
      ]
     },
     "execution_count": 16,
     "metadata": {},
     "output_type": "execute_result"
    }
   ],
   "source": [
    "test_preds.metrics"
   ]
  },
  {
   "cell_type": "markdown",
   "metadata": {},
   "source": [
    "> Alternative: Using LMs as feature extractors and training models on top of them"
   ]
  }
 ],
 "metadata": {
  "kernelspec": {
   "display_name": "dat255",
   "language": "python",
   "name": "python3"
  },
  "language_info": {
   "codemirror_mode": {
    "name": "ipython",
    "version": 3
   },
   "file_extension": ".py",
   "mimetype": "text/x-python",
   "name": "python",
   "nbconvert_exporter": "python",
   "pygments_lexer": "ipython3",
   "version": "3.11.5"
  }
 },
 "nbformat": 4,
 "nbformat_minor": 2
}
