{
 "cells": [
  {
   "cell_type": "markdown",
   "metadata": {},
   "source": [
    "A.S. Lundervold, 22.02.2024"
   ]
  },
  {
   "cell_type": "markdown",
   "metadata": {},
   "source": [
    "# Introduction"
   ]
  },
  {
   "cell_type": "markdown",
   "metadata": {},
   "source": [
    "\n",
    "Unlike humans, who can understand and process natural language directly, our computational models in NLP require text to be presented in a numerical, encoded format. Here's a high-level overview of the steps involved in a process of converting text into a format that can be used as input to a model:\n",
    "\n",
    "**Tokenization**\n",
    "\n",
    "First, we perform a process called tokenization, which breaks down text into smaller units called tokens. \n",
    "\n",
    "Tokenization is not a one-size-fits-all process, and there are multiple tokenization strategies, each with its strengths and weaknesses depending on the task. We'll look at some in this notebook. \n",
    "\n",
    "**Numericalization**\n",
    "\n",
    "Once we have tokens, we convert them to numbers through numericalization. This is crucial because computers are designed to work with numbers, not words. \n",
    "\n",
    "**Batching**\n",
    "\n",
    "Next, we group these numbers representing text into batches. Batching helps the computer handle lots of text simultaneously, making everything more efficient. The strategy for grouping text into batches can vary, affecting how the model learns and performs. We'll examine an effective batching approach for a language model.\n",
    "\n",
    "**Embeddings**\n",
    "\n",
    "Finally, we use embeddings to represent each token as a vector. Embeddings are used to capture more than just the identity of a token; they encode semantic relationships and meanings. This representation is critical for models to understand and predict based on the text. \n",
    "\n",
    "\n",
    "Taken together, these steps convert text data into batches of vectors that can be used as input to a model."
   ]
  },
  {
   "cell_type": "markdown",
   "metadata": {},
   "source": [
    "**The notebook is partly based on:**\n",
    "\n",
    "* fastbook, Chapter 10: [NLP Deep Dive: RNNs](https://github.com/fastai/fastbook/blob/master/10_nlp.ipynb), 2020\n",
    "* fastai course, Lesson 4: [Natural Language (NLP)](https://course.fast.ai/Lessons/lesson4.html), 2023\n",
    "* Sebastian Raschka, [Build a Large Language Model (From Skratch)](https://github.com/rasbt/LLMs-from-scratch), 2024"
   ]
  },
  {
   "cell_type": "markdown",
   "metadata": {},
   "source": [
    "# Setup"
   ]
  },
  {
   "cell_type": "code",
   "execution_count": 1,
   "metadata": {},
   "outputs": [],
   "source": [
    "# This is a quick check of whether the notebook is currently running on Google Colaboratory\n",
    "# or Kaggle, which makes some difference for the code below.\n",
    "try:\n",
    "    import google.colab\n",
    "    colab=True\n",
    "except:\n",
    "    colab=False\n",
    "\n",
    "import os\n",
    "kaggle = os.environ.get('KAGGLE_KERNEL_RUN_TYPE', '')"
   ]
  },
  {
   "cell_type": "code",
   "execution_count": 2,
   "metadata": {},
   "outputs": [],
   "source": [
    "if (colab or kaggle):\n",
    "    %pip install -Uqq fastcore tiktoken"
   ]
  },
  {
   "cell_type": "code",
   "execution_count": 3,
   "metadata": {},
   "outputs": [
    {
     "name": "stdout",
     "output_type": "stream",
     "text": [
      "Intel MKL WARNING: Support of Intel(R) Streaming SIMD Extensions 4.2 (Intel(R) SSE4.2) enabled only processors has been deprecated. Intel oneAPI Math Kernel Library 2025.0 will require Intel(R) Advanced Vector Extensions (Intel(R) AVX) instructions.\n",
      "Intel MKL WARNING: Support of Intel(R) Streaming SIMD Extensions 4.2 (Intel(R) SSE4.2) enabled only processors has been deprecated. Intel oneAPI Math Kernel Library 2025.0 will require Intel(R) Advanced Vector Extensions (Intel(R) AVX) instructions.\n"
     ]
    }
   ],
   "source": [
    "%matplotlib inline\n",
    "from pathlib import Path\n",
    "import os, sys\n",
    "import numpy as np\n",
    "import pandas as pd\n",
    "import matplotlib.pyplot as plt\n",
    "from fastcore.all import *\n",
    "import torch"
   ]
  },
  {
   "cell_type": "markdown",
   "metadata": {},
   "source": [
    "# Load data"
   ]
  },
  {
   "cell_type": "markdown",
   "metadata": {},
   "source": [
    "We use the works of William Shakespeare as our text data, as prepared by Andrej Karpathy here: https://cs.stanford.edu/people/karpathy/char-rnn/"
   ]
  },
  {
   "cell_type": "code",
   "execution_count": 4,
   "metadata": {},
   "outputs": [],
   "source": [
    "text_shakespeare = 'https://cs.stanford.edu/people/karpathy/char-rnn/shakespeare_input.txt'"
   ]
  },
  {
   "cell_type": "code",
   "execution_count": 5,
   "metadata": {},
   "outputs": [],
   "source": [
    "import textwrap\n",
    "import urllib.request\n",
    "\n",
    "def print_text(url, nb_lines=10, wrap_width=70):\n",
    "    try:\n",
    "        with urllib.request.urlopen(url) as f:\n",
    "            for i in range(nb_lines):\n",
    "                line = f.readline().decode('utf-8').strip()\n",
    "                if line:\n",
    "                    print('\\n'.join(textwrap.wrap(line, wrap_width)))\n",
    "    except urllib.error.URLError:\n",
    "        print(f\"Error opening URL {url}.\")"
   ]
  },
  {
   "cell_type": "code",
   "execution_count": 6,
   "metadata": {},
   "outputs": [
    {
     "name": "stdout",
     "output_type": "stream",
     "text": [
      "First Citizen:\n",
      "Before we proceed any further, hear me speak.\n",
      "All:\n",
      "Speak, speak.\n",
      "First Citizen:\n",
      "You are all resolved rather to die than to famish?\n",
      "All:\n",
      "Resolved. resolved.\n",
      "First Citizen:\n",
      "First, you know Caius Marcius is chief enemy to the people.\n",
      "All:\n",
      "We know't, we know't.\n",
      "First Citizen:\n",
      "Let us kill him, and we'll have corn at our own price.\n"
     ]
    }
   ],
   "source": [
    "print_text(text_shakespeare, nb_lines=20, wrap_width=70)"
   ]
  },
  {
   "cell_type": "markdown",
   "metadata": {},
   "source": [
    "# Tokenization and numericalization"
   ]
  },
  {
   "cell_type": "code",
   "execution_count": 7,
   "metadata": {},
   "outputs": [],
   "source": [
    "test_text = 'This is a test sentence. It includes -- some punctuation!? And some numbers 1, 2, 3.'"
   ]
  },
  {
   "cell_type": "markdown",
   "metadata": {},
   "source": [
    "## Character tokenization"
   ]
  },
  {
   "cell_type": "markdown",
   "metadata": {},
   "source": [
    "A simple strategy is to tokenize the text into characters:"
   ]
  },
  {
   "cell_type": "code",
   "execution_count": 8,
   "metadata": {},
   "outputs": [
    {
     "data": {
      "text/plain": [
       "['T', 'h', 'i', 's', ' ', 'i', 's', ' ', 'a', ' ']"
      ]
     },
     "execution_count": 8,
     "metadata": {},
     "output_type": "execute_result"
    }
   ],
   "source": [
    "tokens = list(test_text)\n",
    "tokens[:10]"
   ]
  },
  {
   "cell_type": "code",
   "execution_count": 9,
   "metadata": {},
   "outputs": [
    {
     "data": {
      "text/plain": [
       "84"
      ]
     },
     "execution_count": 9,
     "metadata": {},
     "output_type": "execute_result"
    }
   ],
   "source": [
    "len(tokens)"
   ]
  },
  {
   "cell_type": "markdown",
   "metadata": {},
   "source": [
    "To assign numbers to the tokens, i.e., **numericalization**, we can simply encode each character with a unique integer:"
   ]
  },
  {
   "cell_type": "code",
   "execution_count": 10,
   "metadata": {},
   "outputs": [],
   "source": [
    "token2idx = {t: i for i, t in enumerate(sorted(set(tokens)))}"
   ]
  },
  {
   "cell_type": "code",
   "execution_count": 11,
   "metadata": {},
   "outputs": [
    {
     "data": {
      "text/plain": [
       "{' ': 0,\n",
       " '!': 1,\n",
       " ',': 2,\n",
       " '-': 3,\n",
       " '.': 4,\n",
       " '1': 5,\n",
       " '2': 6,\n",
       " '3': 7,\n",
       " '?': 8,\n",
       " 'A': 9,\n",
       " 'I': 10,\n",
       " 'T': 11,\n",
       " 'a': 12,\n",
       " 'b': 13,\n",
       " 'c': 14,\n",
       " 'd': 15,\n",
       " 'e': 16,\n",
       " 'h': 17,\n",
       " 'i': 18,\n",
       " 'l': 19,\n",
       " 'm': 20,\n",
       " 'n': 21,\n",
       " 'o': 22,\n",
       " 'p': 23,\n",
       " 'r': 24,\n",
       " 's': 25,\n",
       " 't': 26,\n",
       " 'u': 27}"
      ]
     },
     "execution_count": 11,
     "metadata": {},
     "output_type": "execute_result"
    }
   ],
   "source": [
    "token2idx"
   ]
  },
  {
   "cell_type": "markdown",
   "metadata": {},
   "source": [
    "To go back from numericalized tokens to text, we can use the following mapping:"
   ]
  },
  {
   "cell_type": "code",
   "execution_count": 12,
   "metadata": {},
   "outputs": [],
   "source": [
    "idx2token = {i: t for t, i in token2idx.items()}"
   ]
  },
  {
   "cell_type": "code",
   "execution_count": 13,
   "metadata": {},
   "outputs": [
    {
     "data": {
      "text/plain": [
       "{0: ' ',\n",
       " 1: '!',\n",
       " 2: ',',\n",
       " 3: '-',\n",
       " 4: '.',\n",
       " 5: '1',\n",
       " 6: '2',\n",
       " 7: '3',\n",
       " 8: '?',\n",
       " 9: 'A',\n",
       " 10: 'I',\n",
       " 11: 'T',\n",
       " 12: 'a',\n",
       " 13: 'b',\n",
       " 14: 'c',\n",
       " 15: 'd',\n",
       " 16: 'e',\n",
       " 17: 'h',\n",
       " 18: 'i',\n",
       " 19: 'l',\n",
       " 20: 'm',\n",
       " 21: 'n',\n",
       " 22: 'o',\n",
       " 23: 'p',\n",
       " 24: 'r',\n",
       " 25: 's',\n",
       " 26: 't',\n",
       " 27: 'u'}"
      ]
     },
     "execution_count": 13,
     "metadata": {},
     "output_type": "execute_result"
    }
   ],
   "source": [
    "idx2token"
   ]
  },
  {
   "cell_type": "markdown",
   "metadata": {},
   "source": [
    "Now we can go back and forth between text and numericalized tokens:"
   ]
  },
  {
   "cell_type": "code",
   "execution_count": 14,
   "metadata": {},
   "outputs": [
    {
     "data": {
      "text/plain": [
       "'This is a test sentence. It includes -- some punctuation!? And some numbers 1, 2, 3.'"
      ]
     },
     "execution_count": 14,
     "metadata": {},
     "output_type": "execute_result"
    }
   ],
   "source": [
    "test_text"
   ]
  },
  {
   "cell_type": "code",
   "execution_count": 15,
   "metadata": {},
   "outputs": [],
   "source": [
    "tokens = list(test_text)"
   ]
  },
  {
   "cell_type": "code",
   "execution_count": 16,
   "metadata": {},
   "outputs": [],
   "source": [
    "tokens2idxs = np.array([token2idx[t] for t in tokens])"
   ]
  },
  {
   "cell_type": "code",
   "execution_count": 17,
   "metadata": {},
   "outputs": [
    {
     "data": {
      "text/plain": [
       "array([11, 17, 18, 25,  0, 18, 25,  0, 12,  0, 26, 16, 25, 26,  0, 25, 16,\n",
       "       21, 26, 16, 21, 14, 16,  4,  0, 10, 26,  0, 18, 21, 14, 19, 27, 15,\n",
       "       16, 25,  0,  3,  3,  0, 25, 22, 20, 16,  0, 23, 27, 21, 14, 26, 27,\n",
       "       12, 26, 18, 22, 21,  1,  8,  0,  9, 21, 15,  0, 25, 22, 20, 16,  0,\n",
       "       21, 27, 20, 13, 16, 24, 25,  0,  5,  2,  0,  6,  2,  0,  7,  4])"
      ]
     },
     "execution_count": 17,
     "metadata": {},
     "output_type": "execute_result"
    }
   ],
   "source": [
    "tokens2idxs"
   ]
  },
  {
   "cell_type": "code",
   "execution_count": 18,
   "metadata": {},
   "outputs": [
    {
     "name": "stdout",
     "output_type": "stream",
     "text": [
      "This is a test sentence. It includes -- some punctuation!? And some numbers 1, 2, 3.\n"
     ]
    }
   ],
   "source": [
    "print(''.join([idx2token[i] for i in tokens2idxs]))"
   ]
  },
  {
   "cell_type": "markdown",
   "metadata": {},
   "source": [
    "This tokenization strategy ignores the structure in the text and is not very useful for most language tasks. Rather, we want to preserve some of the structure in the text when tokenizing it. Let's look at some other strategies."
   ]
  },
  {
   "cell_type": "markdown",
   "metadata": {},
   "source": [
    "## Tokenize by matching string patterns"
   ]
  },
  {
   "cell_type": "code",
   "execution_count": 19,
   "metadata": {},
   "outputs": [],
   "source": [
    "import re"
   ]
  },
  {
   "cell_type": "code",
   "execution_count": 20,
   "metadata": {},
   "outputs": [],
   "source": [
    "def basic_tokenization(text, pattern, include_whitespace=False, verbose=False):\n",
    "    \"\"\"\n",
    "    Tokenizes the input text based on the provided pattern.\n",
    "\n",
    "    Parameters:\n",
    "    text (str): The text to tokenize.\n",
    "    pattern (str): The pattern to use for tokenization.\n",
    "    include_whitespace (bool): If True, includes whitespace as a tokens.\n",
    "\n",
    "    Returns:\n",
    "    list: The list of tokens.\n",
    "    \"\"\"\n",
    "    result = re.split(pattern, text)\n",
    "    if not include_whitespace:\n",
    "        result = [item.strip() for item in result if item.strip()]\n",
    "    if verbose:\n",
    "        print(\"Whitespace included:\", include_whitespace)\n",
    "        print(\"Input:\", text)\n",
    "        print(\"Length of input:\", len(text))\n",
    "        print(\"Result:\", result)\n",
    "        print(\"Number of tokens:\", len(result))\n",
    "    return result"
   ]
  },
  {
   "cell_type": "markdown",
   "metadata": {},
   "source": [
    "### Word tokenization by splitting on whitespace"
   ]
  },
  {
   "cell_type": "code",
   "execution_count": 21,
   "metadata": {},
   "outputs": [
    {
     "name": "stdout",
     "output_type": "stream",
     "text": [
      "Whitespace included: False\n",
      "Input: This is a test sentence. It includes -- some punctuation!? And some numbers 1, 2, 3.\n",
      "Length of input: 84\n",
      "Result: ['This', 'is', 'a', 'test', 'sentence.', 'It', 'includes', '--', 'some', 'punctuation!?', 'And', 'some', 'numbers', '1,', '2,', '3.']\n",
      "Number of tokens: 16\n"
     ]
    }
   ],
   "source": [
    "_ = basic_tokenization(test_text, r'(\\s)', include_whitespace=False, verbose=True)"
   ]
  },
  {
   "cell_type": "code",
   "execution_count": 22,
   "metadata": {},
   "outputs": [
    {
     "name": "stdout",
     "output_type": "stream",
     "text": [
      "Whitespace included: True\n",
      "Input: This is a test sentence. It includes -- some punctuation!? And some numbers 1, 2, 3.\n",
      "Length of input: 84\n",
      "Result: ['This', ' ', 'is', ' ', 'a', ' ', 'test', ' ', 'sentence.', ' ', 'It', ' ', 'includes', ' ', '--', ' ', 'some', ' ', 'punctuation!?', ' ', 'And', ' ', 'some', ' ', 'numbers', ' ', '1,', ' ', '2,', ' ', '3.']\n",
      "Number of tokens: 31\n"
     ]
    }
   ],
   "source": [
    "_ = basic_tokenization(test_text, r'(\\s)', include_whitespace=True, verbose=True)"
   ]
  },
  {
   "cell_type": "markdown",
   "metadata": {},
   "source": [
    "One would never use this in practice, as it's very inefficient and uses no features of language except that words tend to, in many languages, be separated by spaces. Among other things, we lose punctuation and the fact that some words are contractions of multiple words (for example \"here's\", \"isn't\", and \"don't\"). By specifying a set of rules, we can do better."
   ]
  },
  {
   "cell_type": "markdown",
   "metadata": {},
   "source": [
    "<img src=\"https://spacy.io/images/tokenization.svg\"> <br> <small>Illustration from spaCy's documentation: https://spacy.io/usage/linguistic-features#tokenization</small>"
   ]
  },
  {
   "cell_type": "markdown",
   "metadata": {},
   "source": [
    "### Split on whitespace and punctuation"
   ]
  },
  {
   "cell_type": "markdown",
   "metadata": {},
   "source": [
    "Split on commas and periods:"
   ]
  },
  {
   "cell_type": "code",
   "execution_count": 23,
   "metadata": {},
   "outputs": [
    {
     "name": "stdout",
     "output_type": "stream",
     "text": [
      "Whitespace included: False\n",
      "Input: This is a test sentence. It includes -- some punctuation!? And some numbers 1, 2, 3.\n",
      "Length of input: 84\n",
      "Result: ['This', 'is', 'a', 'test', 'sentence', '.', 'It', 'includes', '--', 'some', 'punctuation!?', 'And', 'some', 'numbers', '1', ',', '2', ',', '3', '.']\n",
      "Number of tokens: 20\n"
     ]
    }
   ],
   "source": [
    "_ = basic_tokenization(test_text, r'([,.]|\\s)', include_whitespace=False, verbose=True)"
   ]
  },
  {
   "cell_type": "markdown",
   "metadata": {},
   "source": [
    "Add additional punctuation:"
   ]
  },
  {
   "cell_type": "code",
   "execution_count": 24,
   "metadata": {},
   "outputs": [
    {
     "name": "stdout",
     "output_type": "stream",
     "text": [
      "Whitespace included: False\n",
      "Input: This is a test sentence. It includes -- some punctuation!? And some numbers 1, 2, 3.\n",
      "Length of input: 84\n",
      "Result: ['This', 'is', 'a', 'test', 'sentence', '.', 'It', 'includes', '--', 'some', 'punctuation', '!', '?', 'And', 'some', 'numbers', '1', ',', '2', ',', '3', '.']\n",
      "Number of tokens: 22\n"
     ]
    }
   ],
   "source": [
    "_ = basic_tokenization(test_text, r'([,.?_!\"()\\']|--|\\s)', include_whitespace=False, verbose=True)"
   ]
  },
  {
   "cell_type": "markdown",
   "metadata": {},
   "source": [
    "> **Your turn!** Experiment with different pattern values in the `basic_tokenizer` function. Note the effect on the number of tokens and the tokens themselves."
   ]
  },
  {
   "cell_type": "markdown",
   "metadata": {},
   "source": [
    "## Apply tokenization to the entire text corpus"
   ]
  },
  {
   "cell_type": "code",
   "execution_count": 25,
   "metadata": {},
   "outputs": [],
   "source": [
    "pattern = r'([,.?_!\"():&\\']|--|\\s)'"
   ]
  },
  {
   "cell_type": "code",
   "execution_count": 26,
   "metadata": {},
   "outputs": [],
   "source": [
    "try:\n",
    "    with urllib.request.urlopen(text_shakespeare) as response:\n",
    "        data = response.read().decode('utf-8')\n",
    "\n",
    "    preprocessed = basic_tokenization(data, pattern, include_whitespace=False)\n",
    "    preprocessed = [item.lower() for item in preprocessed]\n",
    "    # Get the frequency of each token\n",
    "    token_counts = pd.Series(preprocessed).value_counts()\n",
    "    # Get the number of unique tokens\n",
    "    nb_tokens = len(token_counts)\n",
    "\n",
    "except urllib.error.URLError:\n",
    "        print(f\"Error opening URL {text_shakespeare}.\")"
   ]
  },
  {
   "cell_type": "code",
   "execution_count": 27,
   "metadata": {},
   "outputs": [
    {
     "data": {
      "text/plain": [
       "(1054375,\n",
       " ['first',\n",
       "  'citizen',\n",
       "  ':',\n",
       "  'before',\n",
       "  'we',\n",
       "  'proceed',\n",
       "  'any',\n",
       "  'further',\n",
       "  ',',\n",
       "  'hear',\n",
       "  'me',\n",
       "  'speak',\n",
       "  '.',\n",
       "  'all',\n",
       "  ':',\n",
       "  'speak',\n",
       "  ',',\n",
       "  'speak',\n",
       "  '.',\n",
       "  'first'])"
      ]
     },
     "execution_count": 27,
     "metadata": {},
     "output_type": "execute_result"
    }
   ],
   "source": [
    "len(preprocessed), preprocessed[:20]"
   ]
  },
  {
   "cell_type": "markdown",
   "metadata": {},
   "source": [
    "Here are the most common tokens in the dataset:"
   ]
  },
  {
   "cell_type": "code",
   "execution_count": 28,
   "metadata": {},
   "outputs": [
    {
     "data": {
      "text/plain": [
       ",      79977\n",
       ":      44576\n",
       ".      33850\n",
       "the    26221\n",
       "'      24028\n",
       "and    23528\n",
       "i      21808\n",
       "to     18163\n",
       "of     16341\n",
       "you    13551\n",
       "Name: count, dtype: int64"
      ]
     },
     "execution_count": 28,
     "metadata": {},
     "output_type": "execute_result"
    }
   ],
   "source": [
    "token_counts.head(10)"
   ]
  },
  {
   "cell_type": "code",
   "execution_count": 29,
   "metadata": {},
   "outputs": [
    {
     "data": {
      "text/plain": [
       "29021"
      ]
     },
     "execution_count": 29,
     "metadata": {},
     "output_type": "execute_result"
    }
   ],
   "source": [
    "# Total number of tokens\n",
    "nb_tokens"
   ]
  },
  {
   "cell_type": "markdown",
   "metadata": {},
   "source": [
    "## Building a vocabulary"
   ]
  },
  {
   "cell_type": "markdown",
   "metadata": {},
   "source": [
    "If we want to map a string to a set of tokens, we need to have a fixed set of tokens to map to. Moreover, if we want to decode a set of tokens to a string, we need to have a fixed set of tokens to map from. This is the motivation for building a **vocabulary**."
   ]
  },
  {
   "cell_type": "markdown",
   "metadata": {},
   "source": [
    "As an example, consider our test text"
   ]
  },
  {
   "cell_type": "code",
   "execution_count": 30,
   "metadata": {},
   "outputs": [
    {
     "data": {
      "text/plain": [
       "'This is a test sentence. It includes -- some punctuation!? And some numbers 1, 2, 3.'"
      ]
     },
     "execution_count": 30,
     "metadata": {},
     "output_type": "execute_result"
    }
   ],
   "source": [
    "test_text"
   ]
  },
  {
   "cell_type": "markdown",
   "metadata": {},
   "source": [
    "As we recall, this can be tokenized by splitting on whitespace and punctuation:"
   ]
  },
  {
   "cell_type": "code",
   "execution_count": 31,
   "metadata": {},
   "outputs": [],
   "source": [
    "pattern = r'([,.?_!\"():&\\']|--|\\s)'"
   ]
  },
  {
   "cell_type": "code",
   "execution_count": 32,
   "metadata": {},
   "outputs": [
    {
     "data": {
      "text/plain": [
       "['This',\n",
       " 'is',\n",
       " 'a',\n",
       " 'test',\n",
       " 'sentence',\n",
       " '.',\n",
       " 'It',\n",
       " 'includes',\n",
       " '--',\n",
       " 'some',\n",
       " 'punctuation',\n",
       " '!',\n",
       " '?',\n",
       " 'And',\n",
       " 'some',\n",
       " 'numbers',\n",
       " '1',\n",
       " ',',\n",
       " '2',\n",
       " ',',\n",
       " '3',\n",
       " '.']"
      ]
     },
     "execution_count": 32,
     "metadata": {},
     "output_type": "execute_result"
    }
   ],
   "source": [
    "tokens = basic_tokenization(test_text, pattern, include_whitespace=False, verbose=False)\n",
    "tokens"
   ]
  },
  {
   "cell_type": "markdown",
   "metadata": {},
   "source": [
    "From this, we can construct a vocabulary. Here's a first, simple approach: sort the tokens alphabetically and assign an index to each token:"
   ]
  },
  {
   "cell_type": "code",
   "execution_count": 33,
   "metadata": {},
   "outputs": [],
   "source": [
    "all_words = sorted(list(set(tokens)))\n",
    "vocab_size = len(all_words)"
   ]
  },
  {
   "cell_type": "code",
   "execution_count": 34,
   "metadata": {},
   "outputs": [
    {
     "data": {
      "text/plain": [
       "['!',\n",
       " ',',\n",
       " '--',\n",
       " '.',\n",
       " '1',\n",
       " '2',\n",
       " '3',\n",
       " '?',\n",
       " 'And',\n",
       " 'It',\n",
       " 'This',\n",
       " 'a',\n",
       " 'includes',\n",
       " 'is',\n",
       " 'numbers',\n",
       " 'punctuation',\n",
       " 'sentence',\n",
       " 'some',\n",
       " 'test']"
      ]
     },
     "execution_count": 34,
     "metadata": {},
     "output_type": "execute_result"
    }
   ],
   "source": [
    "all_words"
   ]
  },
  {
   "cell_type": "code",
   "execution_count": 35,
   "metadata": {},
   "outputs": [
    {
     "data": {
      "text/plain": [
       "19"
      ]
     },
     "execution_count": 35,
     "metadata": {},
     "output_type": "execute_result"
    }
   ],
   "source": [
    "vocab_size"
   ]
  },
  {
   "cell_type": "markdown",
   "metadata": {},
   "source": [
    "Then we can map the unique tokens to unique token indices:"
   ]
  },
  {
   "cell_type": "code",
   "execution_count": 36,
   "metadata": {},
   "outputs": [],
   "source": [
    "vocab = {token:integer for integer, token in enumerate(all_words)}"
   ]
  },
  {
   "cell_type": "code",
   "execution_count": 37,
   "metadata": {},
   "outputs": [
    {
     "data": {
      "text/plain": [
       "{'!': 0,\n",
       " ',': 1,\n",
       " '--': 2,\n",
       " '.': 3,\n",
       " '1': 4,\n",
       " '2': 5,\n",
       " '3': 6,\n",
       " '?': 7,\n",
       " 'And': 8,\n",
       " 'It': 9,\n",
       " 'This': 10,\n",
       " 'a': 11,\n",
       " 'includes': 12,\n",
       " 'is': 13,\n",
       " 'numbers': 14,\n",
       " 'punctuation': 15,\n",
       " 'sentence': 16,\n",
       " 'some': 17,\n",
       " 'test': 18}"
      ]
     },
     "execution_count": 37,
     "metadata": {},
     "output_type": "execute_result"
    }
   ],
   "source": [
    "vocab"
   ]
  },
  {
   "cell_type": "markdown",
   "metadata": {},
   "source": [
    "<img src=\"https://github.com/HVL-ML/DAT255/blob/main/nbs/assets/building_a_vocabulary_from_corpus.png?raw=true\" width=80%>"
   ]
  },
  {
   "cell_type": "markdown",
   "metadata": {},
   "source": [
    "### Building a vocabulary from the entire text corpus"
   ]
  },
  {
   "cell_type": "markdown",
   "metadata": {},
   "source": [
    "Let's apply this to the entire text corpus:"
   ]
  },
  {
   "cell_type": "code",
   "execution_count": 38,
   "metadata": {},
   "outputs": [],
   "source": [
    "all_words = sorted(list(set(preprocessed)))\n",
    "vocab_size = len(all_words)"
   ]
  },
  {
   "cell_type": "code",
   "execution_count": 39,
   "metadata": {},
   "outputs": [
    {
     "data": {
      "text/plain": [
       "29021"
      ]
     },
     "execution_count": 39,
     "metadata": {},
     "output_type": "execute_result"
    }
   ],
   "source": [
    "vocab_size"
   ]
  },
  {
   "cell_type": "markdown",
   "metadata": {},
   "source": [
    "> Note that having a large vocab size means that we will end up with a large number of parameters in our model. For example, if you have a vocab size of 100,000, and your first layer in the network compresses this to 1024 dimensional word embeddings, then the first layer will have 100.000 x 1000 = 100 million parameters. Just for the first layer! This is why we often use subword tokenization, which we'll look at later."
   ]
  },
  {
   "cell_type": "code",
   "execution_count": 40,
   "metadata": {},
   "outputs": [],
   "source": [
    "vocab = {token:integer for integer, token in enumerate(all_words)}"
   ]
  },
  {
   "cell_type": "code",
   "execution_count": 41,
   "metadata": {},
   "outputs": [
    {
     "name": "stdout",
     "output_type": "stream",
     "text": [
      "('!', 0)\n",
      "('&', 1)\n",
      "(\"'\", 2)\n",
      "(',', 3)\n",
      "('-', 4)\n",
      "('--', 5)\n",
      "('-but', 6)\n",
      "('-groves', 7)\n",
      "('-guts', 8)\n",
      "('.', 9)\n",
      "('3', 10)\n",
      "(':', 11)\n",
      "(';', 12)\n",
      "('?', 13)\n",
      "('[and', 14)\n",
      "('[gower]', 15)\n",
      "('[prospero]', 16)\n",
      "(']', 17)\n",
      "('a', 18)\n",
      "('a-bed', 19)\n",
      "('a-bed;', 20)\n",
      "('a-birding', 21)\n",
      "('a-birding;', 22)\n",
      "('a-bleeding', 23)\n",
      "('a-bleeding;', 24)\n",
      "('a-breeding', 25)\n",
      "('a-brewing', 26)\n",
      "('a-cold', 27)\n",
      "('a-cursing', 28)\n",
      "('a-day', 29)\n",
      "('a-doing', 30)\n"
     ]
    }
   ],
   "source": [
    "import itertools\n",
    "\n",
    "for item in itertools.islice(vocab.items(), 31):\n",
    "    print(item)"
   ]
  },
  {
   "cell_type": "markdown",
   "metadata": {},
   "source": [
    "## A tokenizer class"
   ]
  },
  {
   "cell_type": "markdown",
   "metadata": {},
   "source": [
    "We can create a class to wrap our encoding and decoding functions. It needs to store the vocab and provide a method to encode a string and decode a list of tokens."
   ]
  },
  {
   "cell_type": "code",
   "execution_count": 42,
   "metadata": {},
   "outputs": [],
   "source": [
    "class OurTokenizerV1:\n",
    "    def __init__(self, vocab, pattern):\n",
    "        \"\"\"\n",
    "        Initialize the tokenizer with a vocabulary.\n",
    "        \n",
    "        Parameters:\n",
    "        vocab (dict): A dictionary mapping strings to integers.\n",
    "        pattern (str): The pattern to use for tokenization.\n",
    "        \"\"\"\n",
    "        self.pattern = pattern\n",
    "        self.str_to_int = vocab\n",
    "        self.int_to_str = {i:s for s,i in vocab.items()}\n",
    "\n",
    "    def encode(self, text):\n",
    "        \"\"\"\n",
    "        Encode a text string into a list of integers.\n",
    "        \n",
    "        Parameters:\n",
    "        text (str): The text to encode.\n",
    "        \n",
    "        Returns:\n",
    "        list: The encoded text.\n",
    "        \"\"\"\n",
    "        preprocessed = basic_tokenization(text, self.pattern, include_whitespace=False)\n",
    "        preprocessed = [item.lower() for item in preprocessed]\n",
    "        return [self.str_to_int[s] for s in preprocessed]  \n",
    "    \n",
    "    def decode(self, ids):\n",
    "        \"\"\"\n",
    "        Decode a list of integers into a text string.\n",
    "        \n",
    "        Parameters:\n",
    "        ids (list): The list of integers to decode.\n",
    "        \n",
    "        Returns:\n",
    "        str: The decoded text.\n",
    "        \"\"\"\n",
    "        text = \" \".join([self.int_to_str[i] for i in ids]) \n",
    "\n",
    "        text = re.sub(self.pattern, r'\\1', text)\n",
    "\n",
    "        return text"
   ]
  },
  {
   "cell_type": "markdown",
   "metadata": {},
   "source": [
    "Let's test it using the pattern and vocab from earlier:"
   ]
  },
  {
   "cell_type": "code",
   "execution_count": 43,
   "metadata": {},
   "outputs": [
    {
     "data": {
      "text/plain": [
       "'([,.?_!\"():&\\\\\\']|--|\\\\s)'"
      ]
     },
     "execution_count": 43,
     "metadata": {},
     "output_type": "execute_result"
    }
   ],
   "source": [
    "pattern"
   ]
  },
  {
   "cell_type": "code",
   "execution_count": 44,
   "metadata": {},
   "outputs": [],
   "source": [
    "tokenizer = OurTokenizerV1(vocab, pattern)"
   ]
  },
  {
   "cell_type": "code",
   "execution_count": 45,
   "metadata": {},
   "outputs": [
    {
     "data": {
      "text/plain": [
       "[9703, 3, 28983, 14013, 3553, 15403, 13517, 4288, 8308, 25668, 25232, 18374, 9]"
      ]
     },
     "execution_count": 45,
     "metadata": {},
     "output_type": "execute_result"
    }
   ],
   "source": [
    "ids = tokenizer.encode(\"First, you know Caius Marcius is chief enemy to the people.\")\n",
    "ids"
   ]
  },
  {
   "cell_type": "code",
   "execution_count": 46,
   "metadata": {},
   "outputs": [
    {
     "data": {
      "text/plain": [
       "'first , you know caius marcius is chief enemy to the people .'"
      ]
     },
     "execution_count": 46,
     "metadata": {},
     "output_type": "execute_result"
    }
   ],
   "source": [
    "tokenizer.decode(ids)"
   ]
  },
  {
   "cell_type": "markdown",
   "metadata": {},
   "source": [
    "What happens if we use a token that is not in the vocabulary?"
   ]
  },
  {
   "cell_type": "code",
   "execution_count": 47,
   "metadata": {},
   "outputs": [
    {
     "ename": "KeyError",
     "evalue": "'vocabulary'",
     "output_type": "error",
     "traceback": [
      "\u001b[0;31m---------------------------------------------------------------------------\u001b[0m",
      "\u001b[0;31mKeyError\u001b[0m                                  Traceback (most recent call last)",
      "Cell \u001b[0;32mIn[47], line 1\u001b[0m\n\u001b[0;32m----> 1\u001b[0m tokenizer\u001b[38;5;241m.\u001b[39mencode(\u001b[38;5;124m\"\u001b[39m\u001b[38;5;124mThis sentence contains words that are not in the vocabulary. For example, antidisestablishmentarianism\u001b[39m\u001b[38;5;124m\"\u001b[39m)\n",
      "Cell \u001b[0;32mIn[42], line 26\u001b[0m, in \u001b[0;36mOurTokenizerV1.encode\u001b[0;34m(self, text)\u001b[0m\n\u001b[1;32m     24\u001b[0m preprocessed \u001b[38;5;241m=\u001b[39m basic_tokenization(text, \u001b[38;5;28mself\u001b[39m\u001b[38;5;241m.\u001b[39mpattern, include_whitespace\u001b[38;5;241m=\u001b[39m\u001b[38;5;28;01mFalse\u001b[39;00m)\n\u001b[1;32m     25\u001b[0m preprocessed \u001b[38;5;241m=\u001b[39m [item\u001b[38;5;241m.\u001b[39mlower() \u001b[38;5;28;01mfor\u001b[39;00m item \u001b[38;5;129;01min\u001b[39;00m preprocessed]\n\u001b[0;32m---> 26\u001b[0m \u001b[38;5;28;01mreturn\u001b[39;00m [\u001b[38;5;28mself\u001b[39m\u001b[38;5;241m.\u001b[39mstr_to_int[s] \u001b[38;5;28;01mfor\u001b[39;00m s \u001b[38;5;129;01min\u001b[39;00m preprocessed]\n",
      "Cell \u001b[0;32mIn[42], line 26\u001b[0m, in \u001b[0;36m<listcomp>\u001b[0;34m(.0)\u001b[0m\n\u001b[1;32m     24\u001b[0m preprocessed \u001b[38;5;241m=\u001b[39m basic_tokenization(text, \u001b[38;5;28mself\u001b[39m\u001b[38;5;241m.\u001b[39mpattern, include_whitespace\u001b[38;5;241m=\u001b[39m\u001b[38;5;28;01mFalse\u001b[39;00m)\n\u001b[1;32m     25\u001b[0m preprocessed \u001b[38;5;241m=\u001b[39m [item\u001b[38;5;241m.\u001b[39mlower() \u001b[38;5;28;01mfor\u001b[39;00m item \u001b[38;5;129;01min\u001b[39;00m preprocessed]\n\u001b[0;32m---> 26\u001b[0m \u001b[38;5;28;01mreturn\u001b[39;00m [\u001b[38;5;28mself\u001b[39m\u001b[38;5;241m.\u001b[39mstr_to_int[s] \u001b[38;5;28;01mfor\u001b[39;00m s \u001b[38;5;129;01min\u001b[39;00m preprocessed]\n",
      "\u001b[0;31mKeyError\u001b[0m: 'vocabulary'"
     ]
    }
   ],
   "source": [
    "tokenizer.encode(\"This sentence contains words that are not in the vocabulary. For example, antidisestablishmentarianism\")"
   ]
  },
  {
   "cell_type": "markdown",
   "metadata": {},
   "source": [
    "We have to deal with this somehow, as we can't guarantee that the tokenized text will only contain tokens from the vocabulary."
   ]
  },
  {
   "cell_type": "markdown",
   "metadata": {},
   "source": [
    "## Adding special tokens"
   ]
  },
  {
   "cell_type": "markdown",
   "metadata": {},
   "source": [
    "To deal with unknown tokens, we can add a special token to the vocabulary: the `<|unk|>` token. "
   ]
  },
  {
   "cell_type": "code",
   "execution_count": 48,
   "metadata": {},
   "outputs": [],
   "source": [
    "all_words.extend([\"<|unk|>\"])"
   ]
  },
  {
   "cell_type": "code",
   "execution_count": 49,
   "metadata": {},
   "outputs": [],
   "source": [
    "vocab = {token:integer for integer, token in enumerate(all_words)}"
   ]
  },
  {
   "cell_type": "code",
   "execution_count": 50,
   "metadata": {},
   "outputs": [
    {
     "name": "stdout",
     "output_type": "stream",
     "text": [
      "('zodiacs', 29017)\n",
      "('zone', 29018)\n",
      "('zounds', 29019)\n",
      "('zwaggered', 29020)\n",
      "('<|unk|>', 29021)\n"
     ]
    }
   ],
   "source": [
    "for i, item in enumerate(list(vocab.items())[-5:]):\n",
    "    print(item)"
   ]
  },
  {
   "cell_type": "markdown",
   "metadata": {},
   "source": [
    "Our new token is added and has the token ID of 29021."
   ]
  },
  {
   "cell_type": "markdown",
   "metadata": {},
   "source": [
    "A small update to our tokenizer class can handle unknown tokens:"
   ]
  },
  {
   "cell_type": "code",
   "execution_count": 51,
   "metadata": {},
   "outputs": [],
   "source": [
    "class OurTokenizerV2:\n",
    "    def __init__(self, vocab, pattern):\n",
    "        \"\"\"\n",
    "        Initialize the tokenizer with a vocabulary.\n",
    "        \n",
    "        Parameters:\n",
    "        vocab (dict): A dictionary mapping strings to integers.\n",
    "        pattern (str): The pattern to use for tokenization.\n",
    "        \"\"\"\n",
    "        self.pattern = pattern\n",
    "        self.str_to_int = vocab\n",
    "        self.int_to_str = {i:s for s,i in vocab.items()}\n",
    "\n",
    "    def encode(self, text):\n",
    "        \"\"\"\n",
    "        Encode a text string into a list of integers.\n",
    "        \n",
    "        Parameters:\n",
    "        text (str): The text to encode.\n",
    "        \n",
    "        Returns:\n",
    "        list: The encoded text.\n",
    "        \"\"\"\n",
    "        preprocessed = basic_tokenization(text, self.pattern, include_whitespace=False)\n",
    "        preprocessed = [item.lower() for item in preprocessed]\n",
    "        preprocessed = [item if item in self.str_to_int else \"<|unk|>\" for item in preprocessed]\n",
    "        return [self.str_to_int[s] for s in preprocessed]  \n",
    "    \n",
    "    def decode(self, ids):\n",
    "        \"\"\"\n",
    "        Decode a list of integers into a text string.\n",
    "        \n",
    "        Parameters:\n",
    "        ids (list): The list of integers to decode.\n",
    "        \n",
    "        Returns:\n",
    "        str: The decoded text.\n",
    "        \"\"\"\n",
    "        text = \" \".join([self.int_to_str[i] for i in ids]) \n",
    "\n",
    "        text = re.sub(self.pattern, r'\\1', text)\n",
    "\n",
    "        return text"
   ]
  },
  {
   "cell_type": "code",
   "execution_count": 52,
   "metadata": {},
   "outputs": [],
   "source": [
    "tokenizer2 = OurTokenizerV2(vocab, pattern)"
   ]
  },
  {
   "cell_type": "code",
   "execution_count": 53,
   "metadata": {},
   "outputs": [
    {
     "data": {
      "text/plain": [
       "[25342,\n",
       " 22245,\n",
       " 5330,\n",
       " 28728,\n",
       " 25224,\n",
       " 1209,\n",
       " 17079,\n",
       " 12950,\n",
       " 25232,\n",
       " 29021,\n",
       " 9,\n",
       " 10044,\n",
       " 8859,\n",
       " 3,\n",
       " 29021]"
      ]
     },
     "execution_count": 53,
     "metadata": {},
     "output_type": "execute_result"
    }
   ],
   "source": [
    "idxs = tokenizer2.encode(\"This sentence contains words that are not in the vocabulary. For example, antidisestablishmentarianism\")\n",
    "idxs"
   ]
  },
  {
   "cell_type": "code",
   "execution_count": 54,
   "metadata": {},
   "outputs": [
    {
     "data": {
      "text/plain": [
       "'this sentence contains words that are not in the <|unk|> . for example , <|unk|>'"
      ]
     },
     "execution_count": 54,
     "metadata": {},
     "output_type": "execute_result"
    }
   ],
   "source": [
    "tokenizer2.decode(idxs)"
   ]
  },
  {
   "cell_type": "markdown",
   "metadata": {},
   "source": [
    "## Subword tokenization and byte-pair encoding (BPE)"
   ]
  },
  {
   "cell_type": "markdown",
   "metadata": {},
   "source": [
    "### Subword tokenization"
   ]
  },
  {
   "cell_type": "markdown",
   "metadata": {},
   "source": [
    "Subword tokenization is a method that finds a middle ground between breaking down text into single characters and keeping them as whole words. It works by splitting words into smaller pieces. This way, common words stay as they are, but rare words get broken down into parts that we see more often."
   ]
  },
  {
   "cell_type": "markdown",
   "metadata": {},
   "source": [
    "Modern subword tokenizers tend to be _trained_ on the text corpus you're interested in (or pre-trained on a large corpus that you want to train a model that you can use for fine-tuning). "
   ]
  },
  {
   "cell_type": "markdown",
   "metadata": {},
   "source": [
    "### Byte-Pair encoding: an example of training an encoder"
   ]
  },
  {
   "cell_type": "markdown",
   "metadata": {},
   "source": [
    "When faced with a particular text corpus the above rules-based tokenizers can often be both wasteful (with superfluous tokens for words that doen't appear in your corpus) and inefficient (for example, lacking tokens that can represent important and often-used words in your particular corpus). \n",
    "\n",
    "Tokenizers based on _training_, i.e. identification of important words or word pieces, can therefore be useful, and this is thus part of most modern tokenizers. An example is the **byte pair encoding** used by, among others, GPT models. "
   ]
  },
  {
   "cell_type": "markdown",
   "metadata": {},
   "source": [
    "The Byte Pair Encoding (BPE) was first introduced for data compression by finding and combining common pairs of letters or bytes. \n",
    "\n",
    "> It was introduced by Philip Gage in 1994 for data compression (_\"a simple general-purpose data compression algorithm\"_), based on identifying common byte pairs. Here's a copy of the original article http://www.pennelynn.com/Documents/CUJ/HTML/94HTML/19940045.HTM. See also Wikipedia for a simple example of BPE used for data compression: https://en.wikipedia.org/wiki/Byte_pair_encoding\n",
    "\n",
    "Currently, it's commonly used in language processing to figure out which pieces of words to combine to make our vocabulary better suited to the text we're working with. \n",
    "\n",
    "The procedure is roughly the following: \n",
    "\n",
    "```\n",
    "1. Add identifiers marking the end of each word\n",
    "2. Calculate the word frequencies in the text corpus\n",
    "3. Split the words into characters and calculate the character frequencies\n",
    "4. From character tokens, count the frequency of consecutive byte pairs and merge the most frequent byte pair\n",
    "5. Continue until a manually defined iteration limit is reached, or the token limit is reached. \n",
    "```"
   ]
  },
  {
   "cell_type": "markdown",
   "metadata": {},
   "source": [
    "This method is straightforward and focuses on what's seen most often. It makes our vocabulary more relevant to the text, especially when dealing with unusual words."
   ]
  },
  {
   "cell_type": "markdown",
   "metadata": {},
   "source": [
    "> This is a greedy algorithm. Non-greedy variants exist and other tweaks to BPE are in use."
   ]
  },
  {
   "cell_type": "markdown",
   "metadata": {},
   "source": [
    "> Pros and cons: Using BPE makes our vocabulary more flexible and efficient. It's especially good at handling rare words without needing a huge list of every possible word. However, because it always looks for the most common pairs, it might not always create the best possible combination for every situation. Plus, figuring out when to stop combining letters can be tricky."
   ]
  },
  {
   "cell_type": "markdown",
   "metadata": {},
   "source": [
    "Rather than implementing BPE from scratch, we can use `tiktoken` to grab a trained BPE tokenizer."
   ]
  },
  {
   "cell_type": "code",
   "execution_count": 57,
   "metadata": {},
   "outputs": [
    {
     "name": "stdout",
     "output_type": "stream",
     "text": [
      "Note: you may need to restart the kernel to use updated packages.\n"
     ]
    }
   ],
   "source": [
    "%pip install -Uqq tiktoken"
   ]
  },
  {
   "cell_type": "code",
   "execution_count": 58,
   "metadata": {},
   "outputs": [],
   "source": [
    "import tiktoken"
   ]
  },
  {
   "cell_type": "code",
   "execution_count": 59,
   "metadata": {},
   "outputs": [],
   "source": [
    "tokenizer = tiktoken.get_encoding(\"gpt2\")"
   ]
  },
  {
   "cell_type": "code",
   "execution_count": 60,
   "metadata": {},
   "outputs": [],
   "source": [
    "test_text = \"This sentence contains words that are not in the vocabulary. For example, antidisestablishmentarianism\""
   ]
  },
  {
   "cell_type": "code",
   "execution_count": 61,
   "metadata": {},
   "outputs": [
    {
     "data": {
      "text/plain": [
       "[1212,\n",
       " 6827,\n",
       " 4909,\n",
       " 2456,\n",
       " 326,\n",
       " 389,\n",
       " 407,\n",
       " 287,\n",
       " 262,\n",
       " 25818,\n",
       " 13,\n",
       " 1114,\n",
       " 1672,\n",
       " 11,\n",
       " 1885,\n",
       " 29207,\n",
       " 44390,\n",
       " 3699,\n",
       " 1042]"
      ]
     },
     "execution_count": 61,
     "metadata": {},
     "output_type": "execute_result"
    }
   ],
   "source": [
    "idxs = tokenizer.encode(test_text)\n",
    "idxs"
   ]
  },
  {
   "cell_type": "code",
   "execution_count": 62,
   "metadata": {},
   "outputs": [
    {
     "data": {
      "text/plain": [
       "(13, 19)"
      ]
     },
     "execution_count": 62,
     "metadata": {},
     "output_type": "execute_result"
    }
   ],
   "source": [
    "len(test_text.split()), len(idxs)"
   ]
  },
  {
   "cell_type": "code",
   "execution_count": 63,
   "metadata": {},
   "outputs": [
    {
     "data": {
      "text/plain": [
       "'This sentence contains words that are not in the vocabulary. For example, antidisestablishmentarianism'"
      ]
     },
     "execution_count": 63,
     "metadata": {},
     "output_type": "execute_result"
    }
   ],
   "source": [
    "tokenizer.decode(idxs)"
   ]
  },
  {
   "cell_type": "code",
   "execution_count": 64,
   "metadata": {},
   "outputs": [
    {
     "data": {
      "text/plain": [
       "[415, 29207, 44390, 3699, 1042]"
      ]
     },
     "execution_count": 64,
     "metadata": {},
     "output_type": "execute_result"
    }
   ],
   "source": [
    "tokenizer.encode(\"antidisestablishmentarianism\")"
   ]
  },
  {
   "cell_type": "code",
   "execution_count": 65,
   "metadata": {},
   "outputs": [
    {
     "name": "stdout",
     "output_type": "stream",
     "text": [
      "ant\n",
      "idis\n",
      "establishment\n",
      "arian\n",
      "ism\n"
     ]
    }
   ],
   "source": [
    "for i in tokenizer.encode(\"antidisestablishmentarianism\"):\n",
    "    print(tokenizer.decode([i]))"
   ]
  },
  {
   "cell_type": "markdown",
   "metadata": {},
   "source": [
    "# Batching and dataloaders"
   ]
  },
  {
   "cell_type": "markdown",
   "metadata": {},
   "source": [
    "_TBA_"
   ]
  },
  {
   "cell_type": "markdown",
   "metadata": {},
   "source": [
    "# Embeddings"
   ]
  },
  {
   "cell_type": "markdown",
   "metadata": {},
   "source": [
    "So far, we've learned how to break down text into tokens (words, subwords, etc.) and represent them as simple numerical indices. While that's a necessary first step, there are two problems: \n",
    "\n",
    "(i) These numerical representations don't capture the meaning or relationships between words;<br>\n",
    "(ii) our deep neural network models require continuous vector representations as inputs, as they are trained using backpropagation and gradient descent.\n",
    "\n",
    "This is where embeddings come into play."
   ]
  },
  {
   "cell_type": "markdown",
   "metadata": {},
   "source": [
    "## Key concepts\n"
   ]
  },
  {
   "cell_type": "markdown",
   "metadata": {},
   "source": [
    "\n",
    "**Vector representations:** Embeddings represent words (or tokens) as dense vectors of numbers, aiming to place words with similar contexts closer together.\n",
    "\n",
    "**Semantic similarity:** Instead of just an arbitrary number, an embedding vector tries to capture a word's meaning and its relationships with other words. Semantically similar words (e.g., 'cat' and 'dog') would ideally have embeddings closer together in the vector space.\n",
    "\n",
    "> Note that embeddings aren't restricted to words or word-based tokens. They can also represent entire sentences, paragraphs, or even code."
   ]
  },
  {
   "cell_type": "markdown",
   "metadata": {},
   "source": [
    "## Types of embeddings"
   ]
  },
  {
   "cell_type": "markdown",
   "metadata": {},
   "source": [
    "### Pre-trained embeddings"
   ]
  },
  {
   "cell_type": "markdown",
   "metadata": {},
   "source": [
    "\n",
    "Pre-trained embeddings are embeddings trained on a large corpus of text. They are often trained using unsupervised learning methods like word2vec, GloVe, or fastText. These embeddings are then used as a starting point for training a model on a specific task, such as sentiment analysis or named entity recognition. As the embeddings are trained on massive text datasets, they can contain rich semantic information."
   ]
  },
  {
   "cell_type": "markdown",
   "metadata": {},
   "source": [
    "#### Example"
   ]
  },
  {
   "cell_type": "code",
   "execution_count": 66,
   "metadata": {},
   "outputs": [
    {
     "name": "stdout",
     "output_type": "stream",
     "text": [
      "Note: you may need to restart the kernel to use updated packages.\n"
     ]
    }
   ],
   "source": [
    "%pip install -Uqq torchtext"
   ]
  },
  {
   "cell_type": "code",
   "execution_count": 67,
   "metadata": {},
   "outputs": [],
   "source": [
    "import torch\n",
    "import torchtext.vocab as vocab"
   ]
  },
  {
   "cell_type": "code",
   "execution_count": 68,
   "metadata": {},
   "outputs": [],
   "source": [
    "glove = vocab.GloVe(name='6B', dim=100) # Example: Load 100-dimensional GloVe embeddings"
   ]
  },
  {
   "cell_type": "code",
   "execution_count": 69,
   "metadata": {},
   "outputs": [],
   "source": [
    "# Getting the embedding for a word\n",
    "word_embedding = glove.get_vecs_by_tokens('hello') "
   ]
  },
  {
   "cell_type": "code",
   "execution_count": 70,
   "metadata": {},
   "outputs": [
    {
     "data": {
      "text/plain": [
       "tensor([ 0.2669,  0.3963,  0.6169, -0.7745, -0.1039,  0.2670,  0.2788,  0.3099,\n",
       "         0.0055, -0.0853,  0.7360, -0.0984,  0.5479, -0.0303,  0.3348,  0.1409,\n",
       "        -0.0070,  0.3257,  0.2290,  0.4656, -0.1953,  0.3749, -0.7139, -0.5178,\n",
       "         0.7704,  1.0881, -0.6601, -0.1623,  0.9119,  0.2105,  0.0475,  1.0019,\n",
       "         1.1133,  0.7009, -0.0870,  0.4757,  0.1636, -0.4447,  0.4469, -0.9382,\n",
       "         0.0131,  0.0860, -0.6746,  0.4966, -0.0378, -0.1104, -0.2861,  0.0746,\n",
       "        -0.3153, -0.0938, -0.5707,  0.6686,  0.4531, -0.3415, -0.7166, -0.7527,\n",
       "         0.0752,  0.5790, -0.1191, -0.1138, -0.1003,  0.7134, -1.1574, -0.7403,\n",
       "         0.4045,  0.1802,  0.2145,  0.3764,  0.1124, -0.5364, -0.0251,  0.3189,\n",
       "        -0.2501, -0.6328, -0.0118,  1.3770,  0.8601,  0.2048, -0.3681, -0.6887,\n",
       "         0.5351, -0.4656,  0.2739,  0.4118, -0.8540, -0.0463,  0.1130, -0.2733,\n",
       "         0.1564, -0.2033,  0.5359,  0.5978,  0.6047,  0.1373,  0.4223, -0.6128,\n",
       "        -0.3849,  0.3584, -0.4846,  0.3073])"
      ]
     },
     "execution_count": 70,
     "metadata": {},
     "output_type": "execute_result"
    }
   ],
   "source": [
    "word_embedding"
   ]
  },
  {
   "cell_type": "markdown",
   "metadata": {},
   "source": [
    "### Measuring distance and similarity"
   ]
  },
  {
   "cell_type": "code",
   "execution_count": 71,
   "metadata": {},
   "outputs": [
    {
     "name": "stdout",
     "output_type": "stream",
     "text": [
      "Euclidean distance between 'cat' and 'dog':\n",
      "tensor(2.6811)\n"
     ]
    }
   ],
   "source": [
    "# Euclidean distance\n",
    "\n",
    "x = glove['cat']\n",
    "y = glove['dog']\n",
    "\n",
    "print(\"Euclidean distance between 'cat' and 'dog':\")\n",
    "print(torch.norm(y - x))"
   ]
  },
  {
   "cell_type": "code",
   "execution_count": 72,
   "metadata": {},
   "outputs": [
    {
     "name": "stdout",
     "output_type": "stream",
     "text": [
      "Euclidean distance between 'cat' and 'continent':\n",
      "tensor(6.5621)\n"
     ]
    }
   ],
   "source": [
    "# Euclidean distance\n",
    "\n",
    "x = glove['cat']\n",
    "y = glove['continent']\n",
    "\n",
    "print(\"Euclidean distance between 'cat' and 'continent':\")\n",
    "print(torch.norm(y - x))"
   ]
  },
  {
   "cell_type": "code",
   "execution_count": 73,
   "metadata": {},
   "outputs": [
    {
     "name": "stdout",
     "output_type": "stream",
     "text": [
      "Cosine similarity between 'cat' and 'dog':\n",
      "tensor([0.8798])\n"
     ]
    }
   ],
   "source": [
    "# Cosine similarity\n",
    "\n",
    "x = glove['cat']\n",
    "y = glove['dog']\n",
    "\n",
    "print(\"Cosine similarity between 'cat' and 'dog':\")\n",
    "\n",
    "print(torch.cosine_similarity(x.unsqueeze(0), y.unsqueeze(0)))"
   ]
  },
  {
   "cell_type": "markdown",
   "metadata": {},
   "source": [
    "Because 'cat' and 'dog' are semantically similar, their embeddings being close in the vector space helps our models generalize better, even if the word 'dog' didn't appear frequently in training data."
   ]
  },
  {
   "cell_type": "code",
   "execution_count": 74,
   "metadata": {},
   "outputs": [],
   "source": [
    "# What is the cosine similarity? \n",
    "\n",
    "def cosine_similarity(u, v):\n",
    "    \"\"\"\n",
    "    Returns the cosine of the angle between vectors `u` and `v`.\n",
    "    \"\"\"\n",
    "\n",
    "    return torch.dot(u, v) / (torch.norm(u) * torch.norm(v))\n",
    "\n"
   ]
  },
  {
   "cell_type": "markdown",
   "metadata": {},
   "source": [
    "When calculating cosine similarity between word embeddings, we measure the angle between their corresponding vectors.\n",
    "\n",
    "**Vectors and angles**:  Imagine each word's embedding as a vector in a high-dimensional space.  The cosine similarity tells us how much these vectors point in the same direction.\n",
    "\n",
    "Similarity:\n",
    "\n",
    "* Cosine similarity ranges from -1 to 1.\n",
    "* A value of 1 means the vectors are perfectly aligned (angle = 0 degrees), indicating very similar words.\n",
    "* A value of 0 means the vectors are orthogonal (angle = 90 degrees), suggesting no relationship.\n",
    "* A value of -1 means the vectors point in opposite directions (angle = 180 degrees), implying antonyms or highly dissimilar words.\n",
    "\n",
    "> **Key takeaway**:  Cosine similarity provides a way to quantify semantic relationships between words based on the geometry of their embeddings."
   ]
  },
  {
   "cell_type": "code",
   "execution_count": 75,
   "metadata": {},
   "outputs": [
    {
     "name": "stdout",
     "output_type": "stream",
     "text": [
      "dog 2.681130886077881\n",
      "bike 6.0225629806518555\n",
      "kitten 4.454165935516357\n",
      "puppy 3.9275598526000977\n",
      "kite 5.85930061340332\n",
      "computer 6.960630893707275\n",
      "neuron 7.568032264709473\n"
     ]
    }
   ],
   "source": [
    "# Measuring distance from a given word to a list of other words\n",
    "word = 'cat'\n",
    "other = ['dog', 'bike', 'kitten', 'puppy', 'kite', 'computer', 'neuron']\n",
    "\n",
    "for w in other:\n",
    "    dist = torch.norm(glove[word] - glove[w]) # euclidean distance\n",
    "    print(w, float(dist))"
   ]
  },
  {
   "cell_type": "code",
   "execution_count": 76,
   "metadata": {},
   "outputs": [],
   "source": [
    "def find_similar_words(word, glove, top_n=10):\n",
    "    \"\"\"Finds the top_n most similar words to the given word using GloVe embeddings.\n",
    "\n",
    "    Args:\n",
    "        word (str): The input word.\n",
    "        glove: A GloVe object containing word embeddings.\n",
    "        top_n (int, optional): The number of similar words to return. Defaults to 10.\n",
    "\n",
    "    Returns:\n",
    "        list: A list of strings representing the most similar words.\n",
    "    \"\"\"\n",
    "\n",
    "    try:\n",
    "        word_embedding = glove.get_vecs_by_tokens(word)\n",
    "        similarities = torch.cosine_similarity(glove.vectors, word_embedding)\n",
    "        top_n_similar = torch.topk(similarities, k=top_n)\n",
    "        top_n_words = [glove.itos[i] for i in top_n_similar.indices]\n",
    "        return top_n_words\n",
    "\n",
    "    except KeyError:\n",
    "        print(f\"Word '{word}' not found in the GloVe vocabulary.\")\n",
    "        return []"
   ]
  },
  {
   "cell_type": "code",
   "execution_count": 77,
   "metadata": {},
   "outputs": [
    {
     "data": {
      "text/plain": [
       "['dog', 'cat', 'dogs', 'pet', 'puppy', 'horse', 'animal', 'pig', 'boy', 'cats']"
      ]
     },
     "execution_count": 77,
     "metadata": {},
     "output_type": "execute_result"
    }
   ],
   "source": [
    "find_similar_words(\"dog\", glove)"
   ]
  },
  {
   "cell_type": "code",
   "execution_count": 78,
   "metadata": {},
   "outputs": [
    {
     "data": {
      "text/plain": [
       "['computer',\n",
       " 'computers',\n",
       " 'software',\n",
       " 'technology',\n",
       " 'pc',\n",
       " 'hardware',\n",
       " 'internet',\n",
       " 'desktop',\n",
       " 'electronic',\n",
       " 'systems']"
      ]
     },
     "execution_count": 78,
     "metadata": {},
     "output_type": "execute_result"
    }
   ],
   "source": [
    "find_similar_words(\"computer\", glove)"
   ]
  },
  {
   "cell_type": "code",
   "execution_count": 79,
   "metadata": {},
   "outputs": [
    {
     "data": {
      "text/plain": [
       "['norway',\n",
       " 'denmark',\n",
       " 'sweden',\n",
       " 'finland',\n",
       " 'iceland',\n",
       " 'norwegian',\n",
       " 'austria',\n",
       " 'switzerland',\n",
       " 'greece',\n",
       " 'germany']"
      ]
     },
     "execution_count": 79,
     "metadata": {},
     "output_type": "execute_result"
    }
   ],
   "source": [
    "find_similar_words(\"norway\", glove)"
   ]
  },
  {
   "cell_type": "markdown",
   "metadata": {},
   "source": [
    "#### Visualizing embeddings"
   ]
  },
  {
   "cell_type": "code",
   "execution_count": 80,
   "metadata": {},
   "outputs": [
    {
     "name": "stderr",
     "output_type": "stream",
     "text": [
      "/opt/anaconda3/envs/dat255/lib/python3.11/site-packages/threadpoolctl.py:1010: RuntimeWarning: \n",
      "Found Intel OpenMP ('libiomp') and LLVM OpenMP ('libomp') loaded at\n",
      "the same time. Both libraries are known to be incompatible and this\n",
      "can cause random crashes or deadlocks on Linux when loaded in the\n",
      "same Python program.\n",
      "Using threadpoolctl may cause crashes or deadlocks. For more\n",
      "information and possible workarounds, please see\n",
      "    https://github.com/joblib/threadpoolctl/blob/master/multiple_openmp.md\n",
      "\n",
      "  warnings.warn(msg, RuntimeWarning)\n"
     ]
    },
    {
     "data": {
      "image/png": "[encoded data removed]",
      "text/plain": [
       "<Figure size 1000x800 with 1 Axes>"
      ]
     },
     "metadata": {},
     "output_type": "display_data"
    }
   ],
   "source": [
    "from sklearn.manifold import TSNE\n",
    "import matplotlib.pyplot as plt\n",
    "\n",
    "# Sample words for visualization\n",
    "sample_words = ['hello', 'world', 'cat', 'dog', 'king', 'queen', 'man', 'woman', \n",
    "                'good', 'bad', 'run', 'jump', 'large', 'small'] \n",
    "\n",
    "sample_embeddings = glove.get_vecs_by_tokens(sample_words)\n",
    "\n",
    "# Convert the embeddings to a NumPy array \n",
    "sample_embeddings_np = sample_embeddings.numpy()\n",
    "\n",
    "# Reduce dimensionality with t-SNE\n",
    "X_embedded = TSNE(n_components=2, perplexity=4).fit_transform(sample_embeddings_np)\n",
    "\n",
    "# Plot the embeddings\n",
    "plt.figure(figsize=(10, 8))\n",
    "plt.scatter(X_embedded[:, 0], X_embedded[:, 1])\n",
    "\n",
    "# Add labels for individual words \n",
    "for i, word in enumerate(sample_words):\n",
    "    plt.annotate(word, xy=(X_embedded[i, 0], X_embedded[i, 1]))\n",
    "\n",
    "plt.show()"
   ]
  },
  {
   "cell_type": "markdown",
   "metadata": {},
   "source": [
    "In the visualization, notice how semantically related words tend to cluster together while unrelated words are farther apart."
   ]
  },
  {
   "cell_type": "markdown",
   "metadata": {},
   "source": [
    "See also the interactive demonstrations we used in class based on http://projector.tensorflow.org/."
   ]
  },
  {
   "cell_type": "markdown",
   "metadata": {},
   "source": [
    "### Learned embeddings\n",
    "\n",
    "Learned embeddings are embeddings that are trained from scratch on a specific task. For example, when training a language model, the model learns to predict the next word in a sentence, and in the process, it learns to represent words as dense vectors. This allows embeddings to be fine-tuned specifically for our task."
   ]
  },
  {
   "cell_type": "markdown",
   "metadata": {},
   "source": [
    "## Creating embedding vectors from skratch using PyTorch"
   ]
  },
  {
   "cell_type": "markdown",
   "metadata": {},
   "source": []
  },
  {
   "cell_type": "markdown",
   "metadata": {},
   "source": [
    "# _MORE TBA_"
   ]
  },
  {
   "cell_type": "markdown",
   "metadata": {},
   "source": []
  }
 ],
 "metadata": {
  "kernelspec": {
   "display_name": "dat255",
   "language": "python",
   "name": "python3"
  },
  "language_info": {
   "codemirror_mode": {
    "name": "ipython",
    "version": 3
   },
   "file_extension": ".py",
   "mimetype": "text/x-python",
   "name": "python",
   "nbconvert_exporter": "python",
   "pygments_lexer": "ipython3",
   "version": "3.11.5"
  }
 },
 "nbformat": 4,
 "nbformat_minor": 2
}
