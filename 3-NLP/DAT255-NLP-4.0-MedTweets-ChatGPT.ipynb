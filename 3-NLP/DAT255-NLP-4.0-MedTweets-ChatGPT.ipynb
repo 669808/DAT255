{
 "cells": [
  {
   "cell_type": "markdown",
   "id": "6418d01f",
   "metadata": {},
   "source": [
    "ASL, v.130323"
   ]
  },
  {
   "cell_type": "markdown",
   "id": "89937a6a",
   "metadata": {},
   "source": [
    "# Introduction"
   ]
  },
  {
   "cell_type": "markdown",
   "id": "7cf338e6",
   "metadata": {},
   "source": [
    "In this notebook, we use ChatGPT via the OpenAI API to classify the MedWeb tweets studied in the previous notebooks (`DAT255-NLP-2.0-MedTweets-fastai-ULMFiT.ipynb` and `DAT255-NLP-3.0-MedTweets-transformers.ipynb`)."
   ]
  },
  {
   "cell_type": "markdown",
   "id": "47e32f4b",
   "metadata": {
    "heading_collapsed": true
   },
   "source": [
    "# Setup"
   ]
  },
  {
   "cell_type": "code",
   "execution_count": 38,
   "id": "c69ccf92",
   "metadata": {
    "hidden": true
   },
   "outputs": [],
   "source": [
    "import numpy as np, pandas as pd\n",
    "from pathlib import Path"
   ]
  },
  {
   "cell_type": "code",
   "execution_count": 39,
   "id": "daec0213",
   "metadata": {
    "hidden": true
   },
   "outputs": [],
   "source": [
    "import openai"
   ]
  },
  {
   "cell_type": "markdown",
   "id": "68c4ec33",
   "metadata": {
    "hidden": true
   },
   "source": [
    "Load API key (get yours here: https://platform.openai.com/). The (secret) key is stored in an environment file (OBS: make sure to gitignore it!). We load it using `python-dotenv`: https://pypi.org/project/python-dotenv/"
   ]
  },
  {
   "cell_type": "code",
   "execution_count": 40,
   "id": "dbd62ace",
   "metadata": {
    "hidden": true
   },
   "outputs": [],
   "source": [
    "NB_DIR = Path.cwd()"
   ]
  },
  {
   "cell_type": "code",
   "execution_count": 41,
   "id": "f521615c",
   "metadata": {
    "hidden": true
   },
   "outputs": [],
   "source": [
    "dotenv_file = NB_DIR/'.env'"
   ]
  },
  {
   "cell_type": "code",
   "execution_count": 42,
   "id": "a79ca48d",
   "metadata": {
    "hidden": true
   },
   "outputs": [
    {
     "data": {
      "text/plain": [
       "True"
      ]
     },
     "execution_count": 42,
     "metadata": {},
     "output_type": "execute_result"
    }
   ],
   "source": [
    "import dotenv\n",
    "dotenv.load_dotenv(dotenv_file)"
   ]
  },
  {
   "cell_type": "markdown",
   "id": "02e74b16",
   "metadata": {
    "heading_collapsed": true
   },
   "source": [
    "# Load and prepare the data"
   ]
  },
  {
   "cell_type": "code",
   "execution_count": 43,
   "id": "4b98e416",
   "metadata": {
    "hidden": true
   },
   "outputs": [
    {
     "data": {
      "text/html": [
       "<div>\n",
       "<style scoped>\n",
       "    .dataframe tbody tr th:only-of-type {\n",
       "        vertical-align: middle;\n",
       "    }\n",
       "\n",
       "    .dataframe tbody tr th {\n",
       "        vertical-align: top;\n",
       "    }\n",
       "\n",
       "    .dataframe thead th {\n",
       "        text-align: right;\n",
       "    }\n",
       "</style>\n",
       "<table border=\"1\" class=\"dataframe\">\n",
       "  <thead>\n",
       "    <tr style=\"text-align: right;\">\n",
       "      <th></th>\n",
       "      <th>ID</th>\n",
       "      <th>Tweet</th>\n",
       "      <th>Influenza</th>\n",
       "      <th>Diarrhea</th>\n",
       "      <th>Hayfever</th>\n",
       "      <th>Cough</th>\n",
       "      <th>Headache</th>\n",
       "      <th>Fever</th>\n",
       "      <th>Runnynose</th>\n",
       "      <th>Cold</th>\n",
       "      <th>labels</th>\n",
       "      <th>is_test</th>\n",
       "    </tr>\n",
       "  </thead>\n",
       "  <tbody>\n",
       "    <tr>\n",
       "      <th>0</th>\n",
       "      <td>1en</td>\n",
       "      <td>The cold makes my whole body weak.</td>\n",
       "      <td>0</td>\n",
       "      <td>0</td>\n",
       "      <td>0</td>\n",
       "      <td>0</td>\n",
       "      <td>0</td>\n",
       "      <td>0</td>\n",
       "      <td>0</td>\n",
       "      <td>1</td>\n",
       "      <td>Cold</td>\n",
       "      <td>False</td>\n",
       "    </tr>\n",
       "    <tr>\n",
       "      <th>1</th>\n",
       "      <td>2en</td>\n",
       "      <td>It's been a while since I've had allergy sympt...</td>\n",
       "      <td>0</td>\n",
       "      <td>0</td>\n",
       "      <td>1</td>\n",
       "      <td>0</td>\n",
       "      <td>0</td>\n",
       "      <td>0</td>\n",
       "      <td>1</td>\n",
       "      <td>0</td>\n",
       "      <td>Hayfever;Runnynose</td>\n",
       "      <td>False</td>\n",
       "    </tr>\n",
       "    <tr>\n",
       "      <th>2</th>\n",
       "      <td>3en</td>\n",
       "      <td>I'm so feverish and out of it because of my al...</td>\n",
       "      <td>0</td>\n",
       "      <td>0</td>\n",
       "      <td>1</td>\n",
       "      <td>0</td>\n",
       "      <td>0</td>\n",
       "      <td>1</td>\n",
       "      <td>1</td>\n",
       "      <td>0</td>\n",
       "      <td>Hayfever;Fever;Runnynose</td>\n",
       "      <td>False</td>\n",
       "    </tr>\n",
       "    <tr>\n",
       "      <th>3</th>\n",
       "      <td>4en</td>\n",
       "      <td>I took some medicine for my runny nose, but it...</td>\n",
       "      <td>0</td>\n",
       "      <td>0</td>\n",
       "      <td>0</td>\n",
       "      <td>0</td>\n",
       "      <td>0</td>\n",
       "      <td>0</td>\n",
       "      <td>1</td>\n",
       "      <td>0</td>\n",
       "      <td>Runnynose</td>\n",
       "      <td>False</td>\n",
       "    </tr>\n",
       "    <tr>\n",
       "      <th>4</th>\n",
       "      <td>5en</td>\n",
       "      <td>I had a bad case of diarrhea when I traveled t...</td>\n",
       "      <td>0</td>\n",
       "      <td>0</td>\n",
       "      <td>0</td>\n",
       "      <td>0</td>\n",
       "      <td>0</td>\n",
       "      <td>0</td>\n",
       "      <td>0</td>\n",
       "      <td>0</td>\n",
       "      <td>sober</td>\n",
       "      <td>False</td>\n",
       "    </tr>\n",
       "  </tbody>\n",
       "</table>\n",
       "</div>"
      ],
      "text/plain": [
       "    ID                                              Tweet  Influenza  \\\n",
       "0  1en                 The cold makes my whole body weak.          0   \n",
       "1  2en  It's been a while since I've had allergy sympt...          0   \n",
       "2  3en  I'm so feverish and out of it because of my al...          0   \n",
       "3  4en  I took some medicine for my runny nose, but it...          0   \n",
       "4  5en  I had a bad case of diarrhea when I traveled t...          0   \n",
       "\n",
       "   Diarrhea  Hayfever  Cough  Headache  Fever  Runnynose  Cold  \\\n",
       "0         0         0      0         0      0          0     1   \n",
       "1         0         1      0         0      0          1     0   \n",
       "2         0         1      0         0      1          1     0   \n",
       "3         0         0      0         0      0          1     0   \n",
       "4         0         0      0         0      0          0     0   \n",
       "\n",
       "                     labels  is_test  \n",
       "0                      Cold    False  \n",
       "1        Hayfever;Runnynose    False  \n",
       "2  Hayfever;Fever;Runnynose    False  \n",
       "3                 Runnynose    False  \n",
       "4                     sober    False  "
      ]
     },
     "execution_count": 43,
     "metadata": {},
     "output_type": "execute_result"
    }
   ],
   "source": [
    "df = pd.read_csv('https://github.com/HVL-ML/DAT255/raw/main/3-NLP/data/medwebdata.csv')\n",
    "df.head()"
   ]
  },
  {
   "cell_type": "code",
   "execution_count": 44,
   "id": "a0cd9f66",
   "metadata": {
    "hidden": true
   },
   "outputs": [],
   "source": [
    "df.drop(['labels'], axis=1, inplace=True)"
   ]
  },
  {
   "cell_type": "code",
   "execution_count": 45,
   "id": "87eb3b37",
   "metadata": {
    "hidden": true
   },
   "outputs": [],
   "source": [
    "df['labels'] = df.apply(lambda x: [x[c] for c in df.columns[2:-1]], axis=1)"
   ]
  },
  {
   "cell_type": "code",
   "execution_count": 46,
   "id": "4f149318",
   "metadata": {
    "hidden": true
   },
   "outputs": [
    {
     "data": {
      "text/html": [
       "<div>\n",
       "<style scoped>\n",
       "    .dataframe tbody tr th:only-of-type {\n",
       "        vertical-align: middle;\n",
       "    }\n",
       "\n",
       "    .dataframe tbody tr th {\n",
       "        vertical-align: top;\n",
       "    }\n",
       "\n",
       "    .dataframe thead th {\n",
       "        text-align: right;\n",
       "    }\n",
       "</style>\n",
       "<table border=\"1\" class=\"dataframe\">\n",
       "  <thead>\n",
       "    <tr style=\"text-align: right;\">\n",
       "      <th></th>\n",
       "      <th>ID</th>\n",
       "      <th>Tweet</th>\n",
       "      <th>Influenza</th>\n",
       "      <th>Diarrhea</th>\n",
       "      <th>Hayfever</th>\n",
       "      <th>Cough</th>\n",
       "      <th>Headache</th>\n",
       "      <th>Fever</th>\n",
       "      <th>Runnynose</th>\n",
       "      <th>Cold</th>\n",
       "      <th>is_test</th>\n",
       "      <th>labels</th>\n",
       "    </tr>\n",
       "  </thead>\n",
       "  <tbody>\n",
       "    <tr>\n",
       "      <th>0</th>\n",
       "      <td>1en</td>\n",
       "      <td>The cold makes my whole body weak.</td>\n",
       "      <td>0</td>\n",
       "      <td>0</td>\n",
       "      <td>0</td>\n",
       "      <td>0</td>\n",
       "      <td>0</td>\n",
       "      <td>0</td>\n",
       "      <td>0</td>\n",
       "      <td>1</td>\n",
       "      <td>False</td>\n",
       "      <td>[0, 0, 0, 0, 0, 0, 0, 1]</td>\n",
       "    </tr>\n",
       "    <tr>\n",
       "      <th>1</th>\n",
       "      <td>2en</td>\n",
       "      <td>It's been a while since I've had allergy sympt...</td>\n",
       "      <td>0</td>\n",
       "      <td>0</td>\n",
       "      <td>1</td>\n",
       "      <td>0</td>\n",
       "      <td>0</td>\n",
       "      <td>0</td>\n",
       "      <td>1</td>\n",
       "      <td>0</td>\n",
       "      <td>False</td>\n",
       "      <td>[0, 0, 1, 0, 0, 0, 1, 0]</td>\n",
       "    </tr>\n",
       "    <tr>\n",
       "      <th>2</th>\n",
       "      <td>3en</td>\n",
       "      <td>I'm so feverish and out of it because of my al...</td>\n",
       "      <td>0</td>\n",
       "      <td>0</td>\n",
       "      <td>1</td>\n",
       "      <td>0</td>\n",
       "      <td>0</td>\n",
       "      <td>1</td>\n",
       "      <td>1</td>\n",
       "      <td>0</td>\n",
       "      <td>False</td>\n",
       "      <td>[0, 0, 1, 0, 0, 1, 1, 0]</td>\n",
       "    </tr>\n",
       "    <tr>\n",
       "      <th>3</th>\n",
       "      <td>4en</td>\n",
       "      <td>I took some medicine for my runny nose, but it...</td>\n",
       "      <td>0</td>\n",
       "      <td>0</td>\n",
       "      <td>0</td>\n",
       "      <td>0</td>\n",
       "      <td>0</td>\n",
       "      <td>0</td>\n",
       "      <td>1</td>\n",
       "      <td>0</td>\n",
       "      <td>False</td>\n",
       "      <td>[0, 0, 0, 0, 0, 0, 1, 0]</td>\n",
       "    </tr>\n",
       "    <tr>\n",
       "      <th>4</th>\n",
       "      <td>5en</td>\n",
       "      <td>I had a bad case of diarrhea when I traveled t...</td>\n",
       "      <td>0</td>\n",
       "      <td>0</td>\n",
       "      <td>0</td>\n",
       "      <td>0</td>\n",
       "      <td>0</td>\n",
       "      <td>0</td>\n",
       "      <td>0</td>\n",
       "      <td>0</td>\n",
       "      <td>False</td>\n",
       "      <td>[0, 0, 0, 0, 0, 0, 0, 0]</td>\n",
       "    </tr>\n",
       "  </tbody>\n",
       "</table>\n",
       "</div>"
      ],
      "text/plain": [
       "    ID                                              Tweet  Influenza  \\\n",
       "0  1en                 The cold makes my whole body weak.          0   \n",
       "1  2en  It's been a while since I've had allergy sympt...          0   \n",
       "2  3en  I'm so feverish and out of it because of my al...          0   \n",
       "3  4en  I took some medicine for my runny nose, but it...          0   \n",
       "4  5en  I had a bad case of diarrhea when I traveled t...          0   \n",
       "\n",
       "   Diarrhea  Hayfever  Cough  Headache  Fever  Runnynose  Cold  is_test  \\\n",
       "0         0         0      0         0      0          0     1    False   \n",
       "1         0         1      0         0      0          1     0    False   \n",
       "2         0         1      0         0      1          1     0    False   \n",
       "3         0         0      0         0      0          1     0    False   \n",
       "4         0         0      0         0      0          0     0    False   \n",
       "\n",
       "                     labels  \n",
       "0  [0, 0, 0, 0, 0, 0, 0, 1]  \n",
       "1  [0, 0, 1, 0, 0, 0, 1, 0]  \n",
       "2  [0, 0, 1, 0, 0, 1, 1, 0]  \n",
       "3  [0, 0, 0, 0, 0, 0, 1, 0]  \n",
       "4  [0, 0, 0, 0, 0, 0, 0, 0]  "
      ]
     },
     "execution_count": 46,
     "metadata": {},
     "output_type": "execute_result"
    }
   ],
   "source": [
    "df.head()"
   ]
  },
  {
   "cell_type": "markdown",
   "id": "ee3cf453",
   "metadata": {
    "heading_collapsed": true
   },
   "source": [
    "# Set up the ChatGPT prompt"
   ]
  },
  {
   "cell_type": "markdown",
   "id": "e3dfa26b",
   "metadata": {
    "hidden": true
   },
   "source": [
    "We use the instructions given to the labelers creating the data as part of our prompt. See Wakamiya et.al, _Tweet Classification Toward Twitter-Based Disease Surveillance: New Data, Methods, and Evaluations_, 2019: https://www.jmir.org/2019/2/e12783/"
   ]
  },
  {
   "cell_type": "code",
   "execution_count": 47,
   "id": "30502a35",
   "metadata": {
    "hidden": true
   },
   "outputs": [],
   "source": [
    "init_prompt = \"\"\"\n",
    "When I write a set of short text separated by semicolons \";\", I want you to return whether or not \n",
    "each of the text deals with one or more of the terms, and if so, which ones. \n",
    "['Influenza', 'Diarrhea', 'Hayfever', 'Cough', 'Headache', 'Fever', 'Runnynose', 'Cold']. \n",
    "\n",
    "You should base your response on the following three criteria:\n",
    "\n",
    "Factuality: The user who wrote the text (or someone close to the user) should be affected by a certain disease or \n",
    "have a symptom of the disease. A text that includes only the name of a disease or a symptom as a topic \n",
    "is removed by labeling it as 0 (negative).\n",
    "\n",
    "Tense (time): Older information, which is meaningless from the viewpoint of surveillance, should be \n",
    "discarded. Such information should also be labeled as 0 (negative). Here, we regard 24 hours as the \n",
    "standard condition. When the precise date and time are ambiguous, the general guideline is that \n",
    "information within 24 hours (eg, information related to the present day or previous day) is labeled as \n",
    "1 (positive).\n",
    "\n",
    "Location: The location of the disease should be specified as follows. If a the user who wrote the text \n",
    "is affected, the information is labeled as 1 (positive) because the location of the user is the place of \n",
    "onset of the symptom. In cases where the user is not personally affected, the information is labeled \n",
    "as 1 (positive) if it is within the same vicinity as that of the user, and as 0 (negative) otherwise.\n",
    "\n",
    "Respond only with the terms that the texts I provide deal with, with each set of terms in a \n",
    "a comma-separated list inside brackets, with the presence or absence of the terms coded by 0 and 1. \n",
    "Separate the responses for each text with a semicolon \";\".\n",
    "\n",
    "For example, when I write, \n",
    "\"I'm feeling really bad. My head hurts. My nose is runny. I've felt like this for days.\";\n",
    "\"I'm so feverish and out of it because of my allergies. I'm so sleepy.\";\n",
    "\"The cold makes my whole body weak.\";\n",
    "\"I had a bad case of diarrhea when I traveled to Nepal.\";\n",
    "\"I took some medicine for my runny nose, but it won't stop.\";\n",
    "\"My phlegm has blood in it and it's really gross.\";\n",
    "\"They say we will have less pollen next spring, but it doesn't really matter to me, since my allergy gets severe in the autumn.\"\n",
    "\n",
    " you should respond with \n",
    "\n",
    "[0,0,0,0,1,0,1,0];[0,0,1,0,0,1,1,0];[0,0,0,0,0,0,0,1];\n",
    "[0,0,0,0,0,0,0,0];[0,0,0,0,0,0,1,0];[0,0,0,1,0,0,0,0];\n",
    "[0,0,0,0,0,0,0,0]\"\n",
    "\n",
    "Here are my texts: \n",
    "\"\"\""
   ]
  },
  {
   "cell_type": "code",
   "execution_count": 48,
   "id": "b7e86334",
   "metadata": {
    "hidden": true
   },
   "outputs": [],
   "source": [
    "init_tweets = \"\"\"\n",
    "\"It takes a millennial wimp to call in sick just because they're coughing. Its always important to go to work, no matter what.\";\n",
    "\"I'm not going today, because my stuffy nose is killing me.\";\n",
    "\"I never thought I would have allergies.\";\n",
    "\"I have a fever but I don't think it's the kind of cold that will make it to my stomach.\"\n",
    "\"\"\""
   ]
  },
  {
   "cell_type": "code",
   "execution_count": 49,
   "id": "be755c99-4705-47c0-87ed-450550fec121",
   "metadata": {
    "hidden": true
   },
   "outputs": [],
   "source": [
    "init_tweets_ai_response = \"\"\"\n",
    "[0,0,0,1,0,0,0,0];[0,0,0,0,0,0,1,0];[0,0,1,0,0,0,1,0];[0,0,0,0,0,1,0,1]\n",
    "\"\"\""
   ]
  },
  {
   "cell_type": "markdown",
   "id": "858c26c0",
   "metadata": {
    "heading_collapsed": true
   },
   "source": [
    "# Create API request"
   ]
  },
  {
   "cell_type": "markdown",
   "id": "fc973906",
   "metadata": {
    "heading_collapsed": true,
    "hidden": true
   },
   "source": [
    "## Test"
   ]
  },
  {
   "cell_type": "markdown",
   "id": "ae667737",
   "metadata": {
    "hidden": true
   },
   "source": [
    "Let's try it out on two tweets:"
   ]
  },
  {
   "cell_type": "code",
   "execution_count": 50,
   "id": "81ad03bf",
   "metadata": {
    "hidden": true
   },
   "outputs": [],
   "source": [
    "new_tweets = \"\"\"\n",
    "\"My phlegm has blood in it and it's really gross.\";\n",
    "\"They say we will have less pollen next spring, but it doesn't really matter to me, since my allergy gets severe in the autumn.\"\n",
    "\"\"\""
   ]
  },
  {
   "cell_type": "code",
   "execution_count": 51,
   "id": "bd902a41",
   "metadata": {
    "hidden": true
   },
   "outputs": [],
   "source": [
    "new_tweets_correct_responses = \"[0,0,0,1,0,0,0,0];[0,0,0,0,0,0,0,0]\""
   ]
  },
  {
   "cell_type": "code",
   "execution_count": 53,
   "id": "7e1b3838-e512-4574-98fd-0312d823c58a",
   "metadata": {
    "hidden": true
   },
   "outputs": [],
   "source": [
    "messages=[\n",
    "        {\"role\": \"user\", \"content\": init_prompt},\n",
    "        {\"role\": \"user\", \"content\": init_tweets},\n",
    "        {\"role\": \"assistant\", \"content\": init_tweets_ai_response},\n",
    "        {\"role\": \"user\", \"content\": new_tweets}]\n"
   ]
  },
  {
   "cell_type": "code",
   "execution_count": 54,
   "id": "dd80edf1",
   "metadata": {
    "hidden": true
   },
   "outputs": [
    {
     "data": {
      "text/plain": [
       "[{'role': 'user',\n",
       "  'content': '\\nWhen I write a set of short text separated by semicolons \";\", I want you to return whether or not \\neach of the text deals with one or more of the terms, and if so, which ones. \\n[\\'Influenza\\', \\'Diarrhea\\', \\'Hayfever\\', \\'Cough\\', \\'Headache\\', \\'Fever\\', \\'Runnynose\\', \\'Cold\\']. \\n\\nYou should base your response on the following three criteria:\\n\\nFactuality: The user who wrote the text (or someone close to the user) should be affected by a certain disease or \\nhave a symptom of the disease. A text that includes only the name of a disease or a symptom as a topic \\nis removed by labeling it as 0 (negative).\\n\\nTense (time): Older information, which is meaningless from the viewpoint of surveillance, should be \\ndiscarded. Such information should also be labeled as 0 (negative). Here, we regard 24 hours as the \\nstandard condition. When the precise date and time are ambiguous, the general guideline is that \\ninformation within 24 hours (eg, information related to the present day or previous day) is labeled as \\n1 (positive).\\n\\nLocation: The location of the disease should be specified as follows. If a the user who wrote the text \\nis affected, the information is labeled as 1 (positive) because the location of the user is the place of \\nonset of the symptom. In cases where the user is not personally affected, the information is labeled \\nas 1 (positive) if it is within the same vicinity as that of the user, and as 0 (negative) otherwise.\\n\\nRespond only with the terms that the texts I provide deal with, with each set of terms in a \\na comma-separated list inside brackets, with the presence or absence of the terms coded by 0 and 1. \\nSeparate the responses for each text with a semicolon \";\".\\n\\nFor example, when I write, \\n\"I\\'m feeling really bad. My head hurts. My nose is runny. I\\'ve felt like this for days.\";\\n\"I\\'m so feverish and out of it because of my allergies. I\\'m so sleepy.\";\\n\"The cold makes my whole body weak.\";\\n\"I had a bad case of diarrhea when I traveled to Nepal.\";\\n\"I took some medicine for my runny nose, but it won\\'t stop.\";\\n\"My phlegm has blood in it and it\\'s really gross.\";\\n\"They say we will have less pollen next spring, but it doesn\\'t really matter to me, since my allergy gets severe in the autumn.\"\\n\\n you should respond with \\n\\n[0,0,0,0,1,0,1,0];[0,0,1,0,0,1,1,0];[0,0,0,0,0,0,0,1];\\n[0,0,0,0,0,0,0,0];[0,0,0,0,0,0,1,0];[0,0,0,1,0,0,0,0];\\n[0,0,0,0,0,0,0,0]\"\\n\\nHere are my texts: \\n'},\n",
       " {'role': 'user',\n",
       "  'content': '\\n\"It takes a millennial wimp to call in sick just because they\\'re coughing. Its always important to go to work, no matter what.\";\\n\"I\\'m not going today, because my stuffy nose is killing me.\";\\n\"I never thought I would have allergies.\";\\n\"I have a fever but I don\\'t think it\\'s the kind of cold that will make it to my stomach.\"\\n'},\n",
       " {'role': 'assistant',\n",
       "  'content': '\\n[0,0,0,1,0,0,0,0];[0,0,0,0,0,0,1,0];[0,0,1,0,0,0,1,0];[0,0,0,0,0,1,0,1]\\n'},\n",
       " {'role': 'user',\n",
       "  'content': '\\n\"My phlegm has blood in it and it\\'s really gross.\";\\n\"They say we will have less pollen next spring, but it doesn\\'t really matter to me, since my allergy gets severe in the autumn.\"\\n'}]"
      ]
     },
     "execution_count": 54,
     "metadata": {},
     "output_type": "execute_result"
    }
   ],
   "source": [
    "messages"
   ]
  },
  {
   "cell_type": "code",
   "execution_count": 55,
   "id": "a6b29923",
   "metadata": {
    "hidden": true
   },
   "outputs": [],
   "source": [
    "import os\n",
    "openai.api_key = os.getenv(\"OPENAI_API_KEY\")\n",
    "\n",
    "model = \"gpt-3.5-turbo\""
   ]
  },
  {
   "cell_type": "code",
   "execution_count": 56,
   "id": "31efc310",
   "metadata": {
    "hidden": true
   },
   "outputs": [],
   "source": [
    "temperature=0.3"
   ]
  },
  {
   "cell_type": "code",
   "execution_count": 57,
   "id": "ecdf0d3e",
   "metadata": {
    "hidden": true
   },
   "outputs": [],
   "source": [
    "response = openai.ChatCompletion.create(\n",
    "  model=model,\n",
    "  messages=messages,\n",
    "  temperature=temperature,\n",
    "  max_tokens=150,\n",
    "  top_p=1,\n",
    "  frequency_penalty=0.0,\n",
    "  presence_penalty=0.6\n",
    ")"
   ]
  },
  {
   "cell_type": "code",
   "execution_count": 58,
   "id": "951fd5f8",
   "metadata": {
    "hidden": true
   },
   "outputs": [
    {
     "data": {
      "text/plain": [
       "<OpenAIObject chat.completion id=chatcmpl-6tbqNlYAHq6E8BQqTRTIQqMp29qYR at 0x7f792012e4d0> JSON: {\n",
       "  \"choices\": [\n",
       "    {\n",
       "      \"finish_reason\": \"stop\",\n",
       "      \"index\": 0,\n",
       "      \"message\": {\n",
       "        \"content\": \"[0,0,0,1,0,0,0,0];[0,0,1,0,0,0,0,0]\",\n",
       "        \"role\": \"assistant\"\n",
       "      }\n",
       "    }\n",
       "  ],\n",
       "  \"created\": 1678711531,\n",
       "  \"id\": \"chatcmpl-6tbqNlYAHq6E8BQqTRTIQqMp29qYR\",\n",
       "  \"model\": \"gpt-3.5-turbo-0301\",\n",
       "  \"object\": \"chat.completion\",\n",
       "  \"usage\": {\n",
       "    \"completion_tokens\": 36,\n",
       "    \"prompt_tokens\": 870,\n",
       "    \"total_tokens\": 906\n",
       "  }\n",
       "}"
      ]
     },
     "execution_count": 58,
     "metadata": {},
     "output_type": "execute_result"
    }
   ],
   "source": [
    "response"
   ]
  },
  {
   "cell_type": "code",
   "execution_count": 59,
   "id": "529ddae6",
   "metadata": {
    "hidden": true
   },
   "outputs": [
    {
     "data": {
      "text/plain": [
       "'[0,0,0,1,0,0,0,0];[0,0,0,0,0,0,0,0]'"
      ]
     },
     "execution_count": 59,
     "metadata": {},
     "output_type": "execute_result"
    }
   ],
   "source": [
    "new_tweets_correct_responses"
   ]
  },
  {
   "cell_type": "markdown",
   "id": "92fc00b1",
   "metadata": {
    "heading_collapsed": true,
    "hidden": true
   },
   "source": [
    "## Function to get predictions"
   ]
  },
  {
   "cell_type": "code",
   "execution_count": 60,
   "id": "1257faba-6c3a-4610-be23-9b62185aa078",
   "metadata": {
    "hidden": true
   },
   "outputs": [],
   "source": [
    "import ast"
   ]
  },
  {
   "cell_type": "code",
   "execution_count": 61,
   "id": "af75f1c7",
   "metadata": {
    "hidden": true
   },
   "outputs": [],
   "source": [
    "def get_prediction(tweets):\n",
    "    \n",
    "    messages=[\n",
    "        {\"role\": \"user\", \"content\": init_prompt},\n",
    "        {\"role\": \"user\", \"content\": init_tweets},\n",
    "        {\"role\": \"assistant\", \"content\": init_tweets_ai_response},\n",
    "        {\"role\": \"user\", \"content\": tweets}]\n",
    "\n",
    "\n",
    "    \n",
    "    response = openai.ChatCompletion.create(\n",
    "              model=model,\n",
    "              messages=messages,\n",
    "              temperature=0.1,\n",
    "              max_tokens=150,\n",
    "              top_p=1,\n",
    "              frequency_penalty=0.0,\n",
    "              presence_penalty=0.6,\n",
    "            )\n",
    "    \n",
    "    predictions = response.get(\"choices\")[0].get(\"message\").get(\"content\")\n",
    "    \n",
    "    predictions = predictions.split(\";\")\n",
    "    \n",
    "    return_predictions = []\n",
    "    \n",
    "    # As we cannot guarantee that ChatGPT sticks to our instructions, \n",
    "    # we make a simple test of whether the predictions returned \n",
    "    # can be evaluated as lists. For predictions where this is \n",
    "    # not the case, we use the default prediction of all zeros.\n",
    "    \n",
    "    for pred in predictions:\n",
    "        try:\n",
    "            return_predictions.append(ast.literal_eval(pred))\n",
    "        except:\n",
    "            return_predictions.append([0,0,0,0,0,0,0,0])\n",
    "    \n",
    "    return predictions"
   ]
  },
  {
   "cell_type": "code",
   "execution_count": 62,
   "id": "aa7c969c-1f24-4bb2-a7f1-ee8605e96d1a",
   "metadata": {
    "hidden": true
   },
   "outputs": [],
   "source": [
    "test_preds = get_prediction(new_tweets)"
   ]
  },
  {
   "cell_type": "code",
   "execution_count": 63,
   "id": "f11ba4b1-fccc-4165-a835-7294bbf62f76",
   "metadata": {
    "hidden": true
   },
   "outputs": [
    {
     "data": {
      "text/plain": [
       "['[0,0,0,1,0,0,0,0]', '[0,0,1,0,0,0,0,0]']"
      ]
     },
     "execution_count": 63,
     "metadata": {},
     "output_type": "execute_result"
    }
   ],
   "source": [
    "test_preds"
   ]
  },
  {
   "cell_type": "markdown",
   "id": "6c6e759a",
   "metadata": {
    "heading_collapsed": true
   },
   "source": [
    "# Get predictions for test data"
   ]
  },
  {
   "cell_type": "code",
   "execution_count": 64,
   "id": "0877ab98",
   "metadata": {
    "hidden": true
   },
   "outputs": [],
   "source": [
    "test_df = df.loc[df.is_test == True]"
   ]
  },
  {
   "cell_type": "code",
   "execution_count": 65,
   "id": "e297288b",
   "metadata": {
    "hidden": true
   },
   "outputs": [
    {
     "data": {
      "text/html": [
       "<div>\n",
       "<style scoped>\n",
       "    .dataframe tbody tr th:only-of-type {\n",
       "        vertical-align: middle;\n",
       "    }\n",
       "\n",
       "    .dataframe tbody tr th {\n",
       "        vertical-align: top;\n",
       "    }\n",
       "\n",
       "    .dataframe thead th {\n",
       "        text-align: right;\n",
       "    }\n",
       "</style>\n",
       "<table border=\"1\" class=\"dataframe\">\n",
       "  <thead>\n",
       "    <tr style=\"text-align: right;\">\n",
       "      <th></th>\n",
       "      <th>ID</th>\n",
       "      <th>Tweet</th>\n",
       "      <th>Influenza</th>\n",
       "      <th>Diarrhea</th>\n",
       "      <th>Hayfever</th>\n",
       "      <th>Cough</th>\n",
       "      <th>Headache</th>\n",
       "      <th>Fever</th>\n",
       "      <th>Runnynose</th>\n",
       "      <th>Cold</th>\n",
       "      <th>is_test</th>\n",
       "      <th>labels</th>\n",
       "    </tr>\n",
       "  </thead>\n",
       "  <tbody>\n",
       "    <tr>\n",
       "      <th>1920</th>\n",
       "      <td>1921en</td>\n",
       "      <td>I went on a trip and got the flu as a souvenir.</td>\n",
       "      <td>1</td>\n",
       "      <td>0</td>\n",
       "      <td>0</td>\n",
       "      <td>0</td>\n",
       "      <td>0</td>\n",
       "      <td>1</td>\n",
       "      <td>0</td>\n",
       "      <td>0</td>\n",
       "      <td>True</td>\n",
       "      <td>[1, 0, 0, 0, 0, 1, 0, 0]</td>\n",
       "    </tr>\n",
       "    <tr>\n",
       "      <th>1921</th>\n",
       "      <td>1922en</td>\n",
       "      <td>Difficult bosses are one kind of headache</td>\n",
       "      <td>0</td>\n",
       "      <td>0</td>\n",
       "      <td>0</td>\n",
       "      <td>0</td>\n",
       "      <td>0</td>\n",
       "      <td>0</td>\n",
       "      <td>0</td>\n",
       "      <td>0</td>\n",
       "      <td>True</td>\n",
       "      <td>[0, 0, 0, 0, 0, 0, 0, 0]</td>\n",
       "    </tr>\n",
       "    <tr>\n",
       "      <th>1922</th>\n",
       "      <td>1923en</td>\n",
       "      <td>I'm dying and need someone to translate for me...</td>\n",
       "      <td>0</td>\n",
       "      <td>0</td>\n",
       "      <td>0</td>\n",
       "      <td>0</td>\n",
       "      <td>0</td>\n",
       "      <td>0</td>\n",
       "      <td>0</td>\n",
       "      <td>0</td>\n",
       "      <td>True</td>\n",
       "      <td>[0, 0, 0, 0, 0, 0, 0, 0]</td>\n",
       "    </tr>\n",
       "    <tr>\n",
       "      <th>1923</th>\n",
       "      <td>1924en</td>\n",
       "      <td>Flu crisis.</td>\n",
       "      <td>1</td>\n",
       "      <td>0</td>\n",
       "      <td>0</td>\n",
       "      <td>0</td>\n",
       "      <td>0</td>\n",
       "      <td>1</td>\n",
       "      <td>0</td>\n",
       "      <td>0</td>\n",
       "      <td>True</td>\n",
       "      <td>[1, 0, 0, 0, 0, 1, 0, 0]</td>\n",
       "    </tr>\n",
       "    <tr>\n",
       "      <th>1924</th>\n",
       "      <td>1925en</td>\n",
       "      <td>I have a horribly stuffy nose, there's no way ...</td>\n",
       "      <td>0</td>\n",
       "      <td>0</td>\n",
       "      <td>0</td>\n",
       "      <td>0</td>\n",
       "      <td>0</td>\n",
       "      <td>0</td>\n",
       "      <td>1</td>\n",
       "      <td>0</td>\n",
       "      <td>True</td>\n",
       "      <td>[0, 0, 0, 0, 0, 0, 1, 0]</td>\n",
       "    </tr>\n",
       "  </tbody>\n",
       "</table>\n",
       "</div>"
      ],
      "text/plain": [
       "          ID                                              Tweet  Influenza  \\\n",
       "1920  1921en    I went on a trip and got the flu as a souvenir.          1   \n",
       "1921  1922en          Difficult bosses are one kind of headache          0   \n",
       "1922  1923en  I'm dying and need someone to translate for me...          0   \n",
       "1923  1924en                                        Flu crisis.          1   \n",
       "1924  1925en  I have a horribly stuffy nose, there's no way ...          0   \n",
       "\n",
       "      Diarrhea  Hayfever  Cough  Headache  Fever  Runnynose  Cold  is_test  \\\n",
       "1920         0         0      0         0      1          0     0     True   \n",
       "1921         0         0      0         0      0          0     0     True   \n",
       "1922         0         0      0         0      0          0     0     True   \n",
       "1923         0         0      0         0      1          0     0     True   \n",
       "1924         0         0      0         0      0          1     0     True   \n",
       "\n",
       "                        labels  \n",
       "1920  [1, 0, 0, 0, 0, 1, 0, 0]  \n",
       "1921  [0, 0, 0, 0, 0, 0, 0, 0]  \n",
       "1922  [0, 0, 0, 0, 0, 0, 0, 0]  \n",
       "1923  [1, 0, 0, 0, 0, 1, 0, 0]  \n",
       "1924  [0, 0, 0, 0, 0, 0, 1, 0]  "
      ]
     },
     "execution_count": 65,
     "metadata": {},
     "output_type": "execute_result"
    }
   ],
   "source": [
    "test_df.head()"
   ]
  },
  {
   "cell_type": "code",
   "execution_count": 66,
   "id": "d715306c",
   "metadata": {
    "hidden": true
   },
   "outputs": [
    {
     "data": {
      "text/plain": [
       "640"
      ]
     },
     "execution_count": 66,
     "metadata": {},
     "output_type": "execute_result"
    }
   ],
   "source": [
    "len(test_df)"
   ]
  },
  {
   "cell_type": "markdown",
   "id": "f8f3446e",
   "metadata": {
    "hidden": true
   },
   "source": [
    "We will feed five tweets at a time to the model and collect the results. "
   ]
  },
  {
   "cell_type": "code",
   "execution_count": 67,
   "id": "bf219d3f",
   "metadata": {
    "hidden": true
   },
   "outputs": [],
   "source": [
    "n=5"
   ]
  },
  {
   "cell_type": "code",
   "execution_count": 68,
   "id": "534b8f6f",
   "metadata": {
    "hidden": true
   },
   "outputs": [],
   "source": [
    "chunked_test_df = [test_df[i:i+n] for i in range(0,len(test_df),n)]"
   ]
  },
  {
   "cell_type": "code",
   "execution_count": 69,
   "id": "683ddc7d",
   "metadata": {
    "hidden": true
   },
   "outputs": [
    {
     "data": {
      "text/plain": [
       "128"
      ]
     },
     "execution_count": 69,
     "metadata": {},
     "output_type": "execute_result"
    }
   ],
   "source": [
    "len(chunked_test_df)"
   ]
  },
  {
   "cell_type": "code",
   "execution_count": 32,
   "id": "51ff9b7b",
   "metadata": {
    "hidden": true,
    "scrolled": false
   },
   "outputs": [
    {
     "ename": "RateLimitError",
     "evalue": "The server had an error while processing your request. Sorry about that!",
     "output_type": "error",
     "traceback": [
      "\u001b[0;31m---------------------------------------------------------------------------\u001b[0m",
      "\u001b[0;31mRateLimitError\u001b[0m                            Traceback (most recent call last)",
      "Input \u001b[0;32mIn [32]\u001b[0m, in \u001b[0;36m<cell line: 3>\u001b[0;34m()\u001b[0m\n\u001b[1;32m      4\u001b[0m test_df_chunk_with_preds \u001b[38;5;241m=\u001b[39m test_df_chunk\u001b[38;5;241m.\u001b[39mcopy()\n\u001b[1;32m      5\u001b[0m tweets \u001b[38;5;241m=\u001b[39m \u001b[38;5;124m'\u001b[39m\u001b[38;5;124m\"\u001b[39m\u001b[38;5;124m;\u001b[39m\u001b[38;5;124m\"\u001b[39m\u001b[38;5;124m'\u001b[39m\u001b[38;5;241m.\u001b[39mjoin([t \u001b[38;5;28;01mfor\u001b[39;00m t \u001b[38;5;129;01min\u001b[39;00m test_df_chunk\u001b[38;5;241m.\u001b[39mTweet])\n\u001b[0;32m----> 6\u001b[0m preds \u001b[38;5;241m=\u001b[39m \u001b[43mget_prediction\u001b[49m\u001b[43m(\u001b[49m\u001b[43mtweets\u001b[49m\u001b[43m)\u001b[49m\n\u001b[1;32m      8\u001b[0m \u001b[38;5;66;03m# Check that we got back five predictions.\u001b[39;00m\n\u001b[1;32m      9\u001b[0m \u001b[38;5;66;03m# If not, insert zero predictions (or delete the \u001b[39;00m\n\u001b[1;32m     10\u001b[0m \u001b[38;5;66;03m# last predictions) to get exactly five\u001b[39;00m\n\u001b[1;32m     11\u001b[0m k \u001b[38;5;241m=\u001b[39m \u001b[38;5;28mlen\u001b[39m(preds)\n",
      "Input \u001b[0;32mIn [23]\u001b[0m, in \u001b[0;36mget_prediction\u001b[0;34m(tweets)\u001b[0m\n\u001b[1;32m      1\u001b[0m \u001b[38;5;28;01mdef\u001b[39;00m \u001b[38;5;21mget_prediction\u001b[39m(tweets):\n\u001b[1;32m      3\u001b[0m     messages\u001b[38;5;241m=\u001b[39m[\n\u001b[1;32m      4\u001b[0m         {\u001b[38;5;124m\"\u001b[39m\u001b[38;5;124mrole\u001b[39m\u001b[38;5;124m\"\u001b[39m: \u001b[38;5;124m\"\u001b[39m\u001b[38;5;124muser\u001b[39m\u001b[38;5;124m\"\u001b[39m, \u001b[38;5;124m\"\u001b[39m\u001b[38;5;124mcontent\u001b[39m\u001b[38;5;124m\"\u001b[39m: init_prompt},\n\u001b[1;32m      5\u001b[0m         {\u001b[38;5;124m\"\u001b[39m\u001b[38;5;124mrole\u001b[39m\u001b[38;5;124m\"\u001b[39m: \u001b[38;5;124m\"\u001b[39m\u001b[38;5;124muser\u001b[39m\u001b[38;5;124m\"\u001b[39m, \u001b[38;5;124m\"\u001b[39m\u001b[38;5;124mcontent\u001b[39m\u001b[38;5;124m\"\u001b[39m: init_tweets},\n\u001b[1;32m      6\u001b[0m         {\u001b[38;5;124m\"\u001b[39m\u001b[38;5;124mrole\u001b[39m\u001b[38;5;124m\"\u001b[39m: \u001b[38;5;124m\"\u001b[39m\u001b[38;5;124massistant\u001b[39m\u001b[38;5;124m\"\u001b[39m, \u001b[38;5;124m\"\u001b[39m\u001b[38;5;124mcontent\u001b[39m\u001b[38;5;124m\"\u001b[39m: init_tweets_ai_response},\n\u001b[1;32m      7\u001b[0m         {\u001b[38;5;124m\"\u001b[39m\u001b[38;5;124mrole\u001b[39m\u001b[38;5;124m\"\u001b[39m: \u001b[38;5;124m\"\u001b[39m\u001b[38;5;124muser\u001b[39m\u001b[38;5;124m\"\u001b[39m, \u001b[38;5;124m\"\u001b[39m\u001b[38;5;124mcontent\u001b[39m\u001b[38;5;124m\"\u001b[39m: tweets}]\n\u001b[0;32m---> 11\u001b[0m     response \u001b[38;5;241m=\u001b[39m \u001b[43mopenai\u001b[49m\u001b[38;5;241;43m.\u001b[39;49m\u001b[43mChatCompletion\u001b[49m\u001b[38;5;241;43m.\u001b[39;49m\u001b[43mcreate\u001b[49m\u001b[43m(\u001b[49m\n\u001b[1;32m     12\u001b[0m \u001b[43m              \u001b[49m\u001b[43mmodel\u001b[49m\u001b[38;5;241;43m=\u001b[39;49m\u001b[43mmodel\u001b[49m\u001b[43m,\u001b[49m\n\u001b[1;32m     13\u001b[0m \u001b[43m              \u001b[49m\u001b[43mmessages\u001b[49m\u001b[38;5;241;43m=\u001b[39;49m\u001b[43mmessages\u001b[49m\u001b[43m,\u001b[49m\n\u001b[1;32m     14\u001b[0m \u001b[43m              \u001b[49m\u001b[43mtemperature\u001b[49m\u001b[38;5;241;43m=\u001b[39;49m\u001b[38;5;241;43m0.1\u001b[39;49m\u001b[43m,\u001b[49m\n\u001b[1;32m     15\u001b[0m \u001b[43m              \u001b[49m\u001b[43mmax_tokens\u001b[49m\u001b[38;5;241;43m=\u001b[39;49m\u001b[38;5;241;43m150\u001b[39;49m\u001b[43m,\u001b[49m\n\u001b[1;32m     16\u001b[0m \u001b[43m              \u001b[49m\u001b[43mtop_p\u001b[49m\u001b[38;5;241;43m=\u001b[39;49m\u001b[38;5;241;43m1\u001b[39;49m\u001b[43m,\u001b[49m\n\u001b[1;32m     17\u001b[0m \u001b[43m              \u001b[49m\u001b[43mfrequency_penalty\u001b[49m\u001b[38;5;241;43m=\u001b[39;49m\u001b[38;5;241;43m0.0\u001b[39;49m\u001b[43m,\u001b[49m\n\u001b[1;32m     18\u001b[0m \u001b[43m              \u001b[49m\u001b[43mpresence_penalty\u001b[49m\u001b[38;5;241;43m=\u001b[39;49m\u001b[38;5;241;43m0.6\u001b[39;49m\u001b[43m,\u001b[49m\n\u001b[1;32m     19\u001b[0m \u001b[43m            \u001b[49m\u001b[43m)\u001b[49m\n\u001b[1;32m     21\u001b[0m     predictions \u001b[38;5;241m=\u001b[39m response\u001b[38;5;241m.\u001b[39mget(\u001b[38;5;124m\"\u001b[39m\u001b[38;5;124mchoices\u001b[39m\u001b[38;5;124m\"\u001b[39m)[\u001b[38;5;241m0\u001b[39m]\u001b[38;5;241m.\u001b[39mget(\u001b[38;5;124m\"\u001b[39m\u001b[38;5;124mmessage\u001b[39m\u001b[38;5;124m\"\u001b[39m)\u001b[38;5;241m.\u001b[39mget(\u001b[38;5;124m\"\u001b[39m\u001b[38;5;124mcontent\u001b[39m\u001b[38;5;124m\"\u001b[39m)\n\u001b[1;32m     23\u001b[0m     predictions \u001b[38;5;241m=\u001b[39m predictions\u001b[38;5;241m.\u001b[39msplit(\u001b[38;5;124m\"\u001b[39m\u001b[38;5;124m;\u001b[39m\u001b[38;5;124m\"\u001b[39m)\n",
      "File \u001b[0;32m/opt/anaconda3/envs/ml/lib/python3.10/site-packages/openai/api_resources/chat_completion.py:25\u001b[0m, in \u001b[0;36mChatCompletion.create\u001b[0;34m(cls, *args, **kwargs)\u001b[0m\n\u001b[1;32m     23\u001b[0m \u001b[38;5;28;01mwhile\u001b[39;00m \u001b[38;5;28;01mTrue\u001b[39;00m:\n\u001b[1;32m     24\u001b[0m     \u001b[38;5;28;01mtry\u001b[39;00m:\n\u001b[0;32m---> 25\u001b[0m         \u001b[38;5;28;01mreturn\u001b[39;00m \u001b[38;5;28;43msuper\u001b[39;49m\u001b[43m(\u001b[49m\u001b[43m)\u001b[49m\u001b[38;5;241;43m.\u001b[39;49m\u001b[43mcreate\u001b[49m\u001b[43m(\u001b[49m\u001b[38;5;241;43m*\u001b[39;49m\u001b[43margs\u001b[49m\u001b[43m,\u001b[49m\u001b[43m \u001b[49m\u001b[38;5;241;43m*\u001b[39;49m\u001b[38;5;241;43m*\u001b[39;49m\u001b[43mkwargs\u001b[49m\u001b[43m)\u001b[49m\n\u001b[1;32m     26\u001b[0m     \u001b[38;5;28;01mexcept\u001b[39;00m TryAgain \u001b[38;5;28;01mas\u001b[39;00m e:\n\u001b[1;32m     27\u001b[0m         \u001b[38;5;28;01mif\u001b[39;00m timeout \u001b[38;5;129;01mis\u001b[39;00m \u001b[38;5;129;01mnot\u001b[39;00m \u001b[38;5;28;01mNone\u001b[39;00m \u001b[38;5;129;01mand\u001b[39;00m time\u001b[38;5;241m.\u001b[39mtime() \u001b[38;5;241m>\u001b[39m start \u001b[38;5;241m+\u001b[39m timeout:\n",
      "File \u001b[0;32m/opt/anaconda3/envs/ml/lib/python3.10/site-packages/openai/api_resources/abstract/engine_api_resource.py:153\u001b[0m, in \u001b[0;36mEngineAPIResource.create\u001b[0;34m(cls, api_key, api_base, api_type, request_id, api_version, organization, **params)\u001b[0m\n\u001b[1;32m    127\u001b[0m \u001b[38;5;129m@classmethod\u001b[39m\n\u001b[1;32m    128\u001b[0m \u001b[38;5;28;01mdef\u001b[39;00m \u001b[38;5;21mcreate\u001b[39m(\n\u001b[1;32m    129\u001b[0m     \u001b[38;5;28mcls\u001b[39m,\n\u001b[0;32m   (...)\u001b[0m\n\u001b[1;32m    136\u001b[0m     \u001b[38;5;241m*\u001b[39m\u001b[38;5;241m*\u001b[39mparams,\n\u001b[1;32m    137\u001b[0m ):\n\u001b[1;32m    138\u001b[0m     (\n\u001b[1;32m    139\u001b[0m         deployment_id,\n\u001b[1;32m    140\u001b[0m         engine,\n\u001b[0;32m   (...)\u001b[0m\n\u001b[1;32m    150\u001b[0m         api_key, api_base, api_type, api_version, organization, \u001b[38;5;241m*\u001b[39m\u001b[38;5;241m*\u001b[39mparams\n\u001b[1;32m    151\u001b[0m     )\n\u001b[0;32m--> 153\u001b[0m     response, _, api_key \u001b[38;5;241m=\u001b[39m \u001b[43mrequestor\u001b[49m\u001b[38;5;241;43m.\u001b[39;49m\u001b[43mrequest\u001b[49m\u001b[43m(\u001b[49m\n\u001b[1;32m    154\u001b[0m \u001b[43m        \u001b[49m\u001b[38;5;124;43m\"\u001b[39;49m\u001b[38;5;124;43mpost\u001b[39;49m\u001b[38;5;124;43m\"\u001b[39;49m\u001b[43m,\u001b[49m\n\u001b[1;32m    155\u001b[0m \u001b[43m        \u001b[49m\u001b[43murl\u001b[49m\u001b[43m,\u001b[49m\n\u001b[1;32m    156\u001b[0m \u001b[43m        \u001b[49m\u001b[43mparams\u001b[49m\u001b[38;5;241;43m=\u001b[39;49m\u001b[43mparams\u001b[49m\u001b[43m,\u001b[49m\n\u001b[1;32m    157\u001b[0m \u001b[43m        \u001b[49m\u001b[43mheaders\u001b[49m\u001b[38;5;241;43m=\u001b[39;49m\u001b[43mheaders\u001b[49m\u001b[43m,\u001b[49m\n\u001b[1;32m    158\u001b[0m \u001b[43m        \u001b[49m\u001b[43mstream\u001b[49m\u001b[38;5;241;43m=\u001b[39;49m\u001b[43mstream\u001b[49m\u001b[43m,\u001b[49m\n\u001b[1;32m    159\u001b[0m \u001b[43m        \u001b[49m\u001b[43mrequest_id\u001b[49m\u001b[38;5;241;43m=\u001b[39;49m\u001b[43mrequest_id\u001b[49m\u001b[43m,\u001b[49m\n\u001b[1;32m    160\u001b[0m \u001b[43m        \u001b[49m\u001b[43mrequest_timeout\u001b[49m\u001b[38;5;241;43m=\u001b[39;49m\u001b[43mrequest_timeout\u001b[49m\u001b[43m,\u001b[49m\n\u001b[1;32m    161\u001b[0m \u001b[43m    \u001b[49m\u001b[43m)\u001b[49m\n\u001b[1;32m    163\u001b[0m     \u001b[38;5;28;01mif\u001b[39;00m stream:\n\u001b[1;32m    164\u001b[0m         \u001b[38;5;66;03m# must be an iterator\u001b[39;00m\n\u001b[1;32m    165\u001b[0m         \u001b[38;5;28;01massert\u001b[39;00m \u001b[38;5;129;01mnot\u001b[39;00m \u001b[38;5;28misinstance\u001b[39m(response, OpenAIResponse)\n",
      "File \u001b[0;32m/opt/anaconda3/envs/ml/lib/python3.10/site-packages/openai/api_requestor.py:226\u001b[0m, in \u001b[0;36mAPIRequestor.request\u001b[0;34m(self, method, url, params, headers, files, stream, request_id, request_timeout)\u001b[0m\n\u001b[1;32m    205\u001b[0m \u001b[38;5;28;01mdef\u001b[39;00m \u001b[38;5;21mrequest\u001b[39m(\n\u001b[1;32m    206\u001b[0m     \u001b[38;5;28mself\u001b[39m,\n\u001b[1;32m    207\u001b[0m     method,\n\u001b[0;32m   (...)\u001b[0m\n\u001b[1;32m    214\u001b[0m     request_timeout: Optional[Union[\u001b[38;5;28mfloat\u001b[39m, Tuple[\u001b[38;5;28mfloat\u001b[39m, \u001b[38;5;28mfloat\u001b[39m]]] \u001b[38;5;241m=\u001b[39m \u001b[38;5;28;01mNone\u001b[39;00m,\n\u001b[1;32m    215\u001b[0m ) \u001b[38;5;241m-\u001b[39m\u001b[38;5;241m>\u001b[39m Tuple[Union[OpenAIResponse, Iterator[OpenAIResponse]], \u001b[38;5;28mbool\u001b[39m, \u001b[38;5;28mstr\u001b[39m]:\n\u001b[1;32m    216\u001b[0m     result \u001b[38;5;241m=\u001b[39m \u001b[38;5;28mself\u001b[39m\u001b[38;5;241m.\u001b[39mrequest_raw(\n\u001b[1;32m    217\u001b[0m         method\u001b[38;5;241m.\u001b[39mlower(),\n\u001b[1;32m    218\u001b[0m         url,\n\u001b[0;32m   (...)\u001b[0m\n\u001b[1;32m    224\u001b[0m         request_timeout\u001b[38;5;241m=\u001b[39mrequest_timeout,\n\u001b[1;32m    225\u001b[0m     )\n\u001b[0;32m--> 226\u001b[0m     resp, got_stream \u001b[38;5;241m=\u001b[39m \u001b[38;5;28;43mself\u001b[39;49m\u001b[38;5;241;43m.\u001b[39;49m\u001b[43m_interpret_response\u001b[49m\u001b[43m(\u001b[49m\u001b[43mresult\u001b[49m\u001b[43m,\u001b[49m\u001b[43m \u001b[49m\u001b[43mstream\u001b[49m\u001b[43m)\u001b[49m\n\u001b[1;32m    227\u001b[0m     \u001b[38;5;28;01mreturn\u001b[39;00m resp, got_stream, \u001b[38;5;28mself\u001b[39m\u001b[38;5;241m.\u001b[39mapi_key\n",
      "File \u001b[0;32m/opt/anaconda3/envs/ml/lib/python3.10/site-packages/openai/api_requestor.py:619\u001b[0m, in \u001b[0;36mAPIRequestor._interpret_response\u001b[0;34m(self, result, stream)\u001b[0m\n\u001b[1;32m    611\u001b[0m     \u001b[38;5;28;01mreturn\u001b[39;00m (\n\u001b[1;32m    612\u001b[0m         \u001b[38;5;28mself\u001b[39m\u001b[38;5;241m.\u001b[39m_interpret_response_line(\n\u001b[1;32m    613\u001b[0m             line, result\u001b[38;5;241m.\u001b[39mstatus_code, result\u001b[38;5;241m.\u001b[39mheaders, stream\u001b[38;5;241m=\u001b[39m\u001b[38;5;28;01mTrue\u001b[39;00m\n\u001b[1;32m    614\u001b[0m         )\n\u001b[1;32m    615\u001b[0m         \u001b[38;5;28;01mfor\u001b[39;00m line \u001b[38;5;129;01min\u001b[39;00m parse_stream(result\u001b[38;5;241m.\u001b[39miter_lines())\n\u001b[1;32m    616\u001b[0m     ), \u001b[38;5;28;01mTrue\u001b[39;00m\n\u001b[1;32m    617\u001b[0m \u001b[38;5;28;01melse\u001b[39;00m:\n\u001b[1;32m    618\u001b[0m     \u001b[38;5;28;01mreturn\u001b[39;00m (\n\u001b[0;32m--> 619\u001b[0m         \u001b[38;5;28;43mself\u001b[39;49m\u001b[38;5;241;43m.\u001b[39;49m\u001b[43m_interpret_response_line\u001b[49m\u001b[43m(\u001b[49m\n\u001b[1;32m    620\u001b[0m \u001b[43m            \u001b[49m\u001b[43mresult\u001b[49m\u001b[38;5;241;43m.\u001b[39;49m\u001b[43mcontent\u001b[49m\u001b[38;5;241;43m.\u001b[39;49m\u001b[43mdecode\u001b[49m\u001b[43m(\u001b[49m\u001b[38;5;124;43m\"\u001b[39;49m\u001b[38;5;124;43mutf-8\u001b[39;49m\u001b[38;5;124;43m\"\u001b[39;49m\u001b[43m)\u001b[49m\u001b[43m,\u001b[49m\n\u001b[1;32m    621\u001b[0m \u001b[43m            \u001b[49m\u001b[43mresult\u001b[49m\u001b[38;5;241;43m.\u001b[39;49m\u001b[43mstatus_code\u001b[49m\u001b[43m,\u001b[49m\n\u001b[1;32m    622\u001b[0m \u001b[43m            \u001b[49m\u001b[43mresult\u001b[49m\u001b[38;5;241;43m.\u001b[39;49m\u001b[43mheaders\u001b[49m\u001b[43m,\u001b[49m\n\u001b[1;32m    623\u001b[0m \u001b[43m            \u001b[49m\u001b[43mstream\u001b[49m\u001b[38;5;241;43m=\u001b[39;49m\u001b[38;5;28;43;01mFalse\u001b[39;49;00m\u001b[43m,\u001b[49m\n\u001b[1;32m    624\u001b[0m \u001b[43m        \u001b[49m\u001b[43m)\u001b[49m,\n\u001b[1;32m    625\u001b[0m         \u001b[38;5;28;01mFalse\u001b[39;00m,\n\u001b[1;32m    626\u001b[0m     )\n",
      "File \u001b[0;32m/opt/anaconda3/envs/ml/lib/python3.10/site-packages/openai/api_requestor.py:682\u001b[0m, in \u001b[0;36mAPIRequestor._interpret_response_line\u001b[0;34m(self, rbody, rcode, rheaders, stream)\u001b[0m\n\u001b[1;32m    680\u001b[0m stream_error \u001b[38;5;241m=\u001b[39m stream \u001b[38;5;129;01mand\u001b[39;00m \u001b[38;5;124m\"\u001b[39m\u001b[38;5;124merror\u001b[39m\u001b[38;5;124m\"\u001b[39m \u001b[38;5;129;01min\u001b[39;00m resp\u001b[38;5;241m.\u001b[39mdata\n\u001b[1;32m    681\u001b[0m \u001b[38;5;28;01mif\u001b[39;00m stream_error \u001b[38;5;129;01mor\u001b[39;00m \u001b[38;5;129;01mnot\u001b[39;00m \u001b[38;5;241m200\u001b[39m \u001b[38;5;241m<\u001b[39m\u001b[38;5;241m=\u001b[39m rcode \u001b[38;5;241m<\u001b[39m \u001b[38;5;241m300\u001b[39m:\n\u001b[0;32m--> 682\u001b[0m     \u001b[38;5;28;01mraise\u001b[39;00m \u001b[38;5;28mself\u001b[39m\u001b[38;5;241m.\u001b[39mhandle_error_response(\n\u001b[1;32m    683\u001b[0m         rbody, rcode, resp\u001b[38;5;241m.\u001b[39mdata, rheaders, stream_error\u001b[38;5;241m=\u001b[39mstream_error\n\u001b[1;32m    684\u001b[0m     )\n\u001b[1;32m    685\u001b[0m \u001b[38;5;28;01mreturn\u001b[39;00m resp\n",
      "\u001b[0;31mRateLimitError\u001b[0m: The server had an error while processing your request. Sorry about that!"
     ]
    }
   ],
   "source": [
    "chunked_test_df_with_preds = []\n",
    "\n",
    "for test_df_chunk in chunked_test_df:\n",
    "    test_df_chunk_with_preds = test_df_chunk.copy()\n",
    "    tweets = '\";\"'.join([t for t in test_df_chunk.Tweet])\n",
    "    preds = get_prediction(tweets)\n",
    "    \n",
    "    # Check that we got back five predictions.\n",
    "    # If not, insert zero predictions (or delete the \n",
    "    # last predictions) to get exactly five\n",
    "    k = len(preds)\n",
    "    if k!=n:\n",
    "        if k<5:\n",
    "            nb_to_add = 5-k\n",
    "            for i in range(nb_to_add):\n",
    "                preds.append('[0,0,0,0,0,0,0,0]')\n",
    "        if k>5:\n",
    "            preds = preds[:5]\n",
    "            \n",
    "    preds_l = [ast.literal_eval(p) for p in preds]\n",
    "    test_df_chunk_with_preds['preds'] = preds_l\n",
    "    chunked_test_df_with_preds.append(test_df_chunk_with_preds)"
   ]
  },
  {
   "cell_type": "code",
   "execution_count": 70,
   "id": "dc8c3cea",
   "metadata": {
    "hidden": true
   },
   "outputs": [
    {
     "data": {
      "text/plain": [
       "20"
      ]
     },
     "execution_count": 70,
     "metadata": {},
     "output_type": "execute_result"
    }
   ],
   "source": [
    "len(chunked_test_df_with_preds)"
   ]
  },
  {
   "cell_type": "code",
   "execution_count": 71,
   "id": "d113bb94",
   "metadata": {
    "hidden": true
   },
   "outputs": [
    {
     "data": {
      "text/html": [
       "<div>\n",
       "<style scoped>\n",
       "    .dataframe tbody tr th:only-of-type {\n",
       "        vertical-align: middle;\n",
       "    }\n",
       "\n",
       "    .dataframe tbody tr th {\n",
       "        vertical-align: top;\n",
       "    }\n",
       "\n",
       "    .dataframe thead th {\n",
       "        text-align: right;\n",
       "    }\n",
       "</style>\n",
       "<table border=\"1\" class=\"dataframe\">\n",
       "  <thead>\n",
       "    <tr style=\"text-align: right;\">\n",
       "      <th></th>\n",
       "      <th>ID</th>\n",
       "      <th>Tweet</th>\n",
       "      <th>Influenza</th>\n",
       "      <th>Diarrhea</th>\n",
       "      <th>Hayfever</th>\n",
       "      <th>Cough</th>\n",
       "      <th>Headache</th>\n",
       "      <th>Fever</th>\n",
       "      <th>Runnynose</th>\n",
       "      <th>Cold</th>\n",
       "      <th>is_test</th>\n",
       "      <th>labels</th>\n",
       "      <th>preds</th>\n",
       "    </tr>\n",
       "  </thead>\n",
       "  <tbody>\n",
       "    <tr>\n",
       "      <th>1920</th>\n",
       "      <td>1921en</td>\n",
       "      <td>I went on a trip and got the flu as a souvenir.</td>\n",
       "      <td>1</td>\n",
       "      <td>0</td>\n",
       "      <td>0</td>\n",
       "      <td>0</td>\n",
       "      <td>0</td>\n",
       "      <td>1</td>\n",
       "      <td>0</td>\n",
       "      <td>0</td>\n",
       "      <td>True</td>\n",
       "      <td>[1, 0, 0, 0, 0, 1, 0, 0]</td>\n",
       "      <td>[0, 0, 0, 0, 1, 0, 0, 0]</td>\n",
       "    </tr>\n",
       "    <tr>\n",
       "      <th>1921</th>\n",
       "      <td>1922en</td>\n",
       "      <td>Difficult bosses are one kind of headache</td>\n",
       "      <td>0</td>\n",
       "      <td>0</td>\n",
       "      <td>0</td>\n",
       "      <td>0</td>\n",
       "      <td>0</td>\n",
       "      <td>0</td>\n",
       "      <td>0</td>\n",
       "      <td>0</td>\n",
       "      <td>True</td>\n",
       "      <td>[0, 0, 0, 0, 0, 0, 0, 0]</td>\n",
       "      <td>[0, 0, 0, 0, 0, 1, 0, 0]</td>\n",
       "    </tr>\n",
       "    <tr>\n",
       "      <th>1922</th>\n",
       "      <td>1923en</td>\n",
       "      <td>I'm dying and need someone to translate for me...</td>\n",
       "      <td>0</td>\n",
       "      <td>0</td>\n",
       "      <td>0</td>\n",
       "      <td>0</td>\n",
       "      <td>0</td>\n",
       "      <td>0</td>\n",
       "      <td>0</td>\n",
       "      <td>0</td>\n",
       "      <td>True</td>\n",
       "      <td>[0, 0, 0, 0, 0, 0, 0, 0]</td>\n",
       "      <td>[0, 0, 0, 0, 0, 0, 0, 1]</td>\n",
       "    </tr>\n",
       "    <tr>\n",
       "      <th>1923</th>\n",
       "      <td>1924en</td>\n",
       "      <td>Flu crisis.</td>\n",
       "      <td>1</td>\n",
       "      <td>0</td>\n",
       "      <td>0</td>\n",
       "      <td>0</td>\n",
       "      <td>0</td>\n",
       "      <td>1</td>\n",
       "      <td>0</td>\n",
       "      <td>0</td>\n",
       "      <td>True</td>\n",
       "      <td>[1, 0, 0, 0, 0, 1, 0, 0]</td>\n",
       "      <td>[0, 0, 0, 1, 0, 0, 1, 0]</td>\n",
       "    </tr>\n",
       "    <tr>\n",
       "      <th>1924</th>\n",
       "      <td>1925en</td>\n",
       "      <td>I have a horribly stuffy nose, there's no way ...</td>\n",
       "      <td>0</td>\n",
       "      <td>0</td>\n",
       "      <td>0</td>\n",
       "      <td>0</td>\n",
       "      <td>0</td>\n",
       "      <td>0</td>\n",
       "      <td>1</td>\n",
       "      <td>0</td>\n",
       "      <td>True</td>\n",
       "      <td>[0, 0, 0, 0, 0, 0, 1, 0]</td>\n",
       "      <td>[0, 0, 0, 0, 0, 0, 1, 0]</td>\n",
       "    </tr>\n",
       "  </tbody>\n",
       "</table>\n",
       "</div>"
      ],
      "text/plain": [
       "          ID                                              Tweet  Influenza  \\\n",
       "1920  1921en    I went on a trip and got the flu as a souvenir.          1   \n",
       "1921  1922en          Difficult bosses are one kind of headache          0   \n",
       "1922  1923en  I'm dying and need someone to translate for me...          0   \n",
       "1923  1924en                                        Flu crisis.          1   \n",
       "1924  1925en  I have a horribly stuffy nose, there's no way ...          0   \n",
       "\n",
       "      Diarrhea  Hayfever  Cough  Headache  Fever  Runnynose  Cold  is_test  \\\n",
       "1920         0         0      0         0      1          0     0     True   \n",
       "1921         0         0      0         0      0          0     0     True   \n",
       "1922         0         0      0         0      0          0     0     True   \n",
       "1923         0         0      0         0      1          0     0     True   \n",
       "1924         0         0      0         0      0          1     0     True   \n",
       "\n",
       "                        labels                     preds  \n",
       "1920  [1, 0, 0, 0, 0, 1, 0, 0]  [0, 0, 0, 0, 1, 0, 0, 0]  \n",
       "1921  [0, 0, 0, 0, 0, 0, 0, 0]  [0, 0, 0, 0, 0, 1, 0, 0]  \n",
       "1922  [0, 0, 0, 0, 0, 0, 0, 0]  [0, 0, 0, 0, 0, 0, 0, 1]  \n",
       "1923  [1, 0, 0, 0, 0, 1, 0, 0]  [0, 0, 0, 1, 0, 0, 1, 0]  \n",
       "1924  [0, 0, 0, 0, 0, 0, 1, 0]  [0, 0, 0, 0, 0, 0, 1, 0]  "
      ]
     },
     "execution_count": 71,
     "metadata": {},
     "output_type": "execute_result"
    }
   ],
   "source": [
    "test_df_with_preds= pd.concat(chunked_test_df_with_preds)\n",
    "test_df_with_preds.head()"
   ]
  },
  {
   "cell_type": "code",
   "execution_count": null,
   "id": "01ed08f2",
   "metadata": {
    "hidden": true
   },
   "outputs": [],
   "source": [
    "test_df_with_preds.to_csv('medweb_chatgpt.csv', index=None)"
   ]
  },
  {
   "cell_type": "code",
   "execution_count": 72,
   "id": "33fd0f4a",
   "metadata": {
    "hidden": true
   },
   "outputs": [],
   "source": [
    "def get_accuracy(df):\n",
    "    return (df['labels'] == df['preds']).sum()/len(df)"
   ]
  },
  {
   "cell_type": "code",
   "execution_count": 73,
   "id": "cfd009ef",
   "metadata": {
    "hidden": true
   },
   "outputs": [
    {
     "data": {
      "text/plain": [
       "0.36"
      ]
     },
     "execution_count": 73,
     "metadata": {},
     "output_type": "execute_result"
    }
   ],
   "source": [
    "get_accuracy(test_df_with_preds)"
   ]
  },
  {
   "cell_type": "code",
   "execution_count": null,
   "id": "05a79fe0",
   "metadata": {
    "hidden": true
   },
   "outputs": [],
   "source": []
  }
 ],
 "metadata": {
  "kernelspec": {
   "display_name": "ml",
   "language": "python",
   "name": "ml"
  },
  "language_info": {
   "codemirror_mode": {
    "name": "ipython",
    "version": 3
   },
   "file_extension": ".py",
   "mimetype": "text/x-python",
   "name": "python",
   "nbconvert_exporter": "python",
   "pygments_lexer": "ipython3",
   "version": "3.10.4"
  },
  "toc": {
   "base_numbering": 1,
   "nav_menu": {},
   "number_sections": true,
   "sideBar": true,
   "skip_h1_title": false,
   "title_cell": "Table of Contents",
   "title_sidebar": "Contents",
   "toc_cell": false,
   "toc_position": {},
   "toc_section_display": true,
   "toc_window_display": false
  }
 },
 "nbformat": 4,
 "nbformat_minor": 5
}
