{
 "cells": [
  {
   "cell_type": "markdown",
   "id": "6418d01f",
   "metadata": {},
   "source": [
    "ASL, v.060323"
   ]
  },
  {
   "cell_type": "markdown",
   "id": "89937a6a",
   "metadata": {},
   "source": [
    "# Introduction"
   ]
  },
  {
   "cell_type": "markdown",
   "id": "7cf338e6",
   "metadata": {},
   "source": [
    "In this notebook, we use ChatGPT via the OpenAI API to classify the MedWeb tweets studied in the previous notebooks (`DAT255-NLP-2.0-MedTweets-fastai-ULMFiT.ipynb` and `DAT255-NLP-3.0-MedTweets-transformers.ipynb`)."
   ]
  },
  {
   "cell_type": "markdown",
   "id": "47e32f4b",
   "metadata": {
    "heading_collapsed": true
   },
   "source": [
    "# Setup"
   ]
  },
  {
   "cell_type": "code",
   "execution_count": 1,
   "id": "c69ccf92",
   "metadata": {
    "hidden": true
   },
   "outputs": [],
   "source": [
    "%matplotlib inline\n",
    "import numpy as np, pandas as pd, matplotlib.pyplot as plt\n",
    "from pathlib import Path"
   ]
  },
  {
   "cell_type": "code",
   "execution_count": 2,
   "id": "daec0213",
   "metadata": {
    "hidden": true
   },
   "outputs": [],
   "source": [
    "import openai"
   ]
  },
  {
   "cell_type": "markdown",
   "id": "68c4ec33",
   "metadata": {
    "hidden": true
   },
   "source": [
    "Load API key (get yours here: https://platform.openai.com/). The (secret) key is stored in an environment file (OBS: make sure to gitignore it!). We load it using `python-dotenv`: https://pypi.org/project/python-dotenv/"
   ]
  },
  {
   "cell_type": "code",
   "execution_count": 3,
   "id": "dbd62ace",
   "metadata": {
    "hidden": true
   },
   "outputs": [],
   "source": [
    "NB_DIR = Path.cwd()"
   ]
  },
  {
   "cell_type": "code",
   "execution_count": 4,
   "id": "f521615c",
   "metadata": {
    "hidden": true
   },
   "outputs": [],
   "source": [
    "dotenv_file = NB_DIR/'.env'"
   ]
  },
  {
   "cell_type": "code",
   "execution_count": 5,
   "id": "a79ca48d",
   "metadata": {
    "hidden": true
   },
   "outputs": [
    {
     "data": {
      "text/plain": [
       "True"
      ]
     },
     "execution_count": 5,
     "metadata": {},
     "output_type": "execute_result"
    }
   ],
   "source": [
    "import dotenv\n",
    "dotenv.load_dotenv(dotenv_file)"
   ]
  },
  {
   "cell_type": "markdown",
   "id": "02e74b16",
   "metadata": {
    "heading_collapsed": true
   },
   "source": [
    "# Load and prepare the data"
   ]
  },
  {
   "cell_type": "code",
   "execution_count": 6,
   "id": "4b98e416",
   "metadata": {
    "hidden": true
   },
   "outputs": [
    {
     "data": {
      "text/html": [
       "<div>\n",
       "<style scoped>\n",
       "    .dataframe tbody tr th:only-of-type {\n",
       "        vertical-align: middle;\n",
       "    }\n",
       "\n",
       "    .dataframe tbody tr th {\n",
       "        vertical-align: top;\n",
       "    }\n",
       "\n",
       "    .dataframe thead th {\n",
       "        text-align: right;\n",
       "    }\n",
       "</style>\n",
       "<table border=\"1\" class=\"dataframe\">\n",
       "  <thead>\n",
       "    <tr style=\"text-align: right;\">\n",
       "      <th></th>\n",
       "      <th>ID</th>\n",
       "      <th>Tweet</th>\n",
       "      <th>Influenza</th>\n",
       "      <th>Diarrhea</th>\n",
       "      <th>Hayfever</th>\n",
       "      <th>Cough</th>\n",
       "      <th>Headache</th>\n",
       "      <th>Fever</th>\n",
       "      <th>Runnynose</th>\n",
       "      <th>Cold</th>\n",
       "      <th>labels</th>\n",
       "      <th>is_test</th>\n",
       "    </tr>\n",
       "  </thead>\n",
       "  <tbody>\n",
       "    <tr>\n",
       "      <th>0</th>\n",
       "      <td>1en</td>\n",
       "      <td>The cold makes my whole body weak.</td>\n",
       "      <td>0</td>\n",
       "      <td>0</td>\n",
       "      <td>0</td>\n",
       "      <td>0</td>\n",
       "      <td>0</td>\n",
       "      <td>0</td>\n",
       "      <td>0</td>\n",
       "      <td>1</td>\n",
       "      <td>Cold</td>\n",
       "      <td>False</td>\n",
       "    </tr>\n",
       "    <tr>\n",
       "      <th>1</th>\n",
       "      <td>2en</td>\n",
       "      <td>It's been a while since I've had allergy sympt...</td>\n",
       "      <td>0</td>\n",
       "      <td>0</td>\n",
       "      <td>1</td>\n",
       "      <td>0</td>\n",
       "      <td>0</td>\n",
       "      <td>0</td>\n",
       "      <td>1</td>\n",
       "      <td>0</td>\n",
       "      <td>Hayfever;Runnynose</td>\n",
       "      <td>False</td>\n",
       "    </tr>\n",
       "    <tr>\n",
       "      <th>2</th>\n",
       "      <td>3en</td>\n",
       "      <td>I'm so feverish and out of it because of my al...</td>\n",
       "      <td>0</td>\n",
       "      <td>0</td>\n",
       "      <td>1</td>\n",
       "      <td>0</td>\n",
       "      <td>0</td>\n",
       "      <td>1</td>\n",
       "      <td>1</td>\n",
       "      <td>0</td>\n",
       "      <td>Hayfever;Fever;Runnynose</td>\n",
       "      <td>False</td>\n",
       "    </tr>\n",
       "    <tr>\n",
       "      <th>3</th>\n",
       "      <td>4en</td>\n",
       "      <td>I took some medicine for my runny nose, but it...</td>\n",
       "      <td>0</td>\n",
       "      <td>0</td>\n",
       "      <td>0</td>\n",
       "      <td>0</td>\n",
       "      <td>0</td>\n",
       "      <td>0</td>\n",
       "      <td>1</td>\n",
       "      <td>0</td>\n",
       "      <td>Runnynose</td>\n",
       "      <td>False</td>\n",
       "    </tr>\n",
       "    <tr>\n",
       "      <th>4</th>\n",
       "      <td>5en</td>\n",
       "      <td>I had a bad case of diarrhea when I traveled t...</td>\n",
       "      <td>0</td>\n",
       "      <td>0</td>\n",
       "      <td>0</td>\n",
       "      <td>0</td>\n",
       "      <td>0</td>\n",
       "      <td>0</td>\n",
       "      <td>0</td>\n",
       "      <td>0</td>\n",
       "      <td>sober</td>\n",
       "      <td>False</td>\n",
       "    </tr>\n",
       "  </tbody>\n",
       "</table>\n",
       "</div>"
      ],
      "text/plain": [
       "    ID                                              Tweet  Influenza  \\\n",
       "0  1en                 The cold makes my whole body weak.          0   \n",
       "1  2en  It's been a while since I've had allergy sympt...          0   \n",
       "2  3en  I'm so feverish and out of it because of my al...          0   \n",
       "3  4en  I took some medicine for my runny nose, but it...          0   \n",
       "4  5en  I had a bad case of diarrhea when I traveled t...          0   \n",
       "\n",
       "   Diarrhea  Hayfever  Cough  Headache  Fever  Runnynose  Cold  \\\n",
       "0         0         0      0         0      0          0     1   \n",
       "1         0         1      0         0      0          1     0   \n",
       "2         0         1      0         0      1          1     0   \n",
       "3         0         0      0         0      0          1     0   \n",
       "4         0         0      0         0      0          0     0   \n",
       "\n",
       "                     labels  is_test  \n",
       "0                      Cold    False  \n",
       "1        Hayfever;Runnynose    False  \n",
       "2  Hayfever;Fever;Runnynose    False  \n",
       "3                 Runnynose    False  \n",
       "4                     sober    False  "
      ]
     },
     "execution_count": 6,
     "metadata": {},
     "output_type": "execute_result"
    }
   ],
   "source": [
    "df = pd.read_csv('https://github.com/HVL-ML/DAT255/raw/main/3-NLP/data/medwebdata.csv')\n",
    "df.head()"
   ]
  },
  {
   "cell_type": "code",
   "execution_count": 7,
   "id": "a0cd9f66",
   "metadata": {
    "hidden": true
   },
   "outputs": [],
   "source": [
    "df.drop(['labels'], axis=1, inplace=True)"
   ]
  },
  {
   "cell_type": "code",
   "execution_count": 8,
   "id": "87eb3b37",
   "metadata": {
    "hidden": true
   },
   "outputs": [],
   "source": [
    "df['labels'] = df.apply(lambda x: [x[c] for c in df.columns[2:-1]], axis=1)"
   ]
  },
  {
   "cell_type": "code",
   "execution_count": 9,
   "id": "4f149318",
   "metadata": {
    "hidden": true
   },
   "outputs": [
    {
     "data": {
      "text/html": [
       "<div>\n",
       "<style scoped>\n",
       "    .dataframe tbody tr th:only-of-type {\n",
       "        vertical-align: middle;\n",
       "    }\n",
       "\n",
       "    .dataframe tbody tr th {\n",
       "        vertical-align: top;\n",
       "    }\n",
       "\n",
       "    .dataframe thead th {\n",
       "        text-align: right;\n",
       "    }\n",
       "</style>\n",
       "<table border=\"1\" class=\"dataframe\">\n",
       "  <thead>\n",
       "    <tr style=\"text-align: right;\">\n",
       "      <th></th>\n",
       "      <th>ID</th>\n",
       "      <th>Tweet</th>\n",
       "      <th>Influenza</th>\n",
       "      <th>Diarrhea</th>\n",
       "      <th>Hayfever</th>\n",
       "      <th>Cough</th>\n",
       "      <th>Headache</th>\n",
       "      <th>Fever</th>\n",
       "      <th>Runnynose</th>\n",
       "      <th>Cold</th>\n",
       "      <th>is_test</th>\n",
       "      <th>labels</th>\n",
       "    </tr>\n",
       "  </thead>\n",
       "  <tbody>\n",
       "    <tr>\n",
       "      <th>0</th>\n",
       "      <td>1en</td>\n",
       "      <td>The cold makes my whole body weak.</td>\n",
       "      <td>0</td>\n",
       "      <td>0</td>\n",
       "      <td>0</td>\n",
       "      <td>0</td>\n",
       "      <td>0</td>\n",
       "      <td>0</td>\n",
       "      <td>0</td>\n",
       "      <td>1</td>\n",
       "      <td>False</td>\n",
       "      <td>[0, 0, 0, 0, 0, 0, 0, 1]</td>\n",
       "    </tr>\n",
       "    <tr>\n",
       "      <th>1</th>\n",
       "      <td>2en</td>\n",
       "      <td>It's been a while since I've had allergy sympt...</td>\n",
       "      <td>0</td>\n",
       "      <td>0</td>\n",
       "      <td>1</td>\n",
       "      <td>0</td>\n",
       "      <td>0</td>\n",
       "      <td>0</td>\n",
       "      <td>1</td>\n",
       "      <td>0</td>\n",
       "      <td>False</td>\n",
       "      <td>[0, 0, 1, 0, 0, 0, 1, 0]</td>\n",
       "    </tr>\n",
       "    <tr>\n",
       "      <th>2</th>\n",
       "      <td>3en</td>\n",
       "      <td>I'm so feverish and out of it because of my al...</td>\n",
       "      <td>0</td>\n",
       "      <td>0</td>\n",
       "      <td>1</td>\n",
       "      <td>0</td>\n",
       "      <td>0</td>\n",
       "      <td>1</td>\n",
       "      <td>1</td>\n",
       "      <td>0</td>\n",
       "      <td>False</td>\n",
       "      <td>[0, 0, 1, 0, 0, 1, 1, 0]</td>\n",
       "    </tr>\n",
       "    <tr>\n",
       "      <th>3</th>\n",
       "      <td>4en</td>\n",
       "      <td>I took some medicine for my runny nose, but it...</td>\n",
       "      <td>0</td>\n",
       "      <td>0</td>\n",
       "      <td>0</td>\n",
       "      <td>0</td>\n",
       "      <td>0</td>\n",
       "      <td>0</td>\n",
       "      <td>1</td>\n",
       "      <td>0</td>\n",
       "      <td>False</td>\n",
       "      <td>[0, 0, 0, 0, 0, 0, 1, 0]</td>\n",
       "    </tr>\n",
       "    <tr>\n",
       "      <th>4</th>\n",
       "      <td>5en</td>\n",
       "      <td>I had a bad case of diarrhea when I traveled t...</td>\n",
       "      <td>0</td>\n",
       "      <td>0</td>\n",
       "      <td>0</td>\n",
       "      <td>0</td>\n",
       "      <td>0</td>\n",
       "      <td>0</td>\n",
       "      <td>0</td>\n",
       "      <td>0</td>\n",
       "      <td>False</td>\n",
       "      <td>[0, 0, 0, 0, 0, 0, 0, 0]</td>\n",
       "    </tr>\n",
       "  </tbody>\n",
       "</table>\n",
       "</div>"
      ],
      "text/plain": [
       "    ID                                              Tweet  Influenza  \\\n",
       "0  1en                 The cold makes my whole body weak.          0   \n",
       "1  2en  It's been a while since I've had allergy sympt...          0   \n",
       "2  3en  I'm so feverish and out of it because of my al...          0   \n",
       "3  4en  I took some medicine for my runny nose, but it...          0   \n",
       "4  5en  I had a bad case of diarrhea when I traveled t...          0   \n",
       "\n",
       "   Diarrhea  Hayfever  Cough  Headache  Fever  Runnynose  Cold  is_test  \\\n",
       "0         0         0      0         0      0          0     1    False   \n",
       "1         0         1      0         0      0          1     0    False   \n",
       "2         0         1      0         0      1          1     0    False   \n",
       "3         0         0      0         0      0          1     0    False   \n",
       "4         0         0      0         0      0          0     0    False   \n",
       "\n",
       "                     labels  \n",
       "0  [0, 0, 0, 0, 0, 0, 0, 1]  \n",
       "1  [0, 0, 1, 0, 0, 0, 1, 0]  \n",
       "2  [0, 0, 1, 0, 0, 1, 1, 0]  \n",
       "3  [0, 0, 0, 0, 0, 0, 1, 0]  \n",
       "4  [0, 0, 0, 0, 0, 0, 0, 0]  "
      ]
     },
     "execution_count": 9,
     "metadata": {},
     "output_type": "execute_result"
    }
   ],
   "source": [
    "df.head()"
   ]
  },
  {
   "cell_type": "markdown",
   "id": "ee3cf453",
   "metadata": {
    "heading_collapsed": true
   },
   "source": [
    "# Set up the ChatGPT prompt"
   ]
  },
  {
   "cell_type": "code",
   "execution_count": 10,
   "id": "30502a35",
   "metadata": {
    "hidden": true
   },
   "outputs": [],
   "source": [
    "prompt = \"\"\"\n",
    "When I write a short text, I want you to return whether or not the text deals with \n",
    "one or more of the terms, and if so, which ones. \n",
    "['Influenza', 'Diarrhea', 'Hayfever', 'Cough', 'Headache', 'Fever', 'Runnynose', 'Cold']. \n",
    "Respond only with the terms that the text I provide deals with as a comma-separated inside brackets. \n",
    "\n",
    "For example, when I write, \"I'm feeling really bad. My head hurts. My nose is runny. \n",
    "I've felt like this for days.\" you should respond with [Headache, Runnynose].\n",
    "\n",
    "Here is my text: \n",
    "\"\"\""
   ]
  },
  {
   "cell_type": "markdown",
   "id": "858c26c0",
   "metadata": {
    "heading_collapsed": true
   },
   "source": [
    "# Create API request"
   ]
  },
  {
   "cell_type": "markdown",
   "id": "fc973906",
   "metadata": {
    "heading_collapsed": true,
    "hidden": true
   },
   "source": [
    "## Test"
   ]
  },
  {
   "cell_type": "code",
   "execution_count": 11,
   "id": "b7e86334",
   "metadata": {
    "hidden": true
   },
   "outputs": [],
   "source": [
    "tweet = \"I'm so feverish and out of it because of my allergies. I'm so sleepy.\""
   ]
  },
  {
   "cell_type": "code",
   "execution_count": 12,
   "id": "c9732b21",
   "metadata": {
    "hidden": true
   },
   "outputs": [],
   "source": [
    "messages=[\n",
    "        {\"role\": \"user\", \"content\": prompt},\n",
    "        {\"role\": \"user\", \"content\": tweet}]"
   ]
  },
  {
   "cell_type": "code",
   "execution_count": 13,
   "id": "dd80edf1",
   "metadata": {
    "hidden": true
   },
   "outputs": [
    {
     "data": {
      "text/plain": [
       "[{'role': 'user',\n",
       "  'content': '\\nWhen I write a short text, I want you to return whether or not the text deals with \\none or more of the terms, and if so, which ones. \\n[\\'Influenza\\', \\'Diarrhea\\', \\'Hayfever\\', \\'Cough\\', \\'Headache\\', \\'Fever\\', \\'Runnynose\\', \\'Cold\\']. \\nRespond only with the terms that the text I provide deals with as a comma-separated inside brackets. \\n\\nFor example, when I write, \"I\\'m feeling really bad. My head hurts. My nose is runny. \\nI\\'ve felt like this for days.\" you should respond with [Headache, Runnynose].\\n\\nHere is my text: \\n'},\n",
       " {'role': 'user',\n",
       "  'content': \"I'm so feverish and out of it because of my allergies. I'm so sleepy.\"}]"
      ]
     },
     "execution_count": 13,
     "metadata": {},
     "output_type": "execute_result"
    }
   ],
   "source": [
    "messages"
   ]
  },
  {
   "cell_type": "code",
   "execution_count": 14,
   "id": "a6b29923",
   "metadata": {
    "hidden": true
   },
   "outputs": [],
   "source": [
    "import os\n",
    "openai.api_key = os.getenv(\"OPENAI_API_KEY\")\n",
    "\n",
    "model = \"gpt-3.5-turbo\""
   ]
  },
  {
   "cell_type": "code",
   "execution_count": 15,
   "id": "ecdf0d3e",
   "metadata": {
    "hidden": true
   },
   "outputs": [],
   "source": [
    "response = openai.ChatCompletion.create(\n",
    "  model=model,\n",
    "  messages=messages,\n",
    "  temperature=0.9,\n",
    "  max_tokens=150,\n",
    "  top_p=1,\n",
    "  frequency_penalty=0.0,\n",
    "  presence_penalty=0.6,\n",
    "  stop=[\" Human:\", \" AI:\"]\n",
    ")"
   ]
  },
  {
   "cell_type": "code",
   "execution_count": 16,
   "id": "951fd5f8",
   "metadata": {
    "hidden": true
   },
   "outputs": [
    {
     "data": {
      "text/plain": [
       "<OpenAIObject chat.completion id=chatcmpl-6r1TJhhsqbkmcUzIycLLlAo2VraBn at 0x7fb8c5cd6d40> JSON: {\n",
       "  \"choices\": [\n",
       "    {\n",
       "      \"finish_reason\": \"stop\",\n",
       "      \"index\": 0,\n",
       "      \"message\": {\n",
       "        \"content\": \"[Fever, Hayfever]\",\n",
       "        \"role\": \"assistant\"\n",
       "      }\n",
       "    }\n",
       "  ],\n",
       "  \"created\": 1678095061,\n",
       "  \"id\": \"chatcmpl-6r1TJhhsqbkmcUzIycLLlAo2VraBn\",\n",
       "  \"model\": \"gpt-3.5-turbo-0301\",\n",
       "  \"object\": \"chat.completion\",\n",
       "  \"usage\": {\n",
       "    \"completion_tokens\": 9,\n",
       "    \"prompt_tokens\": 177,\n",
       "    \"total_tokens\": 186\n",
       "  }\n",
       "}"
      ]
     },
     "execution_count": 16,
     "metadata": {},
     "output_type": "execute_result"
    }
   ],
   "source": [
    "response"
   ]
  },
  {
   "cell_type": "markdown",
   "id": "92fc00b1",
   "metadata": {
    "heading_collapsed": true,
    "hidden": true
   },
   "source": [
    "## Function to get predictions"
   ]
  },
  {
   "cell_type": "code",
   "execution_count": 17,
   "id": "af75f1c7",
   "metadata": {
    "hidden": true
   },
   "outputs": [],
   "source": [
    "def get_prediction(tweet):\n",
    "    messages=[\n",
    "        {\"role\": \"user\", \"content\": prompt},\n",
    "        {\"role\": \"user\", \"content\": tweet}]\n",
    "    \n",
    "    response = openai.ChatCompletion.create(\n",
    "              model=model,\n",
    "              messages=messages,\n",
    "              temperature=0.9,\n",
    "              max_tokens=150,\n",
    "              top_p=1,\n",
    "              frequency_penalty=0.0,\n",
    "              presence_penalty=0.6,\n",
    "              stop=[\" Human:\", \" AI:\"]\n",
    "            )\n",
    "    \n",
    "    prediction = response.get(\"choices\")[0].get(\"message\").get(\"content\")\n",
    "    \n",
    "    prediction = prediction.strip('][').split(', ')\n",
    "    \n",
    "    return prediction"
   ]
  },
  {
   "cell_type": "code",
   "execution_count": 18,
   "id": "8307dbd5",
   "metadata": {
    "hidden": true
   },
   "outputs": [],
   "source": [
    "df[\"predictions\"] = \"\""
   ]
  },
  {
   "cell_type": "code",
   "execution_count": 19,
   "id": "44924522",
   "metadata": {
    "hidden": true
   },
   "outputs": [
    {
     "data": {
      "text/plain": [
       "Index(['Influenza', 'Diarrhea', 'Hayfever', 'Cough', 'Headache', 'Fever',\n",
       "       'Runnynose', 'Cold'],\n",
       "      dtype='object')"
      ]
     },
     "execution_count": 19,
     "metadata": {},
     "output_type": "execute_result"
    }
   ],
   "source": [
    "all_labels = df.columns[2:10]\n",
    "all_labels"
   ]
  },
  {
   "cell_type": "code",
   "execution_count": 20,
   "id": "a9db553c",
   "metadata": {
    "hidden": true
   },
   "outputs": [],
   "source": [
    "def get_pred_encoded(tweet):\n",
    "    pred = get_prediction(tweet)\n",
    "    pred_encoded = []\n",
    "    for l in all_labels:\n",
    "        if l in pred:\n",
    "            pred_encoded.append(1)\n",
    "        else:\n",
    "            pred_encoded.append(0)\n",
    "            \n",
    "    return pred_encoded"
   ]
  },
  {
   "cell_type": "code",
   "execution_count": 21,
   "id": "27f96de3",
   "metadata": {
    "hidden": true
   },
   "outputs": [
    {
     "data": {
      "text/plain": [
       "[0, 0, 0, 0, 0, 0, 0, 1]"
      ]
     },
     "execution_count": 21,
     "metadata": {},
     "output_type": "execute_result"
    }
   ],
   "source": [
    "get_pred_encoded(df.iloc[0][\"Tweet\"])"
   ]
  },
  {
   "cell_type": "markdown",
   "id": "6c6e759a",
   "metadata": {
    "heading_collapsed": true
   },
   "source": [
    "# Get predictions for test data"
   ]
  },
  {
   "cell_type": "code",
   "execution_count": 22,
   "id": "0877ab98",
   "metadata": {
    "hidden": true
   },
   "outputs": [],
   "source": [
    "test_df = df.loc[df.is_test == True]"
   ]
  },
  {
   "cell_type": "code",
   "execution_count": 23,
   "id": "e297288b",
   "metadata": {
    "hidden": true
   },
   "outputs": [
    {
     "data": {
      "text/html": [
       "<div>\n",
       "<style scoped>\n",
       "    .dataframe tbody tr th:only-of-type {\n",
       "        vertical-align: middle;\n",
       "    }\n",
       "\n",
       "    .dataframe tbody tr th {\n",
       "        vertical-align: top;\n",
       "    }\n",
       "\n",
       "    .dataframe thead th {\n",
       "        text-align: right;\n",
       "    }\n",
       "</style>\n",
       "<table border=\"1\" class=\"dataframe\">\n",
       "  <thead>\n",
       "    <tr style=\"text-align: right;\">\n",
       "      <th></th>\n",
       "      <th>ID</th>\n",
       "      <th>Tweet</th>\n",
       "      <th>Influenza</th>\n",
       "      <th>Diarrhea</th>\n",
       "      <th>Hayfever</th>\n",
       "      <th>Cough</th>\n",
       "      <th>Headache</th>\n",
       "      <th>Fever</th>\n",
       "      <th>Runnynose</th>\n",
       "      <th>Cold</th>\n",
       "      <th>is_test</th>\n",
       "      <th>labels</th>\n",
       "      <th>predictions</th>\n",
       "    </tr>\n",
       "  </thead>\n",
       "  <tbody>\n",
       "    <tr>\n",
       "      <th>1920</th>\n",
       "      <td>1921en</td>\n",
       "      <td>I went on a trip and got the flu as a souvenir.</td>\n",
       "      <td>1</td>\n",
       "      <td>0</td>\n",
       "      <td>0</td>\n",
       "      <td>0</td>\n",
       "      <td>0</td>\n",
       "      <td>1</td>\n",
       "      <td>0</td>\n",
       "      <td>0</td>\n",
       "      <td>True</td>\n",
       "      <td>[1, 0, 0, 0, 0, 1, 0, 0]</td>\n",
       "      <td></td>\n",
       "    </tr>\n",
       "    <tr>\n",
       "      <th>1921</th>\n",
       "      <td>1922en</td>\n",
       "      <td>Difficult bosses are one kind of headache</td>\n",
       "      <td>0</td>\n",
       "      <td>0</td>\n",
       "      <td>0</td>\n",
       "      <td>0</td>\n",
       "      <td>0</td>\n",
       "      <td>0</td>\n",
       "      <td>0</td>\n",
       "      <td>0</td>\n",
       "      <td>True</td>\n",
       "      <td>[0, 0, 0, 0, 0, 0, 0, 0]</td>\n",
       "      <td></td>\n",
       "    </tr>\n",
       "    <tr>\n",
       "      <th>1922</th>\n",
       "      <td>1923en</td>\n",
       "      <td>I'm dying and need someone to translate for me...</td>\n",
       "      <td>0</td>\n",
       "      <td>0</td>\n",
       "      <td>0</td>\n",
       "      <td>0</td>\n",
       "      <td>0</td>\n",
       "      <td>0</td>\n",
       "      <td>0</td>\n",
       "      <td>0</td>\n",
       "      <td>True</td>\n",
       "      <td>[0, 0, 0, 0, 0, 0, 0, 0]</td>\n",
       "      <td></td>\n",
       "    </tr>\n",
       "    <tr>\n",
       "      <th>1923</th>\n",
       "      <td>1924en</td>\n",
       "      <td>Flu crisis.</td>\n",
       "      <td>1</td>\n",
       "      <td>0</td>\n",
       "      <td>0</td>\n",
       "      <td>0</td>\n",
       "      <td>0</td>\n",
       "      <td>1</td>\n",
       "      <td>0</td>\n",
       "      <td>0</td>\n",
       "      <td>True</td>\n",
       "      <td>[1, 0, 0, 0, 0, 1, 0, 0]</td>\n",
       "      <td></td>\n",
       "    </tr>\n",
       "    <tr>\n",
       "      <th>1924</th>\n",
       "      <td>1925en</td>\n",
       "      <td>I have a horribly stuffy nose, there's no way ...</td>\n",
       "      <td>0</td>\n",
       "      <td>0</td>\n",
       "      <td>0</td>\n",
       "      <td>0</td>\n",
       "      <td>0</td>\n",
       "      <td>0</td>\n",
       "      <td>1</td>\n",
       "      <td>0</td>\n",
       "      <td>True</td>\n",
       "      <td>[0, 0, 0, 0, 0, 0, 1, 0]</td>\n",
       "      <td></td>\n",
       "    </tr>\n",
       "  </tbody>\n",
       "</table>\n",
       "</div>"
      ],
      "text/plain": [
       "          ID                                              Tweet  Influenza  \\\n",
       "1920  1921en    I went on a trip and got the flu as a souvenir.          1   \n",
       "1921  1922en          Difficult bosses are one kind of headache          0   \n",
       "1922  1923en  I'm dying and need someone to translate for me...          0   \n",
       "1923  1924en                                        Flu crisis.          1   \n",
       "1924  1925en  I have a horribly stuffy nose, there's no way ...          0   \n",
       "\n",
       "      Diarrhea  Hayfever  Cough  Headache  Fever  Runnynose  Cold  is_test  \\\n",
       "1920         0         0      0         0      1          0     0     True   \n",
       "1921         0         0      0         0      0          0     0     True   \n",
       "1922         0         0      0         0      0          0     0     True   \n",
       "1923         0         0      0         0      1          0     0     True   \n",
       "1924         0         0      0         0      0          1     0     True   \n",
       "\n",
       "                        labels predictions  \n",
       "1920  [1, 0, 0, 0, 0, 1, 0, 0]              \n",
       "1921  [0, 0, 0, 0, 0, 0, 0, 0]              \n",
       "1922  [0, 0, 0, 0, 0, 0, 0, 0]              \n",
       "1923  [1, 0, 0, 0, 0, 1, 0, 0]              \n",
       "1924  [0, 0, 0, 0, 0, 0, 1, 0]              "
      ]
     },
     "execution_count": 23,
     "metadata": {},
     "output_type": "execute_result"
    }
   ],
   "source": [
    "test_df.head()"
   ]
  },
  {
   "cell_type": "code",
   "execution_count": 24,
   "id": "d715306c",
   "metadata": {
    "hidden": true
   },
   "outputs": [
    {
     "data": {
      "text/plain": [
       "640"
      ]
     },
     "execution_count": 24,
     "metadata": {},
     "output_type": "execute_result"
    }
   ],
   "source": [
    "len(test_df)"
   ]
  },
  {
   "cell_type": "markdown",
   "id": "46007af0",
   "metadata": {
    "hidden": true
   },
   "source": [
    "> **Note:** If we feed all these tweets one by one to ChatGPT via the API, we will likely hit the rate limit. Therefore, we'll rather try a few. "
   ]
  },
  {
   "cell_type": "code",
   "execution_count": 26,
   "id": "6b5dbf14",
   "metadata": {
    "hidden": true
   },
   "outputs": [
    {
     "name": "stdout",
     "output_type": "stream",
     "text": [
      "My cough is so terrible, my stomach muscles hurts bad.\n",
      "[0, 0, 0, 1, 0, 0, 0, 0]\n",
      "They say allergies will be horrid in the spring, but don't they say the same thing every year anyway?\n",
      "[0, 0, 1, 0, 0, 0, 0, 0]\n"
     ]
    }
   ],
   "source": [
    "for tweet in df[\"Tweet\"].sample(2):\n",
    "    pred = get_pred_encoded(tweet)\n",
    "    print(tweet)\n",
    "    print(pred)"
   ]
  },
  {
   "cell_type": "code",
   "execution_count": null,
   "id": "b377caef",
   "metadata": {
    "hidden": true
   },
   "outputs": [],
   "source": [
    "#test_df[\"predictions\"] = test_df[\"Tweet\"].apply(get_pred_encoded)"
   ]
  },
  {
   "cell_type": "code",
   "execution_count": null,
   "id": "8cbb6e3a",
   "metadata": {
    "hidden": true
   },
   "outputs": [],
   "source": []
  }
 ],
 "metadata": {
  "kernelspec": {
   "display_name": "Python [conda env:huggingface]",
   "language": "python",
   "name": "conda-env-huggingface-py"
  },
  "language_info": {
   "codemirror_mode": {
    "name": "ipython",
    "version": 3
   },
   "file_extension": ".py",
   "mimetype": "text/x-python",
   "name": "python",
   "nbconvert_exporter": "python",
   "pygments_lexer": "ipython3",
   "version": "3.10.9"
  },
  "toc": {
   "base_numbering": 1,
   "nav_menu": {},
   "number_sections": true,
   "sideBar": true,
   "skip_h1_title": false,
   "title_cell": "Table of Contents",
   "title_sidebar": "Contents",
   "toc_cell": false,
   "toc_position": {},
   "toc_section_display": true,
   "toc_window_display": false
  }
 },
 "nbformat": 4,
 "nbformat_minor": 5
}
